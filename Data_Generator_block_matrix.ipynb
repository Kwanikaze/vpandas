{
  "nbformat": 4,
  "nbformat_minor": 0,
  "metadata": {
    "colab": {
      "name": "Data_Generator_block_matrix",
      "provenance": [],
      "collapsed_sections": [],
      "authorship_tag": "ABX9TyPNtta5nzSU+SAnHFZxBsYm",
      "include_colab_link": true
    },
    "kernelspec": {
      "name": "python3",
      "display_name": "Python 3"
    }
  },
  "cells": [
    {
      "cell_type": "markdown",
      "metadata": {
        "id": "view-in-github",
        "colab_type": "text"
      },
      "source": [
        "<a href=\"https://colab.research.google.com/github/Kwanikaze/vpandas/blob/master/Data_Generator_block_matrix.ipynb\" target=\"_parent\"><img src=\"https://colab.research.google.com/assets/colab-badge.svg\" alt=\"Open In Colab\"/></a>"
      ]
    },
    {
      "cell_type": "code",
      "metadata": {
        "id": "REMPGRhuj-hF",
        "colab_type": "code",
        "colab": {}
      },
      "source": [
        "import pandas as pd\n",
        "import numpy as np\n",
        "import random\n",
        "import math\n",
        "from scipy.linalg import block_diag"
      ],
      "execution_count": 1,
      "outputs": []
    },
    {
      "cell_type": "code",
      "metadata": {
        "id": "2OXpcWU4XOQ4",
        "colab_type": "code",
        "colab": {}
      },
      "source": [
        "#Just run first 3 cells\n",
        "card_A = 8\n",
        "card_B = card_A\n",
        "card_C = card_A\n",
        "num_blocks = 2 #number of latent types in each count matrice"
      ],
      "execution_count": 2,
      "outputs": []
    },
    {
      "cell_type": "code",
      "metadata": {
        "id": "7CPkMbBMYN5Y",
        "colab_type": "code",
        "colab": {}
      },
      "source": [
        "def create_block_diagonal_matrix(card_1,num_blocks): \n",
        "  #Generate block matrix for groundtruth AB counts\n",
        "  #Create smaller square block matrices of constants to be placed into AB block diagonal matrix\n",
        "  #Determine dimensions of each square block\n",
        "  blocks_dim = math.floor(card_1 / num_blocks)\n",
        "  blocks_dim_list = [blocks_dim]*num_blocks\n",
        "  print(blocks_dim_list)\n",
        "  #Modify dimension of first block so sum of block dimensions equals card_1\n",
        "  blocks_dim_list[0] += (card_1 - sum(blocks_dim_list))\n",
        "  #Create blocks with same constant counts\n",
        "  blocks = []\n",
        "  for dim in blocks_dim_list:\n",
        "    blocks.append(np.ones((dim,dim))*random.randint(3, 5))\n",
        "  return block_diag(*blocks)\n",
        "  #print(blocks_dim_list)\n",
        "  #print(blocks)\n",
        "\n",
        "def counts_table(card_1,card_2,num_blocks, convertToProb, convertToCond):\n",
        "  counts_matrix = create_block_diagonal_matrix(card_1,num_blocks)\n",
        "  if convertToCond:\n",
        "    #counts_matrix = counts_matrix/counts_matrix.sum(axis=1, keepdims=True)\n",
        "    counts_matrix = (counts_matrix.T/counts_matrix.sum(axis=1)).T\n",
        "  #Create columns  \n",
        "  col1 = []\n",
        "  col2 = []\n",
        "  for i in range(0,card_1):\n",
        "    col1.extend([i]*card_2)\n",
        "    for j in range(0,card_2):\n",
        "      col2.extend([j])\n",
        "  #print(col1)\n",
        "  #print(col2)\n",
        "  col_counts = counts_matrix.flatten()\n",
        "  if convertToProb and not convertToCond:\n",
        "    col_counts /= col_counts.sum() #normalize counts to probabilities\n",
        "  #return col_counts\n",
        "  table = np.array([col1,col2,col_counts],dtype=object).T\n",
        "  #print(table)\n",
        "  return table"
      ],
      "execution_count": 3,
      "outputs": []
    },
    {
      "cell_type": "code",
      "metadata": {
        "id": "4RGbKYjDZ6iH",
        "colab_type": "code",
        "colab": {
          "base_uri": "https://localhost:8080/",
          "height": 872
        },
        "outputId": "40877812-04e1-446f-96c9-55e47fe75be8"
      },
      "source": [
        "# Method 2 P(A,B)*P(C|B)\n",
        "AB_prob = counts_table(card_A,card_B,num_blocks,convertToProb=True,convertToCond=False)\n",
        "prob_CgivenB = counts_table(card_B,card_C,num_blocks,convertToProb=True,convertToCond=True)\n",
        "#print(prob_CgivenB)\n",
        "\n",
        "#CgivenB = np.array([colB,colC,prob_CgivenB],dtype=object).T\n",
        "#print(BC)\n",
        "##Generate P(B,C)\n",
        "prob_AB = pd.DataFrame(data = AB_prob,columns=['A','B','P(A,B)'])\n",
        "prob_CgivenB =  pd.DataFrame(data = prob_CgivenB,columns=['B','C','P(C|B)'])\n",
        "\n",
        "#print(prob_AB)\n",
        "#print(prob_CgivenB)\n",
        "#print(np.sum(prob_CgivenB))\n",
        "\n",
        "#Merge prob_AB and prob_CgivenB\n",
        "merged = prob_AB.merge(prob_CgivenB, on=['B'])\n",
        "merged['P(A,B,C)'] = merged['P(A,B)'] * merged['P(C|B)']\n",
        "result = merged\n",
        "result = merged.drop(['P(A,B)', 'P(C|B)'], axis=1)\n",
        "print(result)\n",
        "print(merged['P(A,B,C)'].sum())\n",
        "\n",
        "#Convert probabilities to counts\n",
        "result['P(A,B,C)'] = result['P(A,B,C)']*5*card_A*card_B*card_C\n",
        "print(result)\n",
        "global_population = []\n",
        "newdf = pd.DataFrame(np.repeat(result.values,result['P(A,B,C)'],axis=0))\n",
        "newdf.columns = result.columns\n",
        "print('the min number ' + str(min(newdf['P(A,B,C)'])))\n",
        "del newdf['P(A,B,C)']\n",
        "print(newdf.shape)\n",
        "file_name = 'data_'+str(card_A) + '.csv'\n",
        "newdf.to_csv(file_name,index=False)\n",
        "print(newdf)\n"
      ],
      "execution_count": 4,
      "outputs": [
        {
          "output_type": "stream",
          "text": [
            "[4, 4]\n",
            "[4, 4]\n",
            "     A  B  C    P(A,B,C)\n",
            "0    0  0  0  0.00669643\n",
            "1    0  0  1  0.00669643\n",
            "2    0  0  2  0.00669643\n",
            "3    0  0  3  0.00669643\n",
            "4    0  0  4           0\n",
            "..  .. .. ..         ...\n",
            "507  7  7  3           0\n",
            "508  7  7  4  0.00892857\n",
            "509  7  7  5  0.00892857\n",
            "510  7  7  6  0.00892857\n",
            "511  7  7  7  0.00892857\n",
            "\n",
            "[512 rows x 4 columns]\n",
            "0.9999999999999979\n",
            "     A  B  C P(A,B,C)\n",
            "0    0  0  0  17.1429\n",
            "1    0  0  1  17.1429\n",
            "2    0  0  2  17.1429\n",
            "3    0  0  3  17.1429\n",
            "4    0  0  4        0\n",
            "..  .. .. ..      ...\n",
            "507  7  7  3        0\n",
            "508  7  7  4  22.8571\n",
            "509  7  7  5  22.8571\n",
            "510  7  7  6  22.8571\n",
            "511  7  7  7  22.8571\n",
            "\n",
            "[512 rows x 4 columns]\n",
            "the min number 17.142857142857142\n",
            "(2496, 3)\n",
            "      A  B  C\n",
            "0     0  0  0\n",
            "1     0  0  0\n",
            "2     0  0  0\n",
            "3     0  0  0\n",
            "4     0  0  0\n",
            "...  .. .. ..\n",
            "2491  7  7  7\n",
            "2492  7  7  7\n",
            "2493  7  7  7\n",
            "2494  7  7  7\n",
            "2495  7  7  7\n",
            "\n",
            "[2496 rows x 3 columns]\n"
          ],
          "name": "stdout"
        }
      ]
    },
    {
      "cell_type": "code",
      "metadata": {
        "id": "IP1SQS5CkBjW",
        "colab_type": "code",
        "colab": {
          "base_uri": "https://localhost:8080/",
          "height": 655
        },
        "outputId": "2c8496c7-47f9-412f-b0f8-44a19b4d31c7"
      },
      "source": [
        "#Create truth table columns for A and C\n",
        "colB = []\n",
        "colC = []\n",
        "for i in range(0,card_B):\n",
        "  colB.extend([i]*card_B)\n",
        "  for j in range(0,card_C):\n",
        "    colC.extend([j])\n",
        "print(colB)\n",
        "print(colC)\n",
        "\n",
        "#Generate random values that sum to 1 for P(A,B)\n",
        "s = np.random.random(card_B*card_C)\n",
        "#print(s[1])\n",
        "#s[1] += 50/(card_B*card_C) # Tweak one value to be favourable\n",
        "#print(s[1])\n",
        "s /= s.sum()\n",
        "print(s)\n",
        "\n",
        "#Obtain P(C|B) from P(B,C) / P(B)\n",
        "prob_CgivenB = []\n",
        "for i in range(0,card_B*card_C):\n",
        "  Bval = math.floor(i/card_B)\n",
        "  #print(Bval)\n",
        "  #print(s[i])\n",
        "  #print(s[5*Bval:(5*(Bval+1))])\n",
        "  val = np.sum(s[5*Bval:(5*(Bval+1))])\n",
        "  adjusted_val = s[i] / val\n",
        "  prob_CgivenB.append(adjusted_val) \n",
        "print(prob_CgivenB)\n",
        "print(np.sum(prob_CgivenB))\n",
        "# Create P(A,B,C) from P(AB) and P(BC)\n",
        "\n",
        "CgivenB = np.array([colB,colC,prob_CgivenB],dtype=object).T\n",
        "#print(BC)\n",
        "##Generate P(B,C)\n",
        "prob_CgivenB =  pd.DataFrame(data = CgivenB,columns=['B','C','P(C|B)'])\n",
        "print(prob_CgivenB)"
      ],
      "execution_count": 5,
      "outputs": [
        {
          "output_type": "stream",
          "text": [
            "[0, 0, 0, 0, 0, 0, 0, 0, 1, 1, 1, 1, 1, 1, 1, 1, 2, 2, 2, 2, 2, 2, 2, 2, 3, 3, 3, 3, 3, 3, 3, 3, 4, 4, 4, 4, 4, 4, 4, 4, 5, 5, 5, 5, 5, 5, 5, 5, 6, 6, 6, 6, 6, 6, 6, 6, 7, 7, 7, 7, 7, 7, 7, 7]\n",
            "[0, 1, 2, 3, 4, 5, 6, 7, 0, 1, 2, 3, 4, 5, 6, 7, 0, 1, 2, 3, 4, 5, 6, 7, 0, 1, 2, 3, 4, 5, 6, 7, 0, 1, 2, 3, 4, 5, 6, 7, 0, 1, 2, 3, 4, 5, 6, 7, 0, 1, 2, 3, 4, 5, 6, 7, 0, 1, 2, 3, 4, 5, 6, 7]\n",
            "[1.85598041e-02 7.51749079e-03 1.27777151e-02 1.93100441e-02\n",
            " 4.56826470e-03 1.57903652e-02 9.86793763e-03 1.35055829e-02\n",
            " 3.29871362e-03 1.97097949e-02 2.43834999e-02 1.73893000e-02\n",
            " 1.12087636e-02 1.30631318e-02 1.08700317e-02 1.33185310e-02\n",
            " 7.73005096e-03 1.76470541e-02 2.58108815e-02 1.51309122e-02\n",
            " 2.60164532e-02 3.22381952e-03 8.36543920e-03 1.12814211e-02\n",
            " 2.73756768e-02 2.38825595e-02 2.16222144e-02 1.98935774e-02\n",
            " 1.79065250e-02 6.38873295e-03 1.86393420e-02 2.59791182e-05\n",
            " 1.79266679e-02 1.94032928e-02 1.24126818e-02 1.79364229e-02\n",
            " 2.31321539e-02 2.06035261e-02 7.55485604e-03 4.34675297e-04\n",
            " 2.07790142e-02 1.63177001e-02 5.83508196e-03 1.73072497e-02\n",
            " 2.74178150e-02 8.68106489e-03 1.38087121e-02 9.73432241e-04\n",
            " 2.42850473e-02 2.41378289e-02 2.42539109e-02 1.39221540e-02\n",
            " 1.93255189e-02 2.46974140e-02 1.66662528e-02 1.32406013e-02\n",
            " 2.73235657e-02 2.06587805e-02 3.37136787e-03 1.79811199e-02\n",
            " 2.68675534e-02 1.57112794e-02 1.04039774e-02 2.05496712e-02]\n",
            "[0.2958524186961728, 0.11983250595820637, 0.20368307247001674, 0.3078116134294023, 0.07282038944620195, 0.25170619815900225, 0.15729978629277513, 0.21528564340981263, 0.05305752924836731, 0.3170184316728463, 0.39219174661497797, 0.27969487512232716, 0.18028521728762345, 0.21011144813444743, 0.17483694875889932, 0.2142193679498553, 0.10050157179839485, 0.22943660871106333, 0.33557788688876494, 0.1967232127491082, 0.33825060817541297, 0.041914203534259856, 0.10876251566824936, 0.14667439547976427, 0.34375389631540104, 0.299891138155965, 0.27150818931877113, 0.2498018515527829, 0.22485061358900563, 0.0802227415880595, 0.2340525308464568, 0.0003262174364489522, 0.23506435076317475, 0.2544266711700415, 0.16276192584648386, 0.23519226376634567, 0.30332155343436124, 0.2701647913370736, 0.09906343689055062, 0.005699702095936255, 0.23166660841333453, 0.1819271206230006, 0.06505571596273939, 0.19295967496869257, 0.3056830383981539, 0.09678576848617769, 0.1539542475727916, 0.010852860640797463, 0.3550032191291904, 0.3528511535212161, 0.3545480621709905, 0.2035165688161, 0.2825039346119382, 0.36103127060759094, 0.24363030158905322, 0.19355350695828785, 0.39223262632600736, 0.2965589418237707, 0.04839633626248984, 0.25812084445956746, 0.38568652221451744, 0.22553704835354238, 0.14935017690465288, 0.29499266563407417]\n",
            "13.85004828421149\n",
            "    B  C     P(C|B)\n",
            "0   0  0   0.295852\n",
            "1   0  1   0.119833\n",
            "2   0  2   0.203683\n",
            "3   0  3   0.307812\n",
            "4   0  4  0.0728204\n",
            ".. .. ..        ...\n",
            "59  7  3   0.258121\n",
            "60  7  4   0.385687\n",
            "61  7  5   0.225537\n",
            "62  7  6    0.14935\n",
            "63  7  7   0.294993\n",
            "\n",
            "[64 rows x 3 columns]\n"
          ],
          "name": "stdout"
        }
      ]
    },
    {
      "cell_type": "code",
      "metadata": {
        "id": "nx-0eJOFqxFw",
        "colab_type": "code",
        "colab": {
          "base_uri": "https://localhost:8080/",
          "height": 272
        },
        "outputId": "ab4ee553-7f7a-4a0b-e7ea-7b8e4f0e1c9c"
      },
      "source": [
        "#Merge prob_AB and prob_CgivenB\n",
        "merged = prob_AB.merge(prob_CgivenB, on=['B'])\n",
        "merged['P(A,B,C)'] = merged['P(A,B)'] * merged['P(C|B)']\n",
        "result = merged\n",
        "result = merged.drop(['P(A,B)', 'P(C|B)'], axis=1)\n",
        "print(result)\n",
        "print(merged['P(A,B,C)'].sum())"
      ],
      "execution_count": null,
      "outputs": [
        {
          "output_type": "stream",
          "text": [
            "       A   B   C     P(A,B,C)\n",
            "0      0   0   0  0.000800555\n",
            "1      0   0   1   0.00116339\n",
            "2      0   0   2  0.000120229\n",
            "3      0   0   3  0.000114399\n",
            "4      0   0   4  0.000841971\n",
            "...   ..  ..  ..          ...\n",
            "7995  19  19  15  0.000391907\n",
            "7996  19  19  16  0.000534159\n",
            "7997  19  19  17  0.000711989\n",
            "7998  19  19  18   0.00069543\n",
            "7999  19  19  19   0.00061436\n",
            "\n",
            "[8000 rows x 4 columns]\n",
            "4.28947898243629\n"
          ],
          "name": "stdout"
        }
      ]
    },
    {
      "cell_type": "code",
      "metadata": {
        "id": "xFYUcetGsdUq",
        "colab_type": "code",
        "colab": {
          "base_uri": "https://localhost:8080/",
          "height": 255
        },
        "outputId": "f3c40df8-fbce-4574-f6d2-ca286e10c036"
      },
      "source": [
        "result['P(A,B,C)'] = result['P(A,B,C)']*30*card_A*card_B*card_C\n",
        "print(result)\n",
        "global_population = []\n"
      ],
      "execution_count": null,
      "outputs": [
        {
          "output_type": "stream",
          "text": [
            "       A   B   C P(A,B,C)\n",
            "0      0   0   0  192.133\n",
            "1      0   0   1  279.214\n",
            "2      0   0   2  28.8549\n",
            "3      0   0   3  27.4558\n",
            "4      0   0   4  202.073\n",
            "...   ..  ..  ..      ...\n",
            "7995  19  19  15  94.0578\n",
            "7996  19  19  16  128.198\n",
            "7997  19  19  17  170.877\n",
            "7998  19  19  18  166.903\n",
            "7999  19  19  19  147.446\n",
            "\n",
            "[8000 rows x 4 columns]\n"
          ],
          "name": "stdout"
        }
      ]
    },
    {
      "cell_type": "code",
      "metadata": {
        "id": "ix2bEnud5-Eo",
        "colab_type": "code",
        "colab": {
          "base_uri": "https://localhost:8080/",
          "height": 34
        },
        "outputId": "3c240130-3560-47b8-c362-ca48bb9193f2"
      },
      "source": [
        "newdf = pd.DataFrame(np.repeat(result.values,result['P(A,B,C)'],axis=0))\n",
        "newdf.columns = result.columns\n",
        "del newdf['P(A,B,C)']\n",
        "print(newdf.shape)"
      ],
      "execution_count": null,
      "outputs": [
        {
          "output_type": "stream",
          "text": [
            "(1025485, 3)\n"
          ],
          "name": "stdout"
        }
      ]
    },
    {
      "cell_type": "code",
      "metadata": {
        "id": "hMV_Uut57mUl",
        "colab_type": "code",
        "colab": {}
      },
      "source": [
        "#newdf.to_csv('data_20.csv',index=False)"
      ],
      "execution_count": null,
      "outputs": []
    },
    {
      "cell_type": "code",
      "metadata": {
        "id": "UXTcm53yjLTv",
        "colab_type": "code",
        "colab": {}
      },
      "source": [
        ""
      ],
      "execution_count": null,
      "outputs": []
    },
    {
      "cell_type": "code",
      "metadata": {
        "id": "lEVFzvg6jn-c",
        "colab_type": "code",
        "colab": {
          "base_uri": "https://localhost:8080/",
          "height": 425
        },
        "outputId": "a46bcf06-c1e3-4367-f3e1-ed94cc84bdf4"
      },
      "source": [
        "# Method 1 Counts(A,B)*Counts(B,C) - DOES NOT WORK ppandas gives probabilities P(C|A)>0 where groundtruth P(C|A)= 0\n",
        "AB_counts = count_table(card_A,card_B,num_blocks,convertToProb=False)\n",
        "BC_counts = count_table(card_B,card_C,num_blocks,convertToProb=False)\n",
        "AB_df =  pd.DataFrame(data = AB_counts,columns=['A','B','Counts(A,B)'])\n",
        "BC_df =  pd.DataFrame(data = BC_counts,columns=['B','C','Counts(B,C)'])\n",
        "merged = AB_df.merge(BC_df, on=['B'])\n",
        "print(merged.shape)\n",
        "merged['Counts(A,B,C)'] = merged['Counts(A,B)'] * merged['Counts(B,C)']\n",
        "merged.drop(['Counts(A,B)', 'Counts(B,C)'], axis=1, inplace=True)\n",
        "#print(merged)\n",
        "#print(merged['Counts(A,B,C)'].sum())\n",
        "newdf = pd.DataFrame(np.repeat(merged.values,merged['Counts(A,B,C)'],axis=0))\n",
        "newdf.columns = result.columns\n",
        "del newdf['Counts(A,B,C)']\n",
        "print(newdf.shape)\n",
        "print(newdf)\n",
        "file_name = 'data_'+str(card_A) + '.csv'\n",
        "newdf.to_csv(file_name,index=False)\n",
        "#print(prob_AB)\n",
        "#print(AB_counts)\n",
        "#print(BC_counts)\n"
      ],
      "execution_count": null,
      "outputs": [
        {
          "output_type": "error",
          "ename": "ValueError",
          "evalue": "ignored",
          "traceback": [
            "\u001b[0;31m---------------------------------------------------------------------------\u001b[0m",
            "\u001b[0;31mValueError\u001b[0m                                Traceback (most recent call last)",
            "\u001b[0;32m/usr/local/lib/python3.6/dist-packages/pandas/core/internals/managers.py\u001b[0m in \u001b[0;36mcreate_block_manager_from_blocks\u001b[0;34m(blocks, axes)\u001b[0m\n\u001b[1;32m   1653\u001b[0m                 blocks = [\n\u001b[0;32m-> 1654\u001b[0;31m                     \u001b[0mmake_block\u001b[0m\u001b[0;34m(\u001b[0m\u001b[0mvalues\u001b[0m\u001b[0;34m=\u001b[0m\u001b[0mblocks\u001b[0m\u001b[0;34m[\u001b[0m\u001b[0;36m0\u001b[0m\u001b[0;34m]\u001b[0m\u001b[0;34m,\u001b[0m \u001b[0mplacement\u001b[0m\u001b[0;34m=\u001b[0m\u001b[0mslice\u001b[0m\u001b[0;34m(\u001b[0m\u001b[0;36m0\u001b[0m\u001b[0;34m,\u001b[0m \u001b[0mlen\u001b[0m\u001b[0;34m(\u001b[0m\u001b[0maxes\u001b[0m\u001b[0;34m[\u001b[0m\u001b[0;36m0\u001b[0m\u001b[0;34m]\u001b[0m\u001b[0;34m)\u001b[0m\u001b[0;34m)\u001b[0m\u001b[0;34m)\u001b[0m\u001b[0;34m\u001b[0m\u001b[0;34m\u001b[0m\u001b[0m\n\u001b[0m\u001b[1;32m   1655\u001b[0m                 ]\n",
            "\u001b[0;32m/usr/local/lib/python3.6/dist-packages/pandas/core/internals/blocks.py\u001b[0m in \u001b[0;36mmake_block\u001b[0;34m(values, placement, klass, ndim, dtype)\u001b[0m\n\u001b[1;32m   3052\u001b[0m \u001b[0;34m\u001b[0m\u001b[0m\n\u001b[0;32m-> 3053\u001b[0;31m     \u001b[0;32mreturn\u001b[0m \u001b[0mklass\u001b[0m\u001b[0;34m(\u001b[0m\u001b[0mvalues\u001b[0m\u001b[0;34m,\u001b[0m \u001b[0mndim\u001b[0m\u001b[0;34m=\u001b[0m\u001b[0mndim\u001b[0m\u001b[0;34m,\u001b[0m \u001b[0mplacement\u001b[0m\u001b[0;34m=\u001b[0m\u001b[0mplacement\u001b[0m\u001b[0;34m)\u001b[0m\u001b[0;34m\u001b[0m\u001b[0;34m\u001b[0m\u001b[0m\n\u001b[0m\u001b[1;32m   3054\u001b[0m \u001b[0;34m\u001b[0m\u001b[0m\n",
            "\u001b[0;32m/usr/local/lib/python3.6/dist-packages/pandas/core/internals/blocks.py\u001b[0m in \u001b[0;36m__init__\u001b[0;34m(self, values, placement, ndim)\u001b[0m\n\u001b[1;32m    124\u001b[0m             raise ValueError(\n\u001b[0;32m--> 125\u001b[0;31m                 \u001b[0;34mf\"Wrong number of items passed {len(self.values)}, \"\u001b[0m\u001b[0;34m\u001b[0m\u001b[0;34m\u001b[0m\u001b[0m\n\u001b[0m\u001b[1;32m    126\u001b[0m                 \u001b[0;34mf\"placement implies {len(self.mgr_locs)}\"\u001b[0m\u001b[0;34m\u001b[0m\u001b[0;34m\u001b[0m\u001b[0m\n",
            "\u001b[0;31mValueError\u001b[0m: Wrong number of items passed 1, placement implies 3",
            "\nDuring handling of the above exception, another exception occurred:\n",
            "\u001b[0;31mValueError\u001b[0m                                Traceback (most recent call last)",
            "\u001b[0;32m<ipython-input-98-a107aceb4182>\u001b[0m in \u001b[0;36m<module>\u001b[0;34m()\u001b[0m\n\u001b[1;32m      2\u001b[0m \u001b[0mAB_counts\u001b[0m \u001b[0;34m=\u001b[0m \u001b[0mcount_table\u001b[0m\u001b[0;34m(\u001b[0m\u001b[0mcard_A\u001b[0m\u001b[0;34m,\u001b[0m\u001b[0mcard_B\u001b[0m\u001b[0;34m,\u001b[0m\u001b[0mnum_blocks\u001b[0m\u001b[0;34m,\u001b[0m\u001b[0mconvertToProb\u001b[0m\u001b[0;34m=\u001b[0m\u001b[0;32mFalse\u001b[0m\u001b[0;34m)\u001b[0m\u001b[0;34m\u001b[0m\u001b[0;34m\u001b[0m\u001b[0m\n\u001b[1;32m      3\u001b[0m \u001b[0mBC_counts\u001b[0m \u001b[0;34m=\u001b[0m \u001b[0mcount_table\u001b[0m\u001b[0;34m(\u001b[0m\u001b[0mcard_B\u001b[0m\u001b[0;34m,\u001b[0m\u001b[0mcard_C\u001b[0m\u001b[0;34m,\u001b[0m\u001b[0mnum_blocks\u001b[0m\u001b[0;34m,\u001b[0m\u001b[0mconvertToProb\u001b[0m\u001b[0;34m=\u001b[0m\u001b[0;32mFalse\u001b[0m\u001b[0;34m)\u001b[0m\u001b[0;34m\u001b[0m\u001b[0;34m\u001b[0m\u001b[0m\n\u001b[0;32m----> 4\u001b[0;31m \u001b[0mAB_df\u001b[0m \u001b[0;34m=\u001b[0m  \u001b[0mpd\u001b[0m\u001b[0;34m.\u001b[0m\u001b[0mDataFrame\u001b[0m\u001b[0;34m(\u001b[0m\u001b[0mdata\u001b[0m \u001b[0;34m=\u001b[0m \u001b[0mAB_counts\u001b[0m\u001b[0;34m,\u001b[0m\u001b[0mcolumns\u001b[0m\u001b[0;34m=\u001b[0m\u001b[0;34m[\u001b[0m\u001b[0;34m'A'\u001b[0m\u001b[0;34m,\u001b[0m\u001b[0;34m'B'\u001b[0m\u001b[0;34m,\u001b[0m\u001b[0;34m'Counts(A,B)'\u001b[0m\u001b[0;34m]\u001b[0m\u001b[0;34m)\u001b[0m\u001b[0;34m\u001b[0m\u001b[0;34m\u001b[0m\u001b[0m\n\u001b[0m\u001b[1;32m      5\u001b[0m \u001b[0mBC_df\u001b[0m \u001b[0;34m=\u001b[0m  \u001b[0mpd\u001b[0m\u001b[0;34m.\u001b[0m\u001b[0mDataFrame\u001b[0m\u001b[0;34m(\u001b[0m\u001b[0mdata\u001b[0m \u001b[0;34m=\u001b[0m \u001b[0mBC_counts\u001b[0m\u001b[0;34m,\u001b[0m\u001b[0mcolumns\u001b[0m\u001b[0;34m=\u001b[0m\u001b[0;34m[\u001b[0m\u001b[0;34m'B'\u001b[0m\u001b[0;34m,\u001b[0m\u001b[0;34m'C'\u001b[0m\u001b[0;34m,\u001b[0m\u001b[0;34m'Counts(B,C)'\u001b[0m\u001b[0;34m]\u001b[0m\u001b[0;34m)\u001b[0m\u001b[0;34m\u001b[0m\u001b[0;34m\u001b[0m\u001b[0m\n\u001b[1;32m      6\u001b[0m \u001b[0mmerged\u001b[0m \u001b[0;34m=\u001b[0m \u001b[0mAB_df\u001b[0m\u001b[0;34m.\u001b[0m\u001b[0mmerge\u001b[0m\u001b[0;34m(\u001b[0m\u001b[0mBC_df\u001b[0m\u001b[0;34m,\u001b[0m \u001b[0mon\u001b[0m\u001b[0;34m=\u001b[0m\u001b[0;34m[\u001b[0m\u001b[0;34m'B'\u001b[0m\u001b[0;34m]\u001b[0m\u001b[0;34m)\u001b[0m\u001b[0;34m\u001b[0m\u001b[0;34m\u001b[0m\u001b[0m\n",
            "\u001b[0;32m/usr/local/lib/python3.6/dist-packages/pandas/core/frame.py\u001b[0m in \u001b[0;36m__init__\u001b[0;34m(self, data, index, columns, dtype, copy)\u001b[0m\n\u001b[1;32m    462\u001b[0m                 \u001b[0mmgr\u001b[0m \u001b[0;34m=\u001b[0m \u001b[0minit_dict\u001b[0m\u001b[0;34m(\u001b[0m\u001b[0;34m{\u001b[0m\u001b[0mdata\u001b[0m\u001b[0;34m.\u001b[0m\u001b[0mname\u001b[0m\u001b[0;34m:\u001b[0m \u001b[0mdata\u001b[0m\u001b[0;34m}\u001b[0m\u001b[0;34m,\u001b[0m \u001b[0mindex\u001b[0m\u001b[0;34m,\u001b[0m \u001b[0mcolumns\u001b[0m\u001b[0;34m,\u001b[0m \u001b[0mdtype\u001b[0m\u001b[0;34m=\u001b[0m\u001b[0mdtype\u001b[0m\u001b[0;34m)\u001b[0m\u001b[0;34m\u001b[0m\u001b[0;34m\u001b[0m\u001b[0m\n\u001b[1;32m    463\u001b[0m             \u001b[0;32melse\u001b[0m\u001b[0;34m:\u001b[0m\u001b[0;34m\u001b[0m\u001b[0;34m\u001b[0m\u001b[0m\n\u001b[0;32m--> 464\u001b[0;31m                 \u001b[0mmgr\u001b[0m \u001b[0;34m=\u001b[0m \u001b[0minit_ndarray\u001b[0m\u001b[0;34m(\u001b[0m\u001b[0mdata\u001b[0m\u001b[0;34m,\u001b[0m \u001b[0mindex\u001b[0m\u001b[0;34m,\u001b[0m \u001b[0mcolumns\u001b[0m\u001b[0;34m,\u001b[0m \u001b[0mdtype\u001b[0m\u001b[0;34m=\u001b[0m\u001b[0mdtype\u001b[0m\u001b[0;34m,\u001b[0m \u001b[0mcopy\u001b[0m\u001b[0;34m=\u001b[0m\u001b[0mcopy\u001b[0m\u001b[0;34m)\u001b[0m\u001b[0;34m\u001b[0m\u001b[0;34m\u001b[0m\u001b[0m\n\u001b[0m\u001b[1;32m    465\u001b[0m \u001b[0;34m\u001b[0m\u001b[0m\n\u001b[1;32m    466\u001b[0m         \u001b[0;31m# For data is list-like, or Iterable (will consume into list)\u001b[0m\u001b[0;34m\u001b[0m\u001b[0;34m\u001b[0m\u001b[0;34m\u001b[0m\u001b[0m\n",
            "\u001b[0;32m/usr/local/lib/python3.6/dist-packages/pandas/core/internals/construction.py\u001b[0m in \u001b[0;36minit_ndarray\u001b[0;34m(values, index, columns, dtype, copy)\u001b[0m\n\u001b[1;32m    208\u001b[0m         \u001b[0mblock_values\u001b[0m \u001b[0;34m=\u001b[0m \u001b[0;34m[\u001b[0m\u001b[0mvalues\u001b[0m\u001b[0;34m]\u001b[0m\u001b[0;34m\u001b[0m\u001b[0;34m\u001b[0m\u001b[0m\n\u001b[1;32m    209\u001b[0m \u001b[0;34m\u001b[0m\u001b[0m\n\u001b[0;32m--> 210\u001b[0;31m     \u001b[0;32mreturn\u001b[0m \u001b[0mcreate_block_manager_from_blocks\u001b[0m\u001b[0;34m(\u001b[0m\u001b[0mblock_values\u001b[0m\u001b[0;34m,\u001b[0m \u001b[0;34m[\u001b[0m\u001b[0mcolumns\u001b[0m\u001b[0;34m,\u001b[0m \u001b[0mindex\u001b[0m\u001b[0;34m]\u001b[0m\u001b[0;34m)\u001b[0m\u001b[0;34m\u001b[0m\u001b[0;34m\u001b[0m\u001b[0m\n\u001b[0m\u001b[1;32m    211\u001b[0m \u001b[0;34m\u001b[0m\u001b[0m\n\u001b[1;32m    212\u001b[0m \u001b[0;34m\u001b[0m\u001b[0m\n",
            "\u001b[0;32m/usr/local/lib/python3.6/dist-packages/pandas/core/internals/managers.py\u001b[0m in \u001b[0;36mcreate_block_manager_from_blocks\u001b[0;34m(blocks, axes)\u001b[0m\n\u001b[1;32m   1662\u001b[0m         \u001b[0mblocks\u001b[0m \u001b[0;34m=\u001b[0m \u001b[0;34m[\u001b[0m\u001b[0mgetattr\u001b[0m\u001b[0;34m(\u001b[0m\u001b[0mb\u001b[0m\u001b[0;34m,\u001b[0m \u001b[0;34m\"values\"\u001b[0m\u001b[0;34m,\u001b[0m \u001b[0mb\u001b[0m\u001b[0;34m)\u001b[0m \u001b[0;32mfor\u001b[0m \u001b[0mb\u001b[0m \u001b[0;32min\u001b[0m \u001b[0mblocks\u001b[0m\u001b[0;34m]\u001b[0m\u001b[0;34m\u001b[0m\u001b[0;34m\u001b[0m\u001b[0m\n\u001b[1;32m   1663\u001b[0m         \u001b[0mtot_items\u001b[0m \u001b[0;34m=\u001b[0m \u001b[0msum\u001b[0m\u001b[0;34m(\u001b[0m\u001b[0mb\u001b[0m\u001b[0;34m.\u001b[0m\u001b[0mshape\u001b[0m\u001b[0;34m[\u001b[0m\u001b[0;36m0\u001b[0m\u001b[0;34m]\u001b[0m \u001b[0;32mfor\u001b[0m \u001b[0mb\u001b[0m \u001b[0;32min\u001b[0m \u001b[0mblocks\u001b[0m\u001b[0;34m)\u001b[0m\u001b[0;34m\u001b[0m\u001b[0;34m\u001b[0m\u001b[0m\n\u001b[0;32m-> 1664\u001b[0;31m         \u001b[0mconstruction_error\u001b[0m\u001b[0;34m(\u001b[0m\u001b[0mtot_items\u001b[0m\u001b[0;34m,\u001b[0m \u001b[0mblocks\u001b[0m\u001b[0;34m[\u001b[0m\u001b[0;36m0\u001b[0m\u001b[0;34m]\u001b[0m\u001b[0;34m.\u001b[0m\u001b[0mshape\u001b[0m\u001b[0;34m[\u001b[0m\u001b[0;36m1\u001b[0m\u001b[0;34m:\u001b[0m\u001b[0;34m]\u001b[0m\u001b[0;34m,\u001b[0m \u001b[0maxes\u001b[0m\u001b[0;34m,\u001b[0m \u001b[0me\u001b[0m\u001b[0;34m)\u001b[0m\u001b[0;34m\u001b[0m\u001b[0;34m\u001b[0m\u001b[0m\n\u001b[0m\u001b[1;32m   1665\u001b[0m \u001b[0;34m\u001b[0m\u001b[0m\n\u001b[1;32m   1666\u001b[0m \u001b[0;34m\u001b[0m\u001b[0m\n",
            "\u001b[0;32m/usr/local/lib/python3.6/dist-packages/pandas/core/internals/managers.py\u001b[0m in \u001b[0;36mconstruction_error\u001b[0;34m(tot_items, block_shape, axes, e)\u001b[0m\n\u001b[1;32m   1692\u001b[0m     \u001b[0;32mif\u001b[0m \u001b[0mblock_shape\u001b[0m\u001b[0;34m[\u001b[0m\u001b[0;36m0\u001b[0m\u001b[0;34m]\u001b[0m \u001b[0;34m==\u001b[0m \u001b[0;36m0\u001b[0m\u001b[0;34m:\u001b[0m\u001b[0;34m\u001b[0m\u001b[0;34m\u001b[0m\u001b[0m\n\u001b[1;32m   1693\u001b[0m         \u001b[0;32mraise\u001b[0m \u001b[0mValueError\u001b[0m\u001b[0;34m(\u001b[0m\u001b[0;34m\"Empty data passed with indices specified.\"\u001b[0m\u001b[0;34m)\u001b[0m\u001b[0;34m\u001b[0m\u001b[0;34m\u001b[0m\u001b[0m\n\u001b[0;32m-> 1694\u001b[0;31m     \u001b[0;32mraise\u001b[0m \u001b[0mValueError\u001b[0m\u001b[0;34m(\u001b[0m\u001b[0;34mf\"Shape of passed values is {passed}, indices imply {implied}\"\u001b[0m\u001b[0;34m)\u001b[0m\u001b[0;34m\u001b[0m\u001b[0;34m\u001b[0m\u001b[0m\n\u001b[0m\u001b[1;32m   1695\u001b[0m \u001b[0;34m\u001b[0m\u001b[0m\n\u001b[1;32m   1696\u001b[0m \u001b[0;34m\u001b[0m\u001b[0m\n",
            "\u001b[0;31mValueError\u001b[0m: Shape of passed values is (25, 1), indices imply (25, 3)"
          ]
        }
      ]
    }
  ]
}