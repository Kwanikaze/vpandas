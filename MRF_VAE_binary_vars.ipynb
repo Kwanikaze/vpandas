{
  "nbformat": 4,
  "nbformat_minor": 0,
  "metadata": {
    "colab": {
      "name": "MRF_VAE_binary_vars",
      "provenance": [],
      "collapsed_sections": [
        "tvSWt2iUw9xE",
        "_bTvWAZ9UARW",
        "t5whHhIl14l5"
      ],
      "toc_visible": true,
      "authorship_tag": "ABX9TyNk+K08dBLyQ4OjrP1jLM+R",
      "include_colab_link": true
    },
    "kernelspec": {
      "name": "python3",
      "display_name": "Python 3"
    }
  },
  "cells": [
    {
      "cell_type": "markdown",
      "metadata": {
        "id": "view-in-github",
        "colab_type": "text"
      },
      "source": [
        "<a href=\"https://colab.research.google.com/github/Kwanikaze/vpandas/blob/master/MRF_VAE_binary_vars.ipynb\" target=\"_parent\"><img src=\"https://colab.research.google.com/assets/colab-badge.svg\" alt=\"Open In Colab\"/></a>"
      ]
    },
    {
      "cell_type": "code",
      "metadata": {
        "id": "oZaO7CHX93gN",
        "colab": {
          "base_uri": "https://localhost:8080/"
        },
        "outputId": "c4911fdb-0424-440f-b50b-1ad58a778047"
      },
      "source": [
        "import pandas as pd\n",
        "import torch\n",
        "import torch.nn as nn\n",
        "import torch.nn.functional as F\n",
        "from torch.autograd import Variable\n",
        "import matplotlib.pyplot as plt\n",
        "import numpy as np\n",
        "from torch.distributions.multivariate_normal import MultivariateNormal\n",
        "\n",
        "!pip install pgmpy==0.1.9\n",
        "import pgmpy\n",
        "import networkx as nx\n",
        "from pgmpy.models import BayesianModel\n",
        "from pgmpy.inference import VariableElimination\n",
        "\n",
        "!pip install -i https://test.pypi.org/simple/ PPandas==0.0.1.7.1\n",
        "!pip install python-intervals\n",
        "!pip install geopandas\n",
        "!pip install geovoronoi\n",
        "import ppandas\n",
        "from ppandas import PDataFrame"
      ],
      "execution_count": 1,
      "outputs": [
        {
          "output_type": "stream",
          "text": [
            "Requirement already satisfied: pgmpy==0.1.9 in /usr/local/lib/python3.6/dist-packages (0.1.9)\n",
            "Looking in indexes: https://test.pypi.org/simple/\n",
            "Requirement already satisfied: PPandas==0.0.1.7.1 in /usr/local/lib/python3.6/dist-packages (0.0.1.7.1)\n",
            "Requirement already satisfied: python-intervals in /usr/local/lib/python3.6/dist-packages (1.10.0.post1)\n",
            "Requirement already satisfied: geopandas in /usr/local/lib/python3.6/dist-packages (0.8.2)\n",
            "Requirement already satisfied: pandas>=0.23.0 in /usr/local/lib/python3.6/dist-packages (from geopandas) (1.1.5)\n",
            "Requirement already satisfied: pyproj>=2.2.0 in /usr/local/lib/python3.6/dist-packages (from geopandas) (3.0.0.post1)\n",
            "Requirement already satisfied: shapely in /usr/local/lib/python3.6/dist-packages (from geopandas) (1.7.1)\n",
            "Requirement already satisfied: fiona in /usr/local/lib/python3.6/dist-packages (from geopandas) (1.8.18)\n",
            "Requirement already satisfied: python-dateutil>=2.7.3 in /usr/local/lib/python3.6/dist-packages (from pandas>=0.23.0->geopandas) (2.8.1)\n",
            "Requirement already satisfied: numpy>=1.15.4 in /usr/local/lib/python3.6/dist-packages (from pandas>=0.23.0->geopandas) (1.19.5)\n",
            "Requirement already satisfied: pytz>=2017.2 in /usr/local/lib/python3.6/dist-packages (from pandas>=0.23.0->geopandas) (2018.9)\n",
            "Requirement already satisfied: certifi in /usr/local/lib/python3.6/dist-packages (from pyproj>=2.2.0->geopandas) (2020.12.5)\n",
            "Requirement already satisfied: six>=1.7 in /usr/local/lib/python3.6/dist-packages (from fiona->geopandas) (1.15.0)\n",
            "Requirement already satisfied: cligj>=0.5 in /usr/local/lib/python3.6/dist-packages (from fiona->geopandas) (0.7.1)\n",
            "Requirement already satisfied: attrs>=17 in /usr/local/lib/python3.6/dist-packages (from fiona->geopandas) (20.3.0)\n",
            "Requirement already satisfied: click<8,>=4.0 in /usr/local/lib/python3.6/dist-packages (from fiona->geopandas) (7.1.2)\n",
            "Requirement already satisfied: click-plugins>=1.0 in /usr/local/lib/python3.6/dist-packages (from fiona->geopandas) (1.1.1)\n",
            "Requirement already satisfied: munch in /usr/local/lib/python3.6/dist-packages (from fiona->geopandas) (2.5.0)\n",
            "Requirement already satisfied: geovoronoi in /usr/local/lib/python3.6/dist-packages (0.2.0)\n",
            "Requirement already satisfied: shapely>=1.7.0 in /usr/local/lib/python3.6/dist-packages (from geovoronoi) (1.7.1)\n",
            "Requirement already satisfied: numpy>=1.18.0 in /usr/local/lib/python3.6/dist-packages (from geovoronoi) (1.19.5)\n",
            "Requirement already satisfied: scipy>=1.4.0 in /usr/local/lib/python3.6/dist-packages (from geovoronoi) (1.4.1)\n"
          ],
          "name": "stdout"
        }
      ]
    },
    {
      "cell_type": "markdown",
      "metadata": {
        "id": "6iNkadXIh0gD"
      },
      "source": [
        "# Load Data and Create Sample Datasets"
      ]
    },
    {
      "cell_type": "code",
      "metadata": {
        "id": "p9UE259FbtK1"
      },
      "source": [
        "# Function to create OHE dataset for specified attributes given a global df\n",
        "def OHE_sample(sample_df, features_to_OHE: list):\n",
        "  for feature in features_to_OHE:\n",
        "    feature_OHE = pd.get_dummies(prefix = feature,data= sample_df[feature])\n",
        "    sample_df = pd.concat([sample_df,feature_OHE],axis=1)\n",
        "  sample_df.drop(features_to_OHE,axis=1,inplace=True)\n",
        "  print(sample_df)\n",
        "  return sample_df"
      ],
      "execution_count": 2,
      "outputs": []
    },
    {
      "cell_type": "code",
      "metadata": {
        "id": "RykDGUc_-Q2Y",
        "colab": {
          "base_uri": "https://localhost:8080/"
        },
        "outputId": "6ac96dcd-cd45-4ac0-f770-490ecbe2ed46"
      },
      "source": [
        "#Hardcode 2x2 P(A,B)\n",
        "# Load global relation from github\n",
        "from numpy import genfromtxt\n",
        "data_2 = genfromtxt('https://raw.githubusercontent.com/Kwanikaze/vpandas/master/data_2.csv?token=ADHT6UCKSGOEANAAQWTKGL3ACDPPS', delimiter=',',skip_header=1)\n",
        "data_2_1000 = np.tile(data_2, (100, 1))\n",
        "mean = np.mean(data_2_1000, axis=0)\n",
        "cov = np.cov(data_2_1000, rowvar=0)\n",
        "print(\"Mean Vector\")\n",
        "print(mean)\n",
        "print(\"Covariance Matrix\")\n",
        "print(cov)\n",
        "#print(data_2.shape)\n",
        "#print(data_2_1000.shape)\n",
        "df = pd.DataFrame(pd.np.tile(data_2, (100, 1)))\n",
        "df.columns=['A','B']\n",
        "df=df.astype(int)\n",
        "#print(df)\n",
        "#df.to_csv('data_2_1000rows.csv',index=False)\n",
        "\n",
        "\n",
        "#df = pd.read_csv(\"data_2_1000rows.csv\") # 3columns A,B,C that each contain values 0 to 1, block diagonal\n",
        "print(df.shape)\n",
        "\n",
        "#Create two datasets containing AB and BC\n",
        "num_samples = 500\n",
        "sample1_df = df[['A','B']].sample(n=num_samples, random_state=2)\n",
        "print(sample1_df.shape)\n",
        "print(sample1_df.head())\n",
        "#sample2_df = df[['B','C']].sample(n=num_samples, random_state=3)\n",
        "#print(sample2_df.head())\n",
        "\n",
        "# Make A,B,C inputs all 8 bits\n",
        "#Could add noise so not exactly OHE: 0.01...0.9...0.01\n",
        "sample1_OHE = OHE_sample(sample1_df,['A','B'])\n",
        "#sample2_OHE = OHE_sample(sample2_df,['B','C'])\n",
        "\n",
        "# Could onvert pandas dataframes to list of lists of lists\n",
        "# [ [[OHE A1],[OHE B1]], [[OHE A2],[OHE B2]], ...  ]"
      ],
      "execution_count": 3,
      "outputs": [
        {
          "output_type": "stream",
          "text": [
            "Mean Vector\n",
            "[0.6 0.5]\n",
            "Covariance Matrix\n",
            "[[0.24024024 0.1001001 ]\n",
            " [0.1001001  0.25025025]]\n",
            "(1000, 2)\n",
            "(500, 2)\n",
            "     A  B\n",
            "37   1  1\n",
            "726  1  1\n",
            "846  1  1\n",
            "295  1  0\n",
            "924  1  0\n",
            "     A_0  A_1  B_0  B_1\n",
            "37     0    1    0    1\n",
            "726    0    1    0    1\n",
            "846    0    1    0    1\n",
            "295    0    1    1    0\n",
            "924    0    1    1    0\n",
            "..   ...  ...  ...  ...\n",
            "194    0    1    1    0\n",
            "136    0    1    0    1\n",
            "581    1    0    1    0\n",
            "662    1    0    1    0\n",
            "671    1    0    1    0\n",
            "\n",
            "[500 rows x 4 columns]\n"
          ],
          "name": "stdout"
        },
        {
          "output_type": "stream",
          "text": [
            "/usr/local/lib/python3.6/dist-packages/ipykernel_launcher.py:14: FutureWarning: The pandas.np module is deprecated and will be removed from pandas in a future version. Import numpy directly instead\n",
            "  \n"
          ],
          "name": "stderr"
        }
      ]
    },
    {
      "cell_type": "markdown",
      "metadata": {
        "id": "tvSWt2iUw9xE"
      },
      "source": [
        "# Global Relation Bayesian Network Ground Truth"
      ]
    },
    {
      "cell_type": "markdown",
      "metadata": {
        "id": "Up-Ps6PEoQB4"
      },
      "source": [
        "P(A,B) = \r\n",
        "*   P(A=0,B=0) = 0.3\r\n",
        "*P(A=0,B=1) = 0.1\r\n",
        "*P(A=1,B=0) = 0.2\r\n",
        "*P(A=1,B=1) = 0.4\r\n",
        "\r\n",
        "\r\n",
        "\r\n",
        "\r\n"
      ]
    },
    {
      "cell_type": "code",
      "metadata": {
        "id": "ubgZqS2rxNrH",
        "colab": {
          "base_uri": "https://localhost:8080/",
          "height": 0
        },
        "outputId": "49681e03-6e17-413e-cb95-ad70b6709e64"
      },
      "source": [
        "def groundTruth(df,query_attribute,evidence):\n",
        "    \"\"\"\n",
        "    Extracts ground truth from global relation\n",
        "    \"\"\"\n",
        "    model = BayesianModel([('B', 'A')])\n",
        "    model.fit(df)\n",
        "    nx.draw(model, with_labels=True)\n",
        "    plt.show()\n",
        "    print('\\n Global Relation Ground Truth')\n",
        "    #for var in model.nodes():\n",
        "    #    print(model.get_cpds(var))\n",
        "    inference = VariableElimination(model)\n",
        "    \n",
        "    #q = inference.query(variables=['A','B','C'])\n",
        "    #joint_prob = q.values.flatten()\n",
        "    #print(joint_prob)\n",
        "    #print('\\n P(A,B,C) \\n Ground Truth')\n",
        "    #print(q)\n",
        "    q = inference.query(variables=[query_attribute], evidence=evidence)\n",
        "    print(q)\n",
        "\n",
        "print('\\n P(B|A=0) Ground Truth')\n",
        "groundTruth(df,query_attribute = 'B', evidence = {'A':0})\n",
        "\n",
        "print('\\n P(A|B=0) Ground Truth')\n",
        "groundTruth(df,query_attribute = 'B', evidence = {'A':1})"
      ],
      "execution_count": 4,
      "outputs": [
        {
          "output_type": "stream",
          "text": [
            "\n",
            " P(B|A=0) Ground Truth\n"
          ],
          "name": "stdout"
        },
        {
          "output_type": "stream",
          "text": [
            "/usr/local/lib/python3.6/dist-packages/statsmodels/tools/_testing.py:19: FutureWarning: pandas.util.testing is deprecated. Use the functions in the public API at pandas.testing instead.\n",
            "  import pandas.util.testing as tm\n"
          ],
          "name": "stderr"
        },
        {
          "output_type": "display_data",
          "data": {
            "image/png": "[encoded data removed]",
            "text/plain": [
              "<Figure size 432x288 with 1 Axes>"
            ]
          },
          "metadata": {
            "tags": []
          }
        },
        {
          "output_type": "stream",
          "text": [
            "Finding Elimination Order: : : 0it [00:00, ?it/s]\n",
            "0it [00:00, ?it/s]"
          ],
          "name": "stderr"
        },
        {
          "output_type": "stream",
          "text": [
            "\n",
            " Global Relation Ground Truth\n",
            "+------+----------+\n",
            "| B    |   phi(B) |\n",
            "+======+==========+\n",
            "| B(0) |   0.7500 |\n",
            "+------+----------+\n",
            "| B(1) |   0.2500 |\n",
            "+------+----------+\n",
            "\n",
            " P(A|B=0) Ground Truth\n"
          ],
          "name": "stdout"
        },
        {
          "output_type": "stream",
          "text": [
            "\n"
          ],
          "name": "stderr"
        },
        {
          "output_type": "display_data",
          "data": {
            "image/png": "[encoded data removed]",
            "text/plain": [
              "<Figure size 432x288 with 1 Axes>"
            ]
          },
          "metadata": {
            "tags": []
          }
        },
        {
          "output_type": "stream",
          "text": [
            "Finding Elimination Order: : : 0it [00:00, ?it/s]\n",
            "0it [00:00, ?it/s]"
          ],
          "name": "stderr"
        },
        {
          "output_type": "stream",
          "text": [
            "\n",
            " Global Relation Ground Truth\n",
            "+------+----------+\n",
            "| B    |   phi(B) |\n",
            "+======+==========+\n",
            "| B(0) |   0.3333 |\n",
            "+------+----------+\n",
            "| B(1) |   0.6667 |\n",
            "+------+----------+\n"
          ],
          "name": "stdout"
        },
        {
          "output_type": "stream",
          "text": [
            "\n"
          ],
          "name": "stderr"
        }
      ]
    },
    {
      "cell_type": "markdown",
      "metadata": {
        "id": "_bTvWAZ9UARW"
      },
      "source": [
        "# ppandas"
      ]
    },
    {
      "cell_type": "code",
      "metadata": {
        "id": "Bto996MFUCnN",
        "colab": {
          "base_uri": "https://localhost:8080/"
        },
        "outputId": "6de08be4-0a50-4fa1-e017-d14e670f5f73"
      },
      "source": [
        "def ppandas_query(sample1_df,num_samples,query_attribute,evidence):\n",
        "    pd1 = PDataFrame(['B'],sample1_df)\n",
        "    q = pd1.query(['A','B'])\n",
        "    cols = q.columns.tolist()\n",
        "    q = q.rename(columns={q.columns[2]:'Probability(A,B)'})\n",
        "    #Reorder columns\n",
        "    q = q[['A','B','Probability(A,B)']]\n",
        "    q= q.sort_values(by=['A','B'])\n",
        "    #print(q)\n",
        "    #Sort rows in dataframe by descending order\n",
        "    print(\"\\n ppandas P({}|{}) , n={} \\n \".format(query_attribute,evidence,num_samples))\n",
        "    q1 = pd1.query([query_attribute],evidence_vars=evidence)\n",
        "    print(q1)\n",
        "    q1 = pd1.map_query([query_attribute],evidence_vars=evidence)\n",
        "    #pd_join.visualise()\n",
        "    return q1\n",
        "\n",
        "q1 = ppandas_query(sample1_df,num_samples,query_attribute='B',evidence={'A':0})\n",
        "q1 = ppandas_query(sample1_df,num_samples,query_attribute='B',evidence={'A':1})\n",
        "#print(ppandas_C)"
      ],
      "execution_count": 5,
      "outputs": [
        {
          "output_type": "stream",
          "text": [
            "\n",
            " ppandas P(B|{'A': 0}) , n=500 \n",
            " \n",
            "     B  Probability(B)\n",
            "0  0.0        0.770732\n",
            "1  1.0        0.229268\n",
            "\n",
            " ppandas P(B|{'A': 1}) , n=500 \n",
            " \n",
            "     B  Probability(B)\n",
            "0  0.0        0.318644\n",
            "1  1.0        0.681356\n"
          ],
          "name": "stdout"
        }
      ]
    },
    {
      "cell_type": "markdown",
      "metadata": {
        "id": "eA3YIf_-iAm8"
      },
      "source": [
        "# VAE-MRF Architecture"
      ]
    },
    {
      "cell_type": "markdown",
      "metadata": {
        "id": "V1Re5YHgVF-q"
      },
      "source": [
        "A Gaussian Markov Random Field is a Gaussian Process with a linear kernel (covariance function). $k(x,x') = x \\cdot x'$\n",
        "\n",
        "\n",
        "Pg 16: \n",
        "\"Fortunately,\n",
        "in probabilistic terms this operation is extremely simple, corresponding to conditioning the joint Gaussian prior distribution on the observations\"\n",
        "\n",
        "## Multivariate Normal\n",
        "Koller Equation 7.3: \\\\\n",
        "$P(z_A,z_B) = Normal\n",
        "\\left(\\left( \\begin{array}{r} \\mu_A \\\\ \\mu_B \\end{array} \\right), \n",
        "\\left[ \\begin{array}{r} \\Sigma_{A} & \\Sigma_{AB} \\\\ \\Sigma_{BA} & \\Sigma_{B} \\end{array} \\right] \\right) $ \n",
        "\n",
        "which is equivalent to the Matrix Cookbook (353 and 354) https://www.math.uwaterloo.ca/~hwolkowi/matrixcookbook.pdf: \\\\\n",
        "$P(z_A|z_B) = Normal_{z_A}(\\hat{\\mu}_A, \\hat{\\Sigma}_A)$ \\\\\n",
        "where: \\\\\n",
        "$\\hat{\\mu}_A = \\mu_A + \\Sigma_{AB} \\Sigma_{B}^{-1}(z_B - \\mu_B)$ \\\\\n",
        "$\\hat{\\Sigma}_A = \\Sigma_A - \\Sigma_{AB} \\Sigma_B^{-1} \\Sigma_{AB}^T$ \\\\\n",
        "\n",
        "$P(z_B|z_A) = Normal_{z_B}(\\hat{\\mu}_B, \\hat{\\Sigma}_B)$ \\\\\n",
        "where: \\\\\n",
        "$\\hat{\\mu}_B = \\mu_B + \\Sigma_{AB}^T \\Sigma_{A}^{-1}(z_A - \\mu_A)$ \\\\\n",
        "$\\hat{\\Sigma}_B = \\Sigma_B - \\Sigma_{AB}^T \\Sigma_A^{-1} \\Sigma_{AB}$ \\\\\n",
        "\n",
        "\n",
        "The output of the VAE encoders are assumed to be the mean and variance of the unary normal potentials in the MRF over the latent z's where:\n",
        "\n",
        "•\tMean: $\\mu_{A}$ and diagonal variance matrix: $\\Sigma_{A}$ are the outputs of the A encoder \\\\\n",
        "•\t$\\mu_{B}$,  $\\Sigma_{B}$ are the outputs of the B encoder \\\\\n",
        "\n",
        "\n",
        "The additional pairwise k-ary Normal potentials, which represent undirected graphical model structure between the latent A and latent B : \\\\\n",
        "•\t$\\Sigma_{AB}$ = $\\Sigma_{BA}^T$ \n",
        "\n",
        "If the latent space is dimension 3, each $\\mu \\in \\mathcal{R}^{1 \\times 3}$ and each $\\Sigma \\in \\mathcal{R}^{3 \\times 3}$.\n",
        "\n",
        "\n",
        "#Three Options to learn Gaussian MRF (in Stage 2):\n",
        "## 1. Fully Emperical\n",
        "Emperically estimate $\\mu_A, \\mu_B, \\Sigma_A$ and $\\Sigma_B$ by taking sample mean of the mu and logvar output of the entire population from marginal encoders.\n",
        "\n",
        "Emperically estimate $\\Sigma_{AB}$ by using sampled z_A and z_B of the entire population (N=num_samples=500) and the sample covariance formula. Note could also use to Q formula to calculate entire covariance matrix and estimate $\\Sigma_A$ and $\\Sigma_B$ as well, but would be less accurate than directly using sample mean of the logvar output from the marginal encoders.\n",
        "\n",
        "$\\Sigma_{AB} = \\frac{1}{N-1} (\\sum_{i=1}^N (z_{i,A} - \\mu_A) (z_{i,B} - \\mu_B))$\n",
        "\n",
        "Note we use more reliable $\\mu_A, \\mu_B$ instead of sample mean of $z_A, z_B$\n",
        "https://www.itl.nist.gov/div898/handbook/pmc/section5/pmc541.htm\n",
        "\n",
        "## 2. Fully Learned\n",
        "Learn $\\Sigma_A$ and $\\Sigma_B$ by gradient descent which involves doing gradient descent through an inverse.\n",
        "\n",
        "Learn $\\Sigma_{AB} by gradient descent\n",
        "\n",
        "## 3. Half Emperical Half Learned\n",
        "Emperically estimate $\\Sigma_A$ and $\\Sigma_B$ using Option 1 to avoid gradient descent through an inverse.\n",
        "\n",
        "Learn $\\Sigma_{AB}$ using Option 2\n",
        "\n",
        "\n",
        "\n",
        "\n",
        "# Training the VAE-MRF\n",
        "Assuming no missing data. Training is done in two stages. The first stage learns marginal VAEs for each attribute. The second stage learns the covariance matrix $\\Sigma_{AB}$ to capture the intervariable dependencies between A and B.\n",
        "\n",
        "##Stage 1 - Marginal VAEs (Identical to Stage 1 VAEM)\n",
        "Train A and B VAEs separately.\n",
        "In each epoch, break the training data into batches. Each batch contains samples of OHE input $x_A$ or $x_B$:\n",
        "- Feed in $x_A$ or $x_B$ to their respective encoders to obtain either:\n",
        "  - $\\mu_A, \\Sigma_A$ from encoder A\n",
        "  - $\\mu_B, \\Sigma_B$ from encoder B\n",
        "\n",
        "- To reconstruct $x_A$ ($x_B$):\n",
        "  - Sample $z_A$ ($z_B$) using $\\mu_A, \\Sigma_A$ ($\\mu_B, \\Sigma_B$) through standard VAE reparameterization trick\n",
        "  - Feed $z_A$  ($z_B$) into the **A** (**B**) decoder to obtain the reconstruction $\\hat{x}_A$ ($\\hat{x}_B$)\n",
        "\n",
        "- Sum the losses (reconstruction error and KL-divergence) from either A or B  and backpropagate once per batch.\n",
        "\n",
        "For marginal VAEs, fix the parameters: encoder $\\phi$ and decoder $\\theta$.\n",
        "\n",
        "## Stage 2 - Intervariable Dependency CRF\n",
        "In each epoch, break the training data into batches. Each batch contains samples of OHE input $x_A$ and $x_B$. By reconstructing $x_A, x_B$ from $x_A$ and $x_B$, learn $\\Sigma_{AB}$:\n",
        "  - Feed entire batch of $x_A$ to marginal A encoder to obtain Monte Carlo emperical $\\mu_A, \\Sigma_A$\n",
        "  - Feed entire batch of $x_B$ to marginal B encoder to obtain Monte Carlo emperical $\\mu_B, \\Sigma_B$\n",
        "  - If memory allows - feed in entire train population of $x_A$ and $x_B$ for more reliable emperical estimates (as is done with 2 binary variables A, B and 500 samples)\n",
        "  - To reconstruct a specific $x_A$:\n",
        "      - Feed specific corresponding $x_B$ to marginal encoder to obtain sample $z_B$ (standard VAE reparameterization trick)\n",
        "      - Using $z_B,\\mu_A, \\Sigma_A, \\mu_B, \\Sigma_B$, sample $z_A$ from $P(z_A|z_B)$ (modified VAE reparameterization trick)\n",
        "      - Feed $z_A$ into the A decoder to obtain the reconstruction $\\hat{x}_A$\n",
        "\n",
        "  - To reconstruct $x_B$:\n",
        "    - Feed specific corresponding $x_A$ to marginal encoder to obtain sample $z_A$ (standard VAE reparameterization trick) \n",
        "    - Using $z_A,\\mu_A, \\Sigma_A, \\mu_B, \\Sigma_B$, sample $z_B$ from $P(z_B|z_A)$ (modified VAE reparameterization trick)\n",
        "    - Feed $z_B$ into the B decoder to obtain the reconstruction $\\hat{x}_B$\n",
        "\n",
        "\n",
        "Sum the losses (reconstruction error and KL-divergence) from both A and B and backpropagate once per batch.\n",
        "Repeat for each batch. \\\\\n",
        "\n",
        "Note that $\\mu_A$, $\\Sigma_A$, $\\mu_B$, $\\Sigma_B$ are fixed for each batch.  There is only one $\\Sigma_{AB}$ to be shared. \n",
        "\n",
        "# Stage 2 - Intervariable Dependency CRF (missing data at train time scenario, not implemented)\n",
        "Training the VAE-MRF on x_A only: \n",
        "- Feed entire batch of $x_A$ to marginal A encoder to obtain emperical $\\mu_A, \\Sigma_A$\n",
        "-  Feed entire batch of $x_B$ to marginal B encoder to obtain emperical $\\mu_B, \\Sigma_B$ (If no $x_B$ assume prior P(zB) = Normal (0, Identity))\n",
        "- Sample $z_B$ using $\\mu_B, \\Sigma_B$ (standard VAE reparameterization trick)\n",
        "- Using $z_B,\\mu_A, \\Sigma_A, \\mu_B, \\Sigma_B$, sample $z_A$ from $P(z_A|z_B)$ (modified VAE reparameterization trick)\n",
        "-  Feed $z_A$ into the A decoder to obtain the reconstruction $\\hat{x}_A$ for $x_A$\n",
        "- Sum the losses (reconstruction error and KL-divergence) from A and backpropagate once per batch"
      ]
    },
    {
      "cell_type": "code",
      "metadata": {
        "id": "45UMLBM0iE4y"
      },
      "source": [
        "# VAE Parameters\n",
        "num = 2 # digits from 0 to 1\n",
        "latent_dims = 1 # Latent z_A, z_B same dimension size\n",
        "num_epochs = 300\n",
        "batch_size = 25\n",
        "learning_rate = 1e-2 #1e-4\n",
        "use_gpu = True\n",
        "variational_beta = 0.0001 #tuned 0.001\n",
        "\n",
        "batch_size_list = [25,50]\n",
        "learning_rate_list = [1e-2, 1e-3, 1e-4]\n",
        "variational_beta_list = [0.1,0.001,0.0001]\n"
      ],
      "execution_count": 6,
      "outputs": []
    },
    {
      "cell_type": "code",
      "metadata": {
        "id": "ifSVkjMe-lJj"
      },
      "source": [
        "def vae_loss(batch_recon, batch_targets, mu, logvar):\r\n",
        "  criterion = nn.CrossEntropyLoss()\r\n",
        "  CE = criterion(batch_recon, batch_targets)\r\n",
        "  #print(CE)\r\n",
        "  KLd = -0.5 * torch.sum(1 + logvar - mu.pow(2) - logvar.exp()) # https://stats.stackexchange.com/questions/318748/deriving-the-kl-divergence-loss-for-vaes\r\n",
        "  #print(KLd)\r\n",
        "  return CE,variational_beta*KLd, CE + variational_beta*KLd\r\n",
        "\r\n",
        "#Train marginal VAE\r\n",
        "def trainVAE(VAE, sample1_OHE, attribute: str):\r\n",
        "  print(\"\\nTraining marginal VAE for \" + attribute+ \" started!\")\r\n",
        "  VAE.train() #set model mode to train\r\n",
        "  optimizer = torch.optim.Adam(params = VAE.parameters(), lr = learning_rate)\r\n",
        "  x = sample1_OHE.filter(like=attribute, axis=1).values\r\n",
        "  #sample2_OHE when do BC plate\r\n",
        "  \r\n",
        "  inds = list(range(x.shape[0]))\r\n",
        "  N = num_samples\r\n",
        "  freq = num_epochs // 10 # floor division\r\n",
        "\r\n",
        "  loss_hist = []\r\n",
        "  x = Variable(torch.from_numpy(x))\r\n",
        "  \r\n",
        "  for epoch in range(num_epochs):\r\n",
        "      VAE.train()\r\n",
        "      #print('epoch' + str(epoch))\r\n",
        "      inds = np.random.permutation(inds)\r\n",
        "      x = x[inds]\r\n",
        "      x = x.to(device)\r\n",
        "      \r\n",
        "      loss = 0\r\n",
        "      CE = 0\r\n",
        "      KLd = 0\r\n",
        "      #num_batches = N / batch_size\r\n",
        "      for b in range(0, N, batch_size):\r\n",
        "          #get the mini-batch\r\n",
        "          x_batch = x[b: b+batch_size]\r\n",
        "          #feed forward\r\n",
        "          batch_recon,latent_mu,latent_logvar = VAE.forward(x_batch.float())\r\n",
        "          # Error\r\n",
        "          #Convert x_batch from OHE vectors to single scalar\r\n",
        "          # max returns index location of max value in each sample of batch \r\n",
        "          _, x_batch_targets = x_batch.max(dim=1)\r\n",
        "          train_CE, train_KLd, train_loss = vae_loss(batch_recon, x_batch_targets, latent_mu, latent_logvar)\r\n",
        "          loss += train_loss.item() / N # update epoch loss\r\n",
        "          CE += train_CE.item() / N\r\n",
        "          KLd += train_KLd.item() / N\r\n",
        "\r\n",
        "          #Backprop the error, compute the gradient\r\n",
        "          optimizer.zero_grad()\r\n",
        "          train_loss = train_loss\r\n",
        "          train_loss.backward()\r\n",
        "\r\n",
        "          #update parameters based on gradient\r\n",
        "          optimizer.step()\r\n",
        "          \r\n",
        "      #Record loss per epoch        \r\n",
        "      loss_hist.append(loss)\r\n",
        "      \r\n",
        "      if epoch % freq == 0:\r\n",
        "          print('')\r\n",
        "          print(\"Epoch %d/%d\\t CE: %.5f, KLd: %.5f, Train loss=%.5f\" % (epoch + 1, num_epochs,CE,KLd, loss), end='\\t', flush=True)\r\n",
        "\r\n",
        "          #Test with all training data\r\n",
        "          VAE.eval()\r\n",
        "          train_recon, train_mu, train_logvar = VAE.forward(x.float())\r\n",
        "          _, x_targets = x.max(dim=1)\r\n",
        "          CE_,KLd,test_loss = vae_loss(train_recon, x_targets, train_mu, train_logvar)\r\n",
        "          print(\"\\t CE: {:.5f}, KLd: {:.5f}, Test loss: {:.5f}\".format(CE,KLd,test_loss.item()), end='')\r\n",
        "\r\n",
        "          #print('Visualize ' + attribute + 'predictions')\r\n",
        "          #print(train_recon[0:5])\r\n",
        "          #print(x_targets[0:5])\r\n",
        "\r\n",
        "  print(\"\\nTraining marginal VAE for \" + attribute+ \" finished!\")\r\n",
        "  #print(loss_hist)\r\n",
        "\r\n",
        "#Each attribute has a marginal VAE\r\n",
        "class marginal_VAE(nn.Module):\r\n",
        "    def __init__(self):\r\n",
        "        super().__init__()\r\n",
        "        self.latent_dims = latent_dims\r\n",
        "        self.fc1 = nn.Linear(num, latent_dims)\r\n",
        "        self.fc_mu = nn.Linear(latent_dims, latent_dims)\r\n",
        "        self.fc_logvar = nn.Linear(latent_dims, latent_dims)\r\n",
        "        self.fc_out = nn.Linear(latent_dims,num)\r\n",
        "    \r\n",
        "    #accepts OHE input of an attribute, returns mu and log variance\r\n",
        "    def encode(self, x):\r\n",
        "        h1 = torch.sigmoid(self.fc1(x))\r\n",
        "        return self.fc_mu(h1), self.fc_logvar(h1)\r\n",
        "\r\n",
        "    #Given mu and logvar generates latent z \r\n",
        "    def reparameterize(self, mu, logvar):\r\n",
        "        std = torch.exp(0.5*logvar) \r\n",
        "        eps = torch.randn_like(std)\r\n",
        "        return mu + eps*std\r\n",
        "\r\n",
        "    #Decodes latent z into reconstruction with dimension equal to num\r\n",
        "    def decode(self, z):\r\n",
        "        if z.size()[0] == self.latent_dims: #resize from [1] to [1,1]\r\n",
        "          z = z.view(1, self.latent_dims)\r\n",
        "        softmax = nn.Softmax(dim=1)  #normalizes reconstruction to range [0,1] and sum to 1\r\n",
        "        recon = softmax(self.fc_out(z))\r\n",
        "        return recon\r\n",
        "    \r\n",
        "    #Given x, returns: reconstruction x_hat, mu, log_var\r\n",
        "    def forward(self, x):\r\n",
        "        mu, logvar = self.encode(x)\r\n",
        "        z = self.reparameterize(mu, logvar)\r\n",
        "        return self.decode(z), mu, logvar\r\n",
        "    \r\n",
        "    #Given x, returns latent z\r\n",
        "    def latent(self, x):\r\n",
        "        mu, logvar = self.encode(x)\r\n",
        "        z = self.reparameterize(mu, logvar)\r\n",
        "        return z\r\n",
        "    \r\n",
        "    # ignore latent_mu, latent_logvar, instead generate z values from standard normal\r\n",
        "    def sample(self, num_samples):\r\n",
        "      z = torch.randn(num_samples, self.latent_dims)\r\n",
        "      z = z.to(device)\r\n",
        "      samples = self.decode(z)\r\n",
        "      return samples"
      ],
      "execution_count": 7,
      "outputs": []
    },
    {
      "cell_type": "code",
      "metadata": {
        "id": "X0FiF8-RkNLB"
      },
      "source": [
        "class VariationalAutoencoder_MRF(nn.Module):\n",
        "    def __init__(self):\n",
        "        super().__init__()\n",
        "        self.latent_dims = latent_dims\n",
        "        #Marginal VAEs\n",
        "        self.VAE_A = marginal_VAE()\n",
        "        self.VAE_B = marginal_VAE()\n",
        "        #Emperical mu and logvar\n",
        "        self.muA_emp = 0\n",
        "        self.muB_emp = 0\n",
        "        self.logvarA_emp = 0\n",
        "        self.logvarB_emp = 0\n",
        "        #Sigma_{AB} = Sigma_{BA}^T\n",
        "        self.covarianceAB = torch.randn(size=(self.latent_dims,self.latent_dims))\n",
        "        self.covarianceAB = torch.nn.Parameter(self.covarianceAB,requires_grad=True)\n",
        "        #print(self.covarianceAB)\n",
        "\n",
        "\n",
        "    #Stage 1 - Train Marginal VAEs and then freeze parameters\n",
        "    def train_marginals(self):\n",
        "        trainVAE(self.VAE_A,sample1_OHE, 'A')\n",
        "        trainVAE(self.VAE_B,sample1_OHE, 'B')\n",
        "\n",
        "    #Finds emperical mean and logvar of each attribute for entire population\n",
        "    def emp_mu_logvar(self,x,attribute):\n",
        "      if attribute == 'A':\n",
        "        muA, logvarA = self.encode(x, attribute)\n",
        "        #print(\"muA of each sample\")\n",
        "        #print(muA)\n",
        "        self.muA_emp = torch.mean(muA,0,keepdim=True) #need to modify if muA is more than 1 dimension\n",
        "\n",
        "        self.logvarA_emp = torch.mean(logvarA,0,keepdim=True)\n",
        "        print('Emperical A mu and logvar')\n",
        "        print(self.muA_emp)\n",
        "        print(self.logvarA_emp)\n",
        "      elif attribute == 'B':\n",
        "        muB, logvarB = self.encode(x, attribute)\n",
        "        self.muB_emp = torch.mean(muB,0,keepdim=True)\n",
        "        self.logvarB_emp = torch.mean(logvarB,0,keepdim=True)\n",
        "        print('Emperical B mu and logvar')\n",
        "        print(self.muB_emp)\n",
        "        print(self.logvarB_emp)\n",
        "      return\n",
        "\n",
        "    # Conditional of Multivariate Gaussian: matrix cookbook 353 and 354\n",
        "    # Attribute is the attribute of the returned z_cond \n",
        "    def conditional(self, muA, logvarA, muB, logvarB, z, attribute):\n",
        "        #log-space for numerical stability.\n",
        "        logvarA = torch.exp(0.5*logvarA)\n",
        "        logvarB = torch.exp(0.5*logvarB)\n",
        "        covarianceA = torch.diag_embed(logvarA) #Convert logvar vector to diagonal matrix\n",
        "        covarianceB = torch.diag_embed(logvarB) #batch_size,3,3\n",
        "        #self.covarianceAB = torch.nn.Parameter(torch.log(self.covarianceAB))\n",
        "        muA = muA.unsqueeze(2)\n",
        "        muB = muB.unsqueeze(2)\n",
        "        z = z.unsqueeze(2)\n",
        "        if attribute == 'A':\n",
        "          mu_cond = muA + torch.matmul(torch.matmul(self.covarianceAB, \n",
        "                                                    torch.inverse(covarianceB)),\n",
        "                                      (z - muB)) # z is zB\n",
        "          logvar_cond = covarianceA - torch.matmul(torch.matmul(self.covarianceAB, \n",
        "                                                                torch.inverse(covarianceB)),\n",
        "                                                  torch.transpose(self.covarianceAB,0,1))\n",
        "          #logvar_cond = logvar_cond + 20*torch.eye(latent_dims) # regularization\n",
        "        elif attribute == 'B':\n",
        "          mu_cond = muB + torch.matmul(torch.matmul(torch.transpose(self.covarianceAB,0,1),\n",
        "                                                    torch.inverse(covarianceA)), \n",
        "                                       (z - muA)) # z is zA\n",
        "          logvar_cond = covarianceB - torch.matmul(torch.matmul(torch.transpose(self.covarianceAB,0,1), \n",
        "                                                              torch.inverse(covarianceA)),\n",
        "                                                 self.covarianceAB)\n",
        "              # logvar_cond is not a diagonal covariance matrix\n",
        "          #logvar_cond = logvar_cond + 20*torch.eye(latent_dims)\n",
        "\n",
        "        # METHOD1: re-parameterization trick to sample z_cond\n",
        "        eps = torch.randn_like(mu_cond) #64x3x1, 64x3x3 if use logvar_cond\n",
        "        z_cond = mu_cond + torch.matmul(logvar_cond,eps) #64x3x1\n",
        "        z_cond = z_cond.squeeze(2) #64x3\n",
        "        return z_cond\n",
        "\n",
        "    #return mu, logvar\n",
        "    def encode(self, x, attribute):\n",
        "      if attribute == 'A':\n",
        "        return self.VAE_A.encode(x)\n",
        "      elif attribute =='B':\n",
        "        return self.VAE_B.encode(x)\n",
        "      raise Exception('Invalid attribute {} provided.'.format(x))\n",
        "    \n",
        "    #return reconstruction\n",
        "    def decode(self, z, attribute):\n",
        "      if attribute == 'A':\n",
        "        return self.VAE_A.decode(z)\n",
        "      elif attribute =='B':\n",
        "        return self.VAE_B.decode(z)\n",
        "      raise Exception('Invalid attribute {} provided.'.format(x))\n",
        "    \n",
        "    #Given xA, xB and attribute to reconstruct, return reconstruction\n",
        "    def forward(self, xA, xB, attribute):\n",
        "      muA, logvarA = self.encode(xA, attribute='A') #logvar is size [64,3]\n",
        "      muB, logvarB = self.encode(xB, attribute='B')\n",
        "      # Take batch emperical average of mus and logvars\n",
        "      #size_placeholder = muA.size() #[batch_size,latent_dims]\n",
        "      #muA_emp = torch.mean(muA,0,keepdim=True).repeat(size_placeholder,1) #(batchsize,latent_dims) all repeated values of avg\n",
        "      #logvarA_emp = torch.mean(logvarA,0,keepdim=True).repeat(size_placeholder,1)\n",
        "      #muB_emp = torch.mean(muB,0,keepdim=True).repeat(size_placeholder,1)\n",
        "      #logvarB_emp = torch.mean(logvarB,0,keepdim=True).repeat(size_placeholder,1)\n",
        "      #print(logvarA)\n",
        "      if attribute == 'A':\n",
        "        zB = self.VAE_B.reparameterize(muB, logvarB)\n",
        "        zA = self.conditional(self.muA_emp, self.logvarA_emp, self.muB_emp, self.logvarB_emp, zB, attribute)\n",
        "        return self.decode(zA,attribute), self.muA_emp, self.logvarA_emp #should error use emperical avg or not?\n",
        "      elif attribute == 'B':\n",
        "        zA = self.VAE_A.reparameterize(muA, logvarA)\n",
        "        zB = self.conditional(self.muA_emp, self.logvarA_emp, self.muB_emp, self.logvarB_emp, zA, attribute)\n",
        "        return self.decode(zB,attribute), self.muB_emp, self.logvarB_emp\n",
        "      raise Exception('Invalid attribute {} provided.'.format(x))\n",
        "\n",
        "    def latent(self,x,attribute):\n",
        "      if attribute == 'A':\n",
        "          return self.VAE_A.latent(x)\n",
        "      elif attribute == 'B':\n",
        "        return self.VAE_B.latent(x)\n",
        "      raise Exception('Invalid attribute {} provided.'.format(x))\n",
        "\n",
        "    #Given x, returns: reconstruction x_hat, mu, log_var\n",
        "    def forward_single_attribute(self, x, attribute):\n",
        "      if attribute == 'A':\n",
        "        return self.VAE_A.forward(x)\n",
        "      elif attribute == 'B':\n",
        "        return self.VAE_B.forward(x)\n",
        "      raise Exception('Invalid attribute {} provided.'.format(x))\n",
        "\n",
        "    def query_single_attribute(self, x_evidence, evidence_attribute):\n",
        "      if evidence_attribute =='A':\n",
        "        muA,logvarA = self.encode(x_evidence, evidence_attribute)\n",
        "        #muB = torch.zeros(muA.size()) #100x3\n",
        "        #logvarB = torch.ones(muA.size()) #100x3\n",
        "        zA = self.VAE_A.reparameterize(muA, logvarA)\n",
        "        print(\"zA\")\n",
        "        print(zA)\n",
        "        #Use emperical mus and logvars\n",
        "        zB = self.conditional(self.muA_emp, self.logvarA_emp, self.muB_emp, self.logvarB_emp, zA, attribute='B')\n",
        "        print(\"zB\")\n",
        "        print(zB)\n",
        "        return self.decode(zB,attribute='B')\n",
        "\n",
        "      elif evidence_attribute =='B':\n",
        "        muB,logvarB = self.encode(x_evidence, evidence_attribute)\n",
        "        zB = self.VAE_B.reparameterize(muB, logvarB)\n",
        "        zA = self.conditional(self.muA_emp, self.logvarA_emp, self.muB_emp, self.logvarB_emp, zB, attribute='A')\n",
        "        return self.decode(zA,attribute='A')"
      ],
      "execution_count": 8,
      "outputs": []
    },
    {
      "cell_type": "code",
      "metadata": {
        "id": "e_7LH-GQRW01"
      },
      "source": [
        "def trainVAE_MRF(VAE_MRF, emperical):\n",
        "  VAE_MRF.train() #set model mode to train\n",
        "  xA = sample1_OHE.filter(like='A', axis=1).values\n",
        "  xB = sample1_OHE.filter(like='B', axis=1).values\n",
        "  #print(xA.shape)\n",
        "\n",
        "  #sample2_OHE when do BC plate\n",
        "  \n",
        "  indsA = list(range(xA.shape[0]))\n",
        "  indsB = list(range(xB.shape[0]))\n",
        "  N = num_samples # 1000\n",
        "  freq = num_epochs // 10 # floor division\n",
        "\n",
        "  loss_hist = []\n",
        "  xA = Variable(torch.from_numpy(xA))\n",
        "  xB = Variable(torch.from_numpy(xB))\n",
        "  \n",
        "  #Calculate mu_emp and logvar_emp for all attributes (entire sample)\n",
        "  VAE_MRF.emp_mu_logvar(xA.float(),attribute='A')\n",
        "  VAE_MRF.emp_mu_logvar(xB.float(),attribute='B')\n",
        "  if emperical:\n",
        "    \n",
        "  else:\n",
        "    for epoch in range(num_epochs):\n",
        "        VAE_MRF.train()\n",
        "        #print('epoch' + str(epoch))\n",
        "        indsA = np.random.permutation(indsA)\n",
        "        xA = xA[indsA]\n",
        "        xA = xA.to(device)\n",
        "        indsB = np.random.permutation(indsB)\n",
        "        xB = xB[indsB]\n",
        "        xB = xB.to(device)\n",
        "\n",
        "        loss = 0\n",
        "        CE = 0\n",
        "        KLd = 0\n",
        "        num_batches = N / batch_size\n",
        "        for b in range(0, N, batch_size):\n",
        "            #get the mini-batch\n",
        "            x_batchA = xA[b: b+batch_size]\n",
        "            x_batchB = xB[b: b+batch_size]\n",
        "            \n",
        "            #feed forward, should latent mu and logvar be the same for every recon, yes since want to learn covariance accurately?\n",
        "            batch_reconA,latent_muA,latent_logvarA = VAE_MRF.forward(x_batchA.float(),x_batchB.float(),attribute='A')\n",
        "            batch_reconB,latent_muB,latent_logvarB = VAE_MRF.forward(x_batchA.float(),x_batchB.float(),attribute='B')\n",
        "\n",
        "            # Error\n",
        "            #Convert x_batchA and x_batchB from OHE vectors to single scalar\n",
        "            # max returns index location of max value in each sample of batch \n",
        "            _, xA_batch_targets = x_batchA.max(dim=1)\n",
        "            _, xB_batch_targets = x_batchB.max(dim=1)\n",
        "            train_CE_A, train_KLd_A, train_loss_A = vae_loss(batch_reconA, xA_batch_targets, latent_muA, latent_logvarA)\n",
        "            train_CE_B, train_KLd_B, train_loss_B = vae_loss(batch_reconB, xB_batch_targets, latent_muB, latent_logvarB)\n",
        "            loss += train_loss_A.item() / N # update epoch loss\n",
        "            loss += train_loss_B.item() / N\n",
        "            CE += train_CE_A.item() / N\n",
        "            CE += train_CE_B.item() / N \n",
        "            KLd += train_KLd_A.item() / N\n",
        "            KLd += train_KLd_B.item() / N\n",
        "\n",
        "            #Backprop the error, compute the gradient\n",
        "            optimizer.zero_grad()\n",
        "            train_loss = train_loss_A + train_loss_B\n",
        "            train_loss.backward()\n",
        "            \n",
        "            #update parameters based on gradient\n",
        "            optimizer.step()\n",
        "            \n",
        "        #Record loss per epoch        \n",
        "        loss_hist.append(loss)\n",
        "        \n",
        "        if epoch % freq == 0:\n",
        "            print('')\n",
        "            print(\"Epoch %d/%d\\t CE: %.5f, KLd: %.5f, Train loss=%.5f\" % (epoch + 1, num_epochs,CE,KLd, loss), end='\\t', flush=True)\n",
        "\n",
        "            #Test with all training data\n",
        "            VAE_MRF.eval()\n",
        "            train_reconA, train_muA, train_logvarA = VAE_MRF.forward(xA.float(),xB.float(), attribute='A')\n",
        "            train_reconB, train_muB, train_logvarB = VAE_MRF.forward(xA.float(),xB.float(), attribute='B')\n",
        "            _, xA_targets = xA.max(dim=1)\n",
        "            _, xB_targets = xB.max(dim=1)\n",
        "            CE_A,KLd_A,test_loss_A = vae_loss(train_reconA, xA_targets, train_muA, train_logvarA)\n",
        "            CE_B,KLd_B,test_loss_B = vae_loss(train_reconB, xB_targets, train_muB, train_logvarB)\n",
        "\n",
        "            CE = CE_A + CE_B\n",
        "            Kld = KLd_A + KLd_B\n",
        "            test_loss = test_loss_A + test_loss_B\n",
        "            print(\"\\t CE: {:.5f}, KLd: {:.5f}, Test loss: {:.5f}\".format(CE,KLd,test_loss.item()), end='')\n",
        "        \n",
        "    print(\"\\nTraining MRF finished!\")\n",
        "  #print(loss_hist)"
      ],
      "execution_count": 9,
      "outputs": []
    },
    {
      "cell_type": "code",
      "metadata": {
        "id": "CjRUnGgjnIvV",
        "colab": {
          "base_uri": "https://localhost:8080/"
        },
        "outputId": "7aa7d4bf-808e-413d-fd5a-edfa4a4be620"
      },
      "source": [
        "# Focus on just AB Plate for now\n",
        "#  use gpu if available\n",
        "device = torch.device(\"cuda:0\" if use_gpu and torch.cuda.is_available() else \"cpu\")\n",
        "VAE_MRF = VariationalAutoencoder_MRF()\n",
        "VAE_MRF = VAE_MRF.to(device)\n",
        "\n",
        "VAE_MRF.train_marginals() #Stage 1, then freeze marginal VAEs\n",
        "print('Parameters for Marginal VAEs fixed')\n",
        "for param in VAE_MRF.VAE_A.parameters():\n",
        "  param.requires_grad = False\n",
        "for param in VAE_MRF.VAE_B.parameters():\n",
        "  param.requires_grad = False\n",
        "\n",
        "num_params = sum(p.numel() for p in VAE_MRF.parameters() if p.requires_grad)\n",
        "print(\"Number of parameters: %d\" % num_params) #8*3 + 3 = 27, 3*8 + 8 = 32 3*3+3 = 12 *2 = 24, 27+32+24=83\n",
        "\n",
        "#for param in VAE_MRF.parameters():\n",
        "#    print(type(param.data), param.size())\n",
        "#print(list(VAE_MRF.parameters()))\n",
        "#print(VAE_MRF.parameters)\n",
        "\n",
        "\n",
        "# optimizer object\n",
        "optimizer = torch.optim.Adam(filter(lambda p: p.requires_grad, VAE_MRF.parameters()), lr = learning_rate)\n",
        "print(\"CovarianceAB before training\")\n",
        "print(VAE_MRF.covarianceAB.cpu().detach().numpy())\n",
        "num_epochs = 2000\n",
        "trainVAE_MRF(VAE_MRF)\n",
        "print(\"CovarianceAB after training\")\n",
        "print(VAE_MRF.covarianceAB.cpu().detach().numpy())"
      ],
      "execution_count": 10,
      "outputs": [
        {
          "output_type": "stream",
          "text": [
            "\n",
            "Training marginal VAE for A started!\n",
            "\n",
            "Epoch 1/300\t CE: 0.02895, KLd: 0.00002, Train loss=0.02897\t\t CE: 0.02895, KLd: 0.00673, Test loss: 0.71859\n",
            "Epoch 31/300\t CE: 0.01262, KLd: 0.00023, Train loss=0.01285\t\t CE: 0.01262, KLd: 0.11387, Test loss: 0.42901\n",
            "Epoch 61/300\t CE: 0.01257, KLd: 0.00021, Train loss=0.01278\t\t CE: 0.01257, KLd: 0.10611, Test loss: 0.42047\n",
            "Epoch 91/300\t CE: 0.01256, KLd: 0.00019, Train loss=0.01276\t\t CE: 0.01256, KLd: 0.09696, Test loss: 0.41095\n",
            "Epoch 121/300\t CE: 0.01255, KLd: 0.00018, Train loss=0.01273\t\t CE: 0.01255, KLd: 0.09030, Test loss: 0.40435\n",
            "Epoch 151/300\t CE: 0.01255, KLd: 0.00017, Train loss=0.01272\t\t CE: 0.01255, KLd: 0.08544, Test loss: 0.39925\n",
            "Epoch 181/300\t CE: 0.01254, KLd: 0.00016, Train loss=0.01271\t\t CE: 0.01254, KLd: 0.08085, Test loss: 0.39466\n",
            "Epoch 211/300\t CE: 0.01255, KLd: 0.00015, Train loss=0.01270\t\t CE: 0.01255, KLd: 0.07831, Test loss: 0.39193\n",
            "Epoch 241/300\t CE: 0.01254, KLd: 0.00016, Train loss=0.01270\t\t CE: 0.01254, KLd: 0.07775, Test loss: 0.39127\n",
            "Epoch 271/300\t CE: 0.01255, KLd: 0.00015, Train loss=0.01270\t\t CE: 0.01255, KLd: 0.07341, Test loss: 0.38705\n",
            "Training marginal VAE for A finished!\n",
            "\n",
            "Training marginal VAE for B started!\n",
            "\n",
            "Epoch 1/300\t CE: 0.02848, KLd: 0.00001, Train loss=0.02849\t\t CE: 0.02848, KLd: 0.00353, Test loss: 0.70965\n",
            "Epoch 31/300\t CE: 0.01260, KLd: 0.00021, Train loss=0.01281\t\t CE: 0.01260, KLd: 0.10518, Test loss: 0.41998\n",
            "Epoch 61/300\t CE: 0.01256, KLd: 0.00019, Train loss=0.01275\t\t CE: 0.01256, KLd: 0.09505, Test loss: 0.40904\n",
            "Epoch 91/300\t CE: 0.01255, KLd: 0.00018, Train loss=0.01274\t\t CE: 0.01255, KLd: 0.09155, Test loss: 0.40538\n",
            "Epoch 121/300\t CE: 0.01255, KLd: 0.00017, Train loss=0.01272\t\t CE: 0.01255, KLd: 0.08307, Test loss: 0.39701\n",
            "Epoch 151/300\t CE: 0.01254, KLd: 0.00017, Train loss=0.01271\t\t CE: 0.01254, KLd: 0.08571, Test loss: 0.39920\n",
            "Epoch 181/300\t CE: 0.01254, KLd: 0.00016, Train loss=0.01270\t\t CE: 0.01254, KLd: 0.07710, Test loss: 0.39063\n",
            "Epoch 211/300\t CE: 0.01255, KLd: 0.00015, Train loss=0.01270\t\t CE: 0.01255, KLd: 0.07569, Test loss: 0.38919\n",
            "Epoch 241/300\t CE: 0.01254, KLd: 0.00015, Train loss=0.01269\t\t CE: 0.01254, KLd: 0.07517, Test loss: 0.38921\n",
            "Epoch 271/300\t CE: 0.01254, KLd: 0.00015, Train loss=0.01269\t\t CE: 0.01254, KLd: 0.07807, Test loss: 0.39150\n",
            "Training marginal VAE for B finished!\n",
            "Parameters for Marginal VAEs fixed\n",
            "Number of parameters: 1\n",
            "CovarianceAB before training\n",
            "[[-0.29608026]]\n",
            "Emperical A mu and logvar\n",
            "tensor([[-0.0818]])\n",
            "tensor([[-2.5502]])\n",
            "Emperical B mu and logvar\n",
            "tensor([[-0.0381]])\n",
            "tensor([[-2.4522]])\n",
            "\n",
            "Epoch 1/2000\t CE: 0.06468, KLd: 0.00001, Train loss=0.06468\t\t CE: 1.60015, KLd: 0.00001, Test loss: 1.60031\n",
            "Epoch 201/2000\t CE: 0.06017, KLd: 0.00001, Train loss=0.06018\t\t CE: 1.48943, KLd: 0.00001, Test loss: 1.48959\n",
            "Epoch 401/2000\t CE: 0.06029, KLd: 0.00001, Train loss=0.06029\t\t CE: 1.49127, KLd: 0.00001, Test loss: 1.49143\n",
            "Epoch 601/2000\t CE: 0.05854, KLd: 0.00001, Train loss=0.05855\t\t CE: 1.49708, KLd: 0.00001, Test loss: 1.49724\n",
            "Epoch 801/2000\t CE: 0.05934, KLd: 0.00001, Train loss=0.05935\t\t CE: 1.48529, KLd: 0.00001, Test loss: 1.48545\n",
            "Epoch 1001/2000\t CE: 0.05991, KLd: 0.00001, Train loss=0.05992\t\t CE: 1.47914, KLd: 0.00001, Test loss: 1.47930\n",
            "Epoch 1201/2000\t CE: 0.05940, KLd: 0.00001, Train loss=0.05940\t\t CE: 1.46948, KLd: 0.00001, Test loss: 1.46964\n",
            "Epoch 1401/2000\t CE: 0.05787, KLd: 0.00001, Train loss=0.05787\t\t CE: 1.46864, KLd: 0.00001, Test loss: 1.46880\n",
            "Epoch 1601/2000\t CE: 0.05944, KLd: 0.00001, Train loss=0.05944\t\t CE: 1.45676, KLd: 0.00001, Test loss: 1.45692\n",
            "Epoch 1801/2000\t CE: 0.06011, KLd: 0.00001, Train loss=0.06011\t\t CE: 1.46842, KLd: 0.00001, Test loss: 1.46858\n",
            "Training MRF finished!\n",
            "CovarianceAB after training\n",
            "[[0.02766076]]\n"
          ],
          "name": "stdout"
        }
      ]
    },
    {
      "cell_type": "code",
      "metadata": {
        "id": "BMO2a40UPksZ"
      },
      "source": [
        ""
      ],
      "execution_count": 10,
      "outputs": []
    },
    {
      "cell_type": "markdown",
      "metadata": {
        "id": "DKa-T94O5mXH"
      },
      "source": [
        "# P(A,B) Multivariate Gaussian Ground Truth (1000 data points)\r\n",
        "## Mean: \r\n",
        "[0.6 0.5]\r\n",
        "\r\n",
        "##Covariance: \r\n",
        "\r\n",
        "[[0.24024024, 0.1001001 ]\r\n",
        "\r\n",
        "[0.1001001,  0.25025025]]\r\n",
        "\r\n",
        "# Hardcode Ground truth logvar,mu, Covariance\r\n",
        "Cannot hardcode since marginal encoders weights and biases generate sample specific mu and logvar that are widely different than ground truth emperical estimates. Therefore zA  and zB (not 0 or 1) differs from actual xA and xB (0 or 1).\r\n",
        "\r\n",
        "While mu and logvar of each sample (0 or 1) stays the same, the sampled z differs."
      ]
    },
    {
      "cell_type": "code",
      "metadata": {
        "id": "RxjVeK606_Ub"
      },
      "source": [
        "VAE_MRF.eval()\r\n",
        "hardcode = False\r\n",
        "if hardcode == True:\r\n",
        "  with torch.no_grad():\r\n",
        "      #VAE_MRF.covarianceAB = torch.nn.Parameter(torch.tensor(0.1001001))\r\n",
        "      #VAE_MRF.covarianceAB = torch.nn.Parameter(torch.unsqueeze(torch.unsqueeze(VAE_MRF.covarianceAB,0),0))\r\n",
        "      VAE_MRF.covarianceAB = torch.nn.Parameter(torch.unsqueeze(torch.unsqueeze(torch.tensor(0.1001001),0),0))\r\n",
        "      VAE_MRF.muA_emp = torch.nn.Parameter(torch.unsqueeze(torch.unsqueeze(torch.tensor(0.6),0),0))\r\n",
        "      VAE_MRF.muB_emp = torch.nn.Parameter(torch.unsqueeze(torch.unsqueeze(torch.tensor(0.5),0),0))\r\n",
        "      VAE_MRF.logvarA_emp = torch.nn.Parameter(torch.unsqueeze(torch.unsqueeze(torch.tensor(0.24024024),0),0))\r\n",
        "      VAE_MRF.logvarB_emp =torch.nn.Parameter(torch.unsqueeze(torch.unsqueeze(torch.tensor(0.25025025),0),0))"
      ],
      "execution_count": 11,
      "outputs": []
    },
    {
      "cell_type": "markdown",
      "metadata": {
        "id": "UpNuirlCG4b1"
      },
      "source": [
        "## Visualizing Multivariate Normal\r\n",
        "https://peterroelants.github.io/posts/multivariate-normal-primer/"
      ]
    },
    {
      "cell_type": "code",
      "metadata": {
        "id": "MrqYmOIxeZvt",
        "colab": {
          "base_uri": "https://localhost:8080/"
        },
        "outputId": "2049f000-d061-43c5-f7ee-3ed06b8c100a"
      },
      "source": [
        "x_test = np.eye(num)[np.arange(num)]  # Test data (one-hot encoded)\n",
        "duplicates = 10\n",
        "x_test = np.repeat(x_test, [duplicates,duplicates],axis=0)\n",
        "x_test = Variable(torch.from_numpy(x_test))\n",
        "x_test = x_test.to(device)\n",
        "\n",
        "print(\"Print prediction results for A only:\")\n",
        "for x in x_test:\n",
        "    print(\"\\tInput: {} \\t Output: {}\".format(x.cpu().detach().numpy(), np.round(VAE_MRF.forward_single_attribute(x=x.float(), attribute='A')[0].cpu().detach().numpy(),decimals=2)))\n",
        "\n",
        "print(\"Print prediction results for B only:\")\n",
        "for x in x_test:\n",
        "    print(\"\\tInput: {} \\t Output: {}\".format(x.cpu().detach().numpy(), np.round(VAE_MRF.forward_single_attribute(x=x.float(), attribute='B')[0].cpu().detach().numpy(),decimals=2)))\n"
      ],
      "execution_count": 12,
      "outputs": [
        {
          "output_type": "stream",
          "text": [
            "Print prediction results for A only:\n",
            "\tInput: [1. 0.] \t Output: [[1. 0.]]\n",
            "\tInput: [1. 0.] \t Output: [[1. 0.]]\n",
            "\tInput: [1. 0.] \t Output: [[1. 0.]]\n",
            "\tInput: [1. 0.] \t Output: [[1. 0.]]\n",
            "\tInput: [1. 0.] \t Output: [[1. 0.]]\n",
            "\tInput: [1. 0.] \t Output: [[1. 0.]]\n",
            "\tInput: [1. 0.] \t Output: [[1. 0.]]\n",
            "\tInput: [1. 0.] \t Output: [[1. 0.]]\n",
            "\tInput: [1. 0.] \t Output: [[1. 0.]]\n",
            "\tInput: [1. 0.] \t Output: [[1. 0.]]\n",
            "\tInput: [0. 1.] \t Output: [[0. 1.]]\n",
            "\tInput: [0. 1.] \t Output: [[0. 1.]]\n",
            "\tInput: [0. 1.] \t Output: [[0. 1.]]\n",
            "\tInput: [0. 1.] \t Output: [[0. 1.]]\n",
            "\tInput: [0. 1.] \t Output: [[0. 1.]]\n",
            "\tInput: [0. 1.] \t Output: [[0. 1.]]\n",
            "\tInput: [0. 1.] \t Output: [[0. 1.]]\n",
            "\tInput: [0. 1.] \t Output: [[0. 1.]]\n",
            "\tInput: [0. 1.] \t Output: [[0. 1.]]\n",
            "\tInput: [0. 1.] \t Output: [[0. 1.]]\n",
            "Print prediction results for B only:\n",
            "\tInput: [1. 0.] \t Output: [[1. 0.]]\n",
            "\tInput: [1. 0.] \t Output: [[1. 0.]]\n",
            "\tInput: [1. 0.] \t Output: [[1. 0.]]\n",
            "\tInput: [1. 0.] \t Output: [[1. 0.]]\n",
            "\tInput: [1. 0.] \t Output: [[1. 0.]]\n",
            "\tInput: [1. 0.] \t Output: [[1. 0.]]\n",
            "\tInput: [1. 0.] \t Output: [[1. 0.]]\n",
            "\tInput: [1. 0.] \t Output: [[1. 0.]]\n",
            "\tInput: [1. 0.] \t Output: [[1. 0.]]\n",
            "\tInput: [1. 0.] \t Output: [[1. 0.]]\n",
            "\tInput: [0. 1.] \t Output: [[0. 1.]]\n",
            "\tInput: [0. 1.] \t Output: [[0. 1.]]\n",
            "\tInput: [0. 1.] \t Output: [[0. 1.]]\n",
            "\tInput: [0. 1.] \t Output: [[0. 1.]]\n",
            "\tInput: [0. 1.] \t Output: [[0. 1.]]\n",
            "\tInput: [0. 1.] \t Output: [[0. 1.]]\n",
            "\tInput: [0. 1.] \t Output: [[0. 1.]]\n",
            "\tInput: [0. 1.] \t Output: [[0. 1.]]\n",
            "\tInput: [0. 1.] \t Output: [[0.01 0.99]]\n",
            "\tInput: [0. 1.] \t Output: [[0. 1.]]\n"
          ],
          "name": "stdout"
        }
      ]
    },
    {
      "cell_type": "markdown",
      "metadata": {
        "id": "PRbLTCH8lrJe"
      },
      "source": [
        "# Visualize Latent Space"
      ]
    },
    {
      "cell_type": "markdown",
      "metadata": {
        "id": "vkKiDijtuUHt"
      },
      "source": [
        "## Check encoder, decoders work on their own\r\n",
        "It appears the marginal VAEs converges to a local minimum with accurate reconstructions"
      ]
    },
    {
      "cell_type": "code",
      "metadata": {
        "id": "ae0jQpqykvUb",
        "colab": {
          "base_uri": "https://localhost:8080/",
          "height": 265
        },
        "outputId": "00431123-0d0e-457f-ef39-6275e8e88d01"
      },
      "source": [
        "xA = sample1_OHE.filter(like='A', axis=1).values\n",
        "xB = sample1_OHE.filter(like='B', axis=1).values\n",
        "xA = Variable(torch.from_numpy(xA))\n",
        "xB = Variable(torch.from_numpy(xB))\n",
        "\n",
        "np_zA = np.empty(0)\n",
        "for x in xA:\n",
        "  zA = VAE_MRF.latent(x.float(), attribute='A')\n",
        "  #print(z)\n",
        "  np_zA = np.concatenate((np_zA, zA.cpu().detach().numpy()))\n",
        "np_zA = np_zA.reshape(num_samples,latent_dims)\n",
        "\n",
        "if latent_dims==1:\n",
        "  plt.plot(np_zA, 'o', color='black');\n",
        "elif latent_dims ==2:\n",
        "  plt.plot(np_zA[:,0], np_zA[:,1],'o', color='black');\n",
        "elif latent_dims ==3:\n",
        "  from mpl_toolkits.mplot3d import Axes3D\n",
        "  fig = plt.figure()\n",
        "  ax = Axes3D(fig)\n",
        "  #t = np.arange(1000)\n",
        "  ax.scatter(np_zA[:,0], np_zA[:,1], np_zA[:,2])"
      ],
      "execution_count": 13,
      "outputs": [
        {
          "output_type": "display_data",
          "data": {
            "image/png": "[encoded data removed]",
            "text/plain": [
              "<Figure size 432x288 with 1 Axes>"
            ]
          },
          "metadata": {
            "tags": [],
            "needs_background": "light"
          }
        }
      ]
    },
    {
      "cell_type": "markdown",
      "metadata": {
        "id": "4vBTljFA9YMa"
      },
      "source": [
        "# Query P(B|A=0).\n",
        "##Ground truth: \n",
        "\n",
        "P(B=0|A=0) = 0.75\n",
        "\n",
        "P(B=1|A=0) = 0.25\n",
        "\n",
        "\n",
        "Feed nothing into B encoder."
      ]
    },
    {
      "cell_type": "code",
      "metadata": {
        "id": "QuZdoZXu9biT",
        "colab": {
          "base_uri": "https://localhost:8080/"
        },
        "outputId": "2282ac63-aada-4f82-f5b4-5ad2a80e11be"
      },
      "source": [
        "xA_evidence = x_test[0] #Evidence is A=0\n",
        "xA_evidence = xA_evidence.repeat(10000,1)\n",
        "print('A evidence input, first 5 rows')\n",
        "print(xA_evidence[0:5]) #need to resize/ view for single sample, or make evidence a batch repeated\n",
        "\n",
        "xB_query = VAE_MRF.query_single_attribute(x_evidence=xA_evidence.float(), evidence_attribute = 'A')\n",
        "print('B query output:')\n",
        "print(np.round(xB_query[0:5].cpu().detach().numpy(),decimals=2))\n",
        "print(xB_query.size())\n",
        "\n",
        "#Averaging all xB_query\n",
        "print('xB_query mean of each column:')\n",
        "print(torch.mean(xB_query,0))\n",
        "\n",
        "#Taking max of each row in xB_query and counting times each element is max\n",
        "print('xB_query count of when each column is max:')\n",
        "_,indices_max =xB_query.max(dim=1) \n",
        "#print(indices_max.numpy())\n",
        "unique, counts = np.unique(indices_max.numpy(), return_counts=True)\n",
        "dict(zip(unique, counts))"
      ],
      "execution_count": 14,
      "outputs": [
        {
          "output_type": "stream",
          "text": [
            "A evidence input, first 5 rows\n",
            "tensor([[1., 0.],\n",
            "        [1., 0.],\n",
            "        [1., 0.],\n",
            "        [1., 0.],\n",
            "        [1., 0.]], dtype=torch.float64)\n",
            "zA\n",
            "tensor([[1.2661],\n",
            "        [1.2524],\n",
            "        [1.2469],\n",
            "        ...,\n",
            "        [1.6106],\n",
            "        [1.6156],\n",
            "        [1.5266]])\n",
            "zB\n",
            "tensor([[ 0.1998],\n",
            "        [ 0.2936],\n",
            "        [-0.5521],\n",
            "        ...,\n",
            "        [-0.0917],\n",
            "        [ 0.1400],\n",
            "        [-0.0606]], grad_fn=<SqueezeBackward1>)\n",
            "B query output:\n",
            "[[0.89 0.11]\n",
            " [0.96 0.04]\n",
            " [0.   1.  ]\n",
            " [0.89 0.11]\n",
            " [0.06 0.94]]\n",
            "torch.Size([10000, 2])\n",
            "xB_query mean of each column:\n",
            "tensor([0.6159, 0.3841], grad_fn=<MeanBackward1>)\n",
            "xB_query count of when each column is max:\n"
          ],
          "name": "stdout"
        },
        {
          "output_type": "execute_result",
          "data": {
            "text/plain": [
              "{0: 6288, 1: 3712}"
            ]
          },
          "metadata": {
            "tags": []
          },
          "execution_count": 14
        }
      ]
    },
    {
      "cell_type": "markdown",
      "metadata": {
        "id": "1gQ15yUZnHsc"
      },
      "source": [
        "# Query P(B|A=1), \n",
        "## Groundtruth: \n",
        "\n",
        "P(B=0|A=1) = 1/3\n",
        "\n",
        "P(B=1|A=1) = 2/3"
      ]
    },
    {
      "cell_type": "code",
      "metadata": {
        "id": "LFsGFCqQmIZ-",
        "colab": {
          "base_uri": "https://localhost:8080/"
        },
        "outputId": "4a6edce8-cd42-4de0-a92d-0f1392eb86af"
      },
      "source": [
        "xA_evidence = x_test[1+duplicates] #Evidence is A=1\n",
        "xA_evidence = xA_evidence.repeat(10000,1)\n",
        "print('A evidence input, first 5 rows')\n",
        "print(xA_evidence[0:5]) #need to resize/ view for single sample, or make evidence a batch repeated\n",
        "\n",
        "print('B query output:')\n",
        "\n",
        "xB_query = VAE_MRF.query_single_attribute(x_evidence=xA_evidence.float(), evidence_attribute = 'A')\n",
        "#\n",
        "print(\"xB reconstruction\")\n",
        "print(np.round(xB_query[0:5].cpu().detach().numpy(),decimals=2))\n",
        "#print(xB_query.size())\n",
        "\n",
        "#Averaging all xB_query\n",
        "print('xB_query mean of each column:')\n",
        "print(torch.mean(xB_query,0))\n",
        "\n",
        "#Taking max of each row in xB_query and counting times each element is max\n",
        "print('xB_query count of when each column is max:')\n",
        "_,indices_max =xB_query.max(dim=1) \n",
        "#print(indices_max.numpy())\n",
        "unique, counts = np.unique(indices_max.numpy(), return_counts=True)\n",
        "dict(zip(unique, counts))"
      ],
      "execution_count": 15,
      "outputs": [
        {
          "output_type": "stream",
          "text": [
            "A evidence input, first 5 rows\n",
            "tensor([[0., 1.],\n",
            "        [0., 1.],\n",
            "        [0., 1.],\n",
            "        [0., 1.],\n",
            "        [0., 1.]], dtype=torch.float64)\n",
            "B query output:\n",
            "zA\n",
            "tensor([[-0.5986],\n",
            "        [-1.6072],\n",
            "        [-0.9009],\n",
            "        ...,\n",
            "        [-0.8804],\n",
            "        [-1.5650],\n",
            "        [-0.6539]])\n",
            "zB\n",
            "tensor([[-0.1793],\n",
            "        [-0.5700],\n",
            "        [ 0.1266],\n",
            "        ...,\n",
            "        [-0.1559],\n",
            "        [-0.1203],\n",
            "        [ 0.1628]], grad_fn=<SqueezeBackward1>)\n",
            "xB reconstruction\n",
            "[[0.11 0.89]\n",
            " [0.   1.  ]\n",
            " [0.78 0.22]\n",
            " [0.07 0.93]\n",
            " [0.02 0.98]]\n",
            "xB_query mean of each column:\n",
            "tensor([0.3224, 0.6776], grad_fn=<MeanBackward1>)\n",
            "xB_query count of when each column is max:\n"
          ],
          "name": "stdout"
        },
        {
          "output_type": "execute_result",
          "data": {
            "text/plain": [
              "{0: 2986, 1: 7014}"
            ]
          },
          "metadata": {
            "tags": []
          },
          "execution_count": 15
        }
      ]
    },
    {
      "cell_type": "markdown",
      "metadata": {
        "id": "B8gVDBBLmw7u"
      },
      "source": [
        "Notice that the VAE_MRF can answer the query, but not as accurately as ppandas."
      ]
    },
    {
      "cell_type": "markdown",
      "metadata": {
        "id": "t5whHhIl14l5"
      },
      "source": [
        "# Query P(B|A=1,B=1)\r\n",
        "Feed both A and B, correctly identifies correct B"
      ]
    },
    {
      "cell_type": "code",
      "metadata": {
        "colab": {
          "base_uri": "https://localhost:8080/"
        },
        "id": "aPPraAN111xK",
        "outputId": "c7c4da70-8201-4d00-ada3-4015c87217c9"
      },
      "source": [
        "xA_evidence = x_test[1] #Evidence is A=1\r\n",
        "xA_evidence = xA_evidence.repeat(1000,1)\r\n",
        "\r\n",
        "xB_evidence = x_test[1] #Evidence is A=1\r\n",
        "xB_evidence = xB_evidence.repeat(10000,1)\r\n",
        "\r\n",
        "xB_query,_,_ = VAE_MRF.forward(xA_evidence.float(),xB_evidence.float(), 'A')\r\n",
        "print(np.round(xB_query[0:5].cpu().detach().numpy(),decimals=2))\r\n",
        "print(xB_query.size())\r\n",
        "\r\n",
        "#Averaging all xB_query\r\n",
        "print('xB_query mean of each column:')\r\n",
        "print(torch.mean(xB_query,0))\r\n",
        "\r\n",
        "#Taking max of each row in xB_query and counting times each element is max\r\n",
        "print('xB_query count of when each column is max:')\r\n",
        "_,indices_max =xB_query.max(dim=1) \r\n",
        "#print(indices_max.numpy())\r\n",
        "unique, counts = np.unique(indices_max.numpy(), return_counts=True)\r\n",
        "dict(zip(unique, counts))"
      ],
      "execution_count": 16,
      "outputs": [
        {
          "output_type": "stream",
          "text": [
            "[[0.08 0.92]\n",
            " [0.   1.  ]\n",
            " [0.07 0.93]\n",
            " [0.1  0.9 ]\n",
            " [0.98 0.02]]\n",
            "torch.Size([10000, 2])\n",
            "xB_query mean of each column:\n",
            "tensor([0.2875, 0.7125], grad_fn=<MeanBackward1>)\n",
            "xB_query count of when each column is max:\n"
          ],
          "name": "stdout"
        },
        {
          "output_type": "execute_result",
          "data": {
            "text/plain": [
              "{0: 2501, 1: 7499}"
            ]
          },
          "metadata": {
            "tags": []
          },
          "execution_count": 16
        }
      ]
    },
    {
      "cell_type": "markdown",
      "metadata": {
        "id": "7oMp0BWBo3po"
      },
      "source": [
        "#Query P(A|B= -1)\n",
        "Try feeding into B encoder negative ones."
      ]
    },
    {
      "cell_type": "code",
      "metadata": {
        "id": "zN5B_9zMpBib",
        "colab": {
          "base_uri": "https://localhost:8080/"
        },
        "outputId": "87b706ac-0fd8-4db4-9c0b-c555563e7460"
      },
      "source": [
        "xA_evidence = x_test[0] #Evidence is A=0\n",
        "xA_evidence = xA_evidence.repeat(1000,1)\n",
        "xB = torch.tensor([0,0])\n",
        "#xB = torch.tensor([0,0,0,0,0,0,0,0])\n",
        "#xB = torch.tensor([0,0,0,0,0,0,0,1]) # if feed in valid input, get correct result\n",
        "xB = xB.repeat(1000,1)\n",
        "\n",
        "xB_query,_,_ = VAE_MRF.forward(xA_evidence.float(),xB.float(), attribute='B')\n",
        "print(xB_query.size())\n",
        "#Averaging all xB_query\n",
        "print('xB_query mean of each column:')\n",
        "print(torch.mean(xB_query,0))\n"
      ],
      "execution_count": 17,
      "outputs": [
        {
          "output_type": "stream",
          "text": [
            "torch.Size([1000, 2])\n",
            "xB_query mean of each column:\n",
            "tensor([0.6082, 0.3918], grad_fn=<MeanBackward1>)\n"
          ],
          "name": "stdout"
        }
      ]
    },
    {
      "cell_type": "markdown",
      "metadata": {
        "id": "DZJqFYQKqEWZ"
      },
      "source": [
        "- No matter xA evidence, if B encoder always given -1's B decoder same xB\n",
        "- No matter xA evidence, if B encoder always given 0's B decoder returns same xB\n",
        "- If feed in valid xB as evidence, then get correct xB as expected"
      ]
    },
    {
      "cell_type": "markdown",
      "metadata": {
        "id": "niyylLQg52C9"
      },
      "source": [
        "# Querying the VAE-MRF\r\n",
        "Once  the VAE-MRF is trained, to query P(B|A=0=(1,0,0,0,0,0,0,0))\r\n",
        "- Feed $x_A$ into the A encoder to obtain $\\mu_A, \\Sigma_A$\r\n",
        "- Sample $z_A$ using $\\mu_A, \\Sigma_A$ (standard VAE reparameterization trick)\r\n",
        "- Since no input $x_B$ to the B encoder, assume $\\mu_B, \\Sigma_B$ come from the prior P(z) = Normal (0, Identity)\r\n",
        "- Using $z_A, \\mu_A, \\Sigma_A, \\mu_B, \\Sigma_B$, sample $z_B$ from $P(z_B|z_A)$\r\n",
        "- Feed $z_B$ into the B decoder to obtain $\\hat{x}_B$ \\\\\r\n",
        "\r\n",
        "Repeat, feeding in evidence $x_A$ multiple times to the VAE-MRF to obtain a probability distribution $P(\\hat{x}_B|x_A)$\r\n",
        "\r\n",
        "# Extension to Two Datasets AB and BC (not yet implemented)\r\n",
        "$P(z_A,z_B,z_C) = Normal\r\n",
        "\\left(\\left( \\begin{array}{r} \\mu_A \\\\ \\mu_B \\\\ \\mu_C \\end{array} \\right), \r\n",
        "\\left[ \\begin{array}{r} \\Sigma_{A} & \\Sigma_{AB} & 0 \\\\ \\Sigma_{BA} & \\Sigma_{B} & \\Sigma_{BC}  \\\\ 0 & \\Sigma_{CB} & \\Sigma_{C} \\end{array} \\right] \\right) $ \r\n",
        "\r\n",
        "In addition to the AB VAE-MRF: \\\\\r\n",
        "  - $\\mu_{C}$,  $\\Sigma_{C}$ are the outputs of the C encoder \\\\\r\n",
        "  -\t$\\Sigma_{BC}$ = $\\Sigma_{CB}^T$ \r\n",
        "\r\n",
        "## Training the ABC VAE-MRF \r\n",
        "First sample $x_B$ from either the AB or BC dataset. Then using $x_B$, sample $x_A$ from the AB dataset and sample $x_C$ from the BC dataset.\r\n",
        "\r\n",
        "- As given previously, feed $x_A, x_B$ to their respective encoders to obtain  $\\mu_A, \\Sigma_A,  \\mu_B, \\Sigma_B$ and obtain reconstructions $\\hat{x_A}, \\hat{x_B}$. Then sum the losses (reconstruction error and KL-divergence) from both A and B  and backpropagate once per batch\r\n",
        "\r\n",
        "- Feed in $x_C$ and $x_B$ to their respective encoders to:\r\n",
        "  - obtain $\\mu_C, \\Sigma_C$ from encoder C\r\n",
        "  - obtain $\\mu_B, \\Sigma_B$ from encoder B\r\n",
        "\r\n",
        "- To reconstruct $x_C$:\r\n",
        "  - Sample $z_B$ using $\\mu_B, \\Sigma_B$ (standard VAE reparameterization trick)\r\n",
        "  - Using $z_B,\\mu_C, \\Sigma_C, \\mu_B, \\Sigma_B$, sample $z_C$ from $P(z_C|z_B)$ (modified VAE reparameterization trick)\r\n",
        "  - Feed $z_C$ into the C decoder to obtain the reconstruction $\\hat{x}_C$ for $x_C$\r\n",
        "\r\n",
        "- To reconstruct $x_B$:\r\n",
        "  - Sample $z_C$ using $\\mu_C, \\Sigma_C$ (standard VAE reparameterization trick)\r\n",
        "  - Using $z_C,\\mu_C, \\Sigma_C, \\mu_B, \\Sigma_B$, sample $z_B$ from $P(z_B|z_C)$ (modified VAE reparameterization trick)\r\n",
        "  - Feed $z_B$ into the B decoder to obtain the reconstruction $\\hat{x}_B$ for $x_B$\r\n",
        "\r\n",
        "- Sum the losses (reconstruction error and KL-divergence) from both B and C  and backpropagate once per batch\r\n",
        "\r\n",
        "## Querying the ABC VAE-MRF\r\n",
        "Once  the VAE-MRF is trained, to query P(C|A=0=(1,0,0,0,0,0,0,0))\r\n",
        "- Feed $x_A$ into the A encoder to obtain $\\mu_A, \\Sigma_A$\r\n",
        "- Sample $z_A$ using $\\mu_A, \\Sigma_A$ (standard VAE reparameterization trick)\r\n",
        "- Since no input $x_B, x_C$ to the B or C encoders, assume $\\mu_B, \\Sigma_B$ and $\\mu_C, \\Sigma_C$ come from the prior P(z) = Normal (0, Identity)\r\n",
        "- Using $z_A, \\mu_A, \\Sigma_A, \\mu_B, \\Sigma_B$, sample $z_B$ from $P(z_B|z_A)$\r\n",
        "- Using $z_B, \\mu_C, \\Sigma_C, \\mu_B, \\Sigma_B$, sample $z_C$ from $P(z_C|z_B)$\r\n",
        "- Feed $z_C$ into the C decoder to obtain $\\hat{x}_C$ \\\\\r\n",
        "\r\n",
        "Repeat, feeding in evidence $x_A$ multiple times to the VAE-MRF to obtain a probability distribution $P(\\hat{x}_B|x_A)$\r\n",
        "\r\n",
        "# Notes\r\n",
        "\r\n",
        "A symmetric matrix is positive definite if:\r\n",
        "\r\n",
        "- all the diagonal entries are positive, and\r\n",
        "- each diagonal entry is greater than the sum of the absolute values of all other entries in the corresponding row/column.\r\n"
      ]
    },
    {
      "cell_type": "markdown",
      "metadata": {
        "id": "sPKlzMCE8abG"
      },
      "source": [
        "# Questions and Notes\n",
        "\n",
        "Requires alternating between AB and BC samples where B is the same.\n",
        "\n",
        "Have a separate plate for each dataset.\n",
        "In Bayesian network, need to learn P(B),P(A|B), P(C|B). \\\\\n",
        "In MRF need to learn factors $\\phi(A,B)$ and $\\phi(B,C)$.\n",
        "\n",
        "How to handle datasets with 3 dimensions.\n",
        "Latent edges between A,B,C (clique)?\n",
        "\n",
        "Do we need to incorporate the parition function Z? If want probabilities that sum to 1 then yes. But if just looking to have input into the decoders then normalizing isn't necessary?\n",
        "\n",
        "Koller Definition 4.3: \\\\\n",
        "$Z = \\sum_{AB,BC} \\phi(A,B) \\times \\phi(B,C)$ \\\\\n",
        "$P(A,B,C) = \\frac{1}{Z} \\phi(A,B) \\times \\phi(B,C)$ "
      ]
    },
    {
      "cell_type": "markdown",
      "metadata": {
        "id": "sgk-LlXB64eb"
      },
      "source": [
        "# To Do\n",
        "\n",
        "- Query P(A|B=0)\n",
        "- Add BC Plate\n",
        "- Visualize latent space\n",
        "- Try more than 1 sample when sampling zA and zB\n",
        "- During training, try reconstructing A given only x_B and reconstructing B given only x_A. I believe feeding in A (and B) to reconstruct A during train time does not match what is required of the model during test time where we feed in only B to reconstruct A.\n",
        "- Modifying variational_beta to lowest value that reconstructions were valid did not change ressults (0.0001), any higher variational_beta gave poor reconstructions.\n",
        "- Check if training on only A improves performance\n",
        "- Formalize in Overleaf\n",
        "- Answer general research questions\n",
        "- Try different likelihood functions (bernoulli, gaussian)\n"
      ]
    },
    {
      "cell_type": "markdown",
      "metadata": {
        "id": "ulCII451nHRR"
      },
      "source": [
        ""
      ]
    },
    {
      "cell_type": "code",
      "metadata": {
        "id": "WJ_f2Kmg7H9O"
      },
      "source": [
        ""
      ],
      "execution_count": 17,
      "outputs": []
    }
  ]
}