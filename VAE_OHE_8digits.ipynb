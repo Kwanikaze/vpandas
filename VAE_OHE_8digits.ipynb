{
  "nbformat": 4,
  "nbformat_minor": 0,
  "metadata": {
    "kernelspec": {
      "display_name": "Python 3",
      "language": "python",
      "name": "python3"
    },
    "language_info": {
      "codemirror_mode": {
        "name": "ipython",
        "version": 3
      },
      "file_extension": ".py",
      "mimetype": "text/x-python",
      "name": "python",
      "nbconvert_exporter": "python",
      "pygments_lexer": "ipython3",
      "version": "3.7.6"
    },
    "colab": {
      "name": "VAE_OHE_8digits.ipynb",
      "provenance": [],
      "collapsed_sections": [],
      "include_colab_link": true
    }
  },
  "cells": [
    {
      "cell_type": "markdown",
      "metadata": {
        "id": "view-in-github",
        "colab_type": "text"
      },
      "source": [
        "<a href=\"https://colab.research.google.com/github/Kwanikaze/vpandas/blob/master/VAE_OHE_8digits.ipynb\" target=\"_parent\"><img src=\"https://colab.research.google.com/assets/colab-badge.svg\" alt=\"Open In Colab\"/></a>"
      ]
    },
    {
      "cell_type": "code",
      "metadata": {
        "id": "CeceBtIqk40F",
        "colab_type": "code",
        "colab": {}
      },
      "source": [
        "import torch\n",
        "import torch.nn as nn\n",
        "import torch.nn.functional as F\n",
        "from torch.autograd import Variable\n",
        "import matplotlib.pyplot as plt\n",
        "import numpy as np"
      ],
      "execution_count": 1,
      "outputs": []
    },
    {
      "cell_type": "markdown",
      "metadata": {
        "id": "KOe_5lSNk40a",
        "colab_type": "text"
      },
      "source": [
        "## Generate Data"
      ]
    },
    {
      "cell_type": "code",
      "metadata": {
        "id": "W6w_tzckk40d",
        "colab_type": "code",
        "colab": {}
      },
      "source": [
        "def generate_data(num=8):\n",
        "    \"\"\" Generate 'num' number of one-hot encoded integers. \"\"\" \n",
        "    x_train = np.eye(num)[np.arange(num)]                       # This is a simple way to one-hot encode integers\n",
        "    \n",
        "    # Repeat x_train multiple times for training\n",
        "    x_train = np.repeat(x_train, 100, axis=0)\n",
        "    \n",
        "    # The target is x_train itself!\n",
        "    x_target = x_train.copy()\n",
        "    return x_train, x_target"
      ],
      "execution_count": 2,
      "outputs": []
    },
    {
      "cell_type": "code",
      "metadata": {
        "id": "vBFcKXd5k40s",
        "colab_type": "code",
        "colab": {}
      },
      "source": [
        "num = 8\n",
        "np.random.seed(10)\n",
        "x_train, x_target = generate_data(num=num)"
      ],
      "execution_count": 3,
      "outputs": []
    },
    {
      "cell_type": "code",
      "metadata": {
        "id": "YRABg0T_k405",
        "colab_type": "code",
        "colab": {
          "base_uri": "https://localhost:8080/",
          "height": 170
        },
        "outputId": "77a3675b-0f59-4e2a-b683-0a5d7bf2abb7"
      },
      "source": [
        "print(x_train)\n",
        "print(np.shape(x_train))\n",
        "print(np.shape(x_target))"
      ],
      "execution_count": 4,
      "outputs": [
        {
          "output_type": "stream",
          "text": [
            "[[1. 0. 0. ... 0. 0. 0.]\n",
            " [1. 0. 0. ... 0. 0. 0.]\n",
            " [1. 0. 0. ... 0. 0. 0.]\n",
            " ...\n",
            " [0. 0. 0. ... 0. 0. 1.]\n",
            " [0. 0. 0. ... 0. 0. 1.]\n",
            " [0. 0. 0. ... 0. 0. 1.]]\n",
            "(800, 8)\n",
            "(800, 8)\n"
          ],
          "name": "stdout"
        }
      ]
    },
    {
      "cell_type": "markdown",
      "metadata": {
        "id": "hzZqYNAAk41H",
        "colab_type": "text"
      },
      "source": [
        "## Variational Autoencoder Parameters"
      ]
    },
    {
      "cell_type": "code",
      "metadata": {
        "id": "sqElA0Vek41J",
        "colab_type": "code",
        "colab": {}
      },
      "source": [
        "#Parameters\n",
        "latent_dims = 3\n",
        "num_epochs = 2000\n",
        "batch_size = 64\n",
        "learning_rate = 1e-3\n",
        "use_gpu = True\n",
        "variational_beta = 0.00001 #tuned"
      ],
      "execution_count": 5,
      "outputs": []
    },
    {
      "cell_type": "markdown",
      "metadata": {
        "id": "mBoIJElDk41T",
        "colab_type": "text"
      },
      "source": [
        "## VAE Definition\n",
        "https://colab.research.google.com/github/smartgeometry-ucl/dl4g/blob/master/variational_autoencoder.ipynb#scrollTo=0psoODlF9S_Y\n",
        "\n",
        "https://stats.stackexchange.com/questions/361643/sampling-z-in-vae\n",
        "\n",
        "https://stats.stackexchange.com/questions/318748/deriving-the-kl-divergence-loss-for-vaes"
      ]
    },
    {
      "cell_type": "code",
      "metadata": {
        "id": "aQlrdfK0k41V",
        "colab_type": "code",
        "colab": {}
      },
      "source": [
        "class VariationalAutoencoder(nn.Module):\n",
        "    def __init__(self, latent_dims):\n",
        "        super().__init__()\n",
        "        self.latent_dims = latent_dims\n",
        "        self.fc1 = nn.Linear(num, latent_dims) # why have this additional fc layer?\n",
        "        self.fc_mu = nn.Linear(latent_dims, latent_dims)\n",
        "        self.fc_logvar = nn.Linear(latent_dims, latent_dims)\n",
        "        self.fc_out = nn.Linear(latent_dims,num)\n",
        "\n",
        "    def encode(self, x):\n",
        "        h1 = torch.sigmoid(self.fc1(x))\n",
        "        return self.fc_mu(h1), self.fc_logvar(h1)\n",
        "\n",
        "    def reparameterize(self, mu, logvar):\n",
        "        std = torch.exp(0.5*logvar)\n",
        "        eps = torch.randn_like(std)\n",
        "        return mu + eps*std\n",
        "\n",
        "    def decode(self, z):\n",
        "        if z.size()[0] == self.latent_dims: #resize from [3] to [1,3]\n",
        "          z = z.view(1, self.latent_dims)\n",
        "        softmax = nn.Softmax(dim=1)\n",
        "        recon = softmax(self.fc_out(z))\n",
        "        return recon\n",
        "\n",
        "    def forward(self, x, latent_dims):\n",
        "        mu, logvar = self.encode(x)\n",
        "        z = self.reparameterize(mu, logvar)\n",
        "        return self.decode(z), mu, logvar\n",
        "\n",
        "    def latent(self,x,latent_dims):\n",
        "        mu, logvar = self.encode(x)\n",
        "        z = self.reparameterize(mu, logvar)\n",
        "        return z\n",
        "        \n",
        "    def sample(self, num_samples):\n",
        "      # ignore latent_mu, latent_logvar, instead generate z values from standard normal\n",
        "      z = torch.randn(num_samples, self.latent_dims)\n",
        "      z = z.to(device)\n",
        "      samples = self.decode(z)\n",
        "      return samples\n",
        "\n",
        "def vae_loss(batch_recon, x_batch_targets, mu, logvar):\n",
        "  criterion = nn.CrossEntropyLoss()\n",
        "  CE = criterion(batch_recon, x_batch_targets)\n",
        "  #print(CE)\n",
        "  #BCE = F.binary_cross_entropy(recon, x, reduction='sum') #one hot encoded input\n",
        "  KLd = -0.5 * torch.sum(1 + logvar - mu.pow(2) - logvar.exp()) # https://stats.stackexchange.com/questions/318748/deriving-the-kl-divergence-loss-for-vaes\n",
        "  #print(KLd)\n",
        "  return CE,variational_beta*KLd, CE + variational_beta*KLd"
      ],
      "execution_count": 6,
      "outputs": []
    },
    {
      "cell_type": "code",
      "metadata": {
        "id": "sFg18NYGMEu9",
        "colab_type": "code",
        "colab": {}
      },
      "source": [
        "def trainVAE(VAE, latent_dims):\n",
        "  VAE.train()\n",
        "  x_train, x_target = generate_data(num=num)\n",
        "  inds = list(range(x_train.shape[0]))\n",
        "  N = x_train.shape[0] # 800\n",
        "  freq = num_epochs // 10 # floor division\n",
        "\n",
        "  loss_hist = []\n",
        "  x_train = Variable(torch.from_numpy(x_train))\n",
        "  x_target = Variable(torch.from_numpy(x_target))\n",
        "  for epoch in range(num_epochs):\n",
        "      inds = np.random.permutation(inds)\n",
        "      x_train = x_train[inds]\n",
        "      x_train = x_train.to(device)\n",
        "      x_target = x_target[inds]\n",
        "      x_target = x_target.to(device)\n",
        "      \n",
        "      loss = 0\n",
        "      CE = 0\n",
        "      KLd = 0\n",
        "      num_batches = N / batch_size\n",
        "      for b in range(0, N, batch_size):\n",
        "          #get the mini-batch\n",
        "          x_batch = x_train[b: b+batch_size]\n",
        "          x_target_batch = x_target[b: b+batch_size]\n",
        "          \n",
        "          #feed forward\n",
        "          batch_recon,latent_mu,latent_logvar = VAE(x=x_batch.float(),latent_dims = latent_dims)\n",
        "          \n",
        "          # Error\n",
        "          #Convert x_batch from OHE vectors to single scalar for target class, of each sample in batch \n",
        "          _, x_batch_targets = x_batch.max(dim=1)\n",
        "          train_CE, train_KLd, train_loss = vae_loss(batch_recon, x_batch_targets, latent_mu, latent_logvar)\n",
        "          #print(batch_recon.size())\n",
        "          #print(x_batch_targets.size())\n",
        "          loss += train_loss.item() / N # update epoch loss\n",
        "          CE += train_CE.item() / N \n",
        "          KLd += train_KLd.item() / N \n",
        "\n",
        "          #Backprop the error, compute the gradient\n",
        "          optimizer.zero_grad()\n",
        "          train_loss.backward()\n",
        "          \n",
        "          #update parameters based on gradient\n",
        "          optimizer.step()\n",
        "          \n",
        "      #Record loss per epoch        \n",
        "      loss_hist.append(loss)\n",
        "      \n",
        "      if epoch % freq == 0:\n",
        "          print()\n",
        "          print(\"Epoch %d/%d\\t CE: %.5f, KLd: %.5f, Train loss=%.5f\" % (epoch + 1, num_epochs,CE,KLd, loss), end='\\t', flush=True)\n",
        "          \n",
        "          #Test with all training data\n",
        "          VAE.eval()\n",
        "          train_recon, train_mu, train_logvar = VAE(x = x_train.float(),latent_dims=latent_dims)\n",
        "          _, x_targets = x_target.max(dim=1)\n",
        "          CE,KLd,test_loss = vae_loss(train_recon, x_targets, train_mu, train_logvar)\n",
        "          print(\"\\t CE: {:.5f}, KLd: {:.5f}, Test loss: {:.5f}\".format(CE,KLd,test_loss.item()), end='')\n",
        "      \n",
        "  print(\"\\nTraining finished!\")"
      ],
      "execution_count": 7,
      "outputs": []
    },
    {
      "cell_type": "markdown",
      "metadata": {
        "id": "t7p1lvpQoHEr",
        "colab_type": "text"
      },
      "source": [
        "## Latent dimensions set to 3"
      ]
    },
    {
      "cell_type": "code",
      "metadata": {
        "id": "0_jC_HeUk41j",
        "colab_type": "code",
        "colab": {
          "base_uri": "https://localhost:8080/",
          "height": 340
        },
        "outputId": "1b096e05-b208-484c-8bf3-6cfb1d334d91"
      },
      "source": [
        "#  use gpu if available\n",
        "device = torch.device(\"cuda:0\" if use_gpu and torch.cuda.is_available() else \"cpu\")\n",
        "VAE = VariationalAutoencoder(latent_dims=3)\n",
        "VAE = VAE.to(device)\n",
        "num_params = sum(p.numel() for p in VAE.parameters() if p.requires_grad)\n",
        "print(VAE.parameters)\n",
        "print(\"Number of parameters: %d\" % num_params) #8*3 + 3 = 27, 3*8 + 8 = 32, 27+32\n",
        "\n",
        "# optimizer object\n",
        "optimizer = torch.optim.Adam(params = VAE.parameters(), lr = learning_rate)\n",
        "#criterion = nn.CrossEntropyLoss()    # for target, does not accept a OHE vector\n",
        "#criterion = nn.NLLLoss()\n",
        "\n",
        "trainVAE(VAE, latent_dims=3)"
      ],
      "execution_count": 8,
      "outputs": [
        {
          "output_type": "stream",
          "text": [
            "<bound method Module.parameters of VariationalAutoencoder(\n",
            "  (fc1): Linear(in_features=8, out_features=3, bias=True)\n",
            "  (fc_mu): Linear(in_features=3, out_features=3, bias=True)\n",
            "  (fc_logvar): Linear(in_features=3, out_features=3, bias=True)\n",
            "  (fc_out): Linear(in_features=3, out_features=8, bias=True)\n",
            ")>\n",
            "Number of parameters: 83\n",
            "\n",
            "Epoch 1/2000\t CE: 0.03385, KLd: 0.00001, Train loss=0.03386\t\t CE: 2.08214, KLd: 0.00606, Test loss: 2.08820\n",
            "Epoch 201/2000\t CE: 0.02226, KLd: 0.00014, Train loss=0.02240\t\t CE: 1.36708, KLd: 0.11540, Test loss: 1.48248\n",
            "Epoch 401/2000\t CE: 0.02079, KLd: 0.00017, Train loss=0.02096\t\t CE: 1.27924, KLd: 0.13924, Test loss: 1.41848\n",
            "Epoch 601/2000\t CE: 0.02073, KLd: 0.00013, Train loss=0.02086\t\t CE: 1.27571, KLd: 0.10389, Test loss: 1.37961\n",
            "Epoch 801/2000\t CE: 0.02072, KLd: 0.00008, Train loss=0.02080\t\t CE: 1.27505, KLd: 0.06663, Test loss: 1.34167\n",
            "Epoch 1001/2000\t CE: 0.02071, KLd: 0.00007, Train loss=0.02078\t\t CE: 1.27451, KLd: 0.05324, Test loss: 1.32775\n",
            "Epoch 1201/2000\t CE: 0.02071, KLd: 0.00006, Train loss=0.02077\t\t CE: 1.27441, KLd: 0.04825, Test loss: 1.32266\n",
            "Epoch 1401/2000\t CE: 0.02071, KLd: 0.00006, Train loss=0.02076\t\t CE: 1.27430, KLd: 0.04505, Test loss: 1.31935\n",
            "Epoch 1601/2000\t CE: 0.02071, KLd: 0.00005, Train loss=0.02076\t\t CE: 1.27424, KLd: 0.04388, Test loss: 1.31811\n",
            "Epoch 1801/2000\t CE: 0.02071, KLd: 0.00005, Train loss=0.02076\t\t CE: 1.27424, KLd: 0.04183, Test loss: 1.31607\n",
            "Training finished!\n"
          ],
          "name": "stdout"
        }
      ]
    },
    {
      "cell_type": "markdown",
      "metadata": {
        "id": "ZiNZ-xYKurly",
        "colab_type": "text"
      },
      "source": [
        "KL Divergence increases, then decreases. Cross Entropy loss (reconstruction term of the ELBO) steadily decreases."
      ]
    },
    {
      "cell_type": "code",
      "metadata": {
        "id": "9xy-rJaQk413",
        "colab_type": "code",
        "colab": {
          "base_uri": "https://localhost:8080/",
          "height": 170
        },
        "outputId": "fade3dea-2a52-45d0-f150-fddd7ca3364b"
      },
      "source": [
        "print(\"Print prediction results:\")\n",
        "x_test = np.eye(num)[np.arange(num)]                        # Test data (one-hot encoded)\n",
        "x_test = Variable(torch.from_numpy(x_test))\n",
        "x_test = x_test.to(device)\n",
        "#np.set_printoptions(2)\n",
        "for x in x_test:\n",
        "    print(\"\\tInput: {} \\t Output: {}\".format(x.cpu().detach().numpy(), np.round(VAE(x=x.float(),latent_dims=3)[0].cpu().detach().numpy(),decimals=2)))"
      ],
      "execution_count": 9,
      "outputs": [
        {
          "output_type": "stream",
          "text": [
            "Print prediction results:\n",
            "\tInput: [1. 0. 0. 0. 0. 0. 0. 0.] \t Output: [[1. 0. 0. 0. 0. 0. 0. 0.]]\n",
            "\tInput: [0. 1. 0. 0. 0. 0. 0. 0.] \t Output: [[0. 1. 0. 0. 0. 0. 0. 0.]]\n",
            "\tInput: [0. 0. 1. 0. 0. 0. 0. 0.] \t Output: [[0. 0. 1. 0. 0. 0. 0. 0.]]\n",
            "\tInput: [0. 0. 0. 1. 0. 0. 0. 0.] \t Output: [[0. 0. 0. 1. 0. 0. 0. 0.]]\n",
            "\tInput: [0. 0. 0. 0. 1. 0. 0. 0.] \t Output: [[0. 0. 0. 0. 1. 0. 0. 0.]]\n",
            "\tInput: [0. 0. 0. 0. 0. 1. 0. 0.] \t Output: [[0. 0. 0. 0. 0. 1. 0. 0.]]\n",
            "\tInput: [0. 0. 0. 0. 0. 0. 1. 0.] \t Output: [[0. 0. 0. 0. 0. 0. 1. 0.]]\n",
            "\tInput: [0. 0. 0. 0. 0. 0. 0. 1.] \t Output: [[0. 0. 0. 0. 0. 0. 0. 1.]]\n"
          ],
          "name": "stdout"
        }
      ]
    },
    {
      "cell_type": "markdown",
      "metadata": {
        "id": "rnaIbr6ak42A",
        "colab_type": "text"
      },
      "source": [
        "## Extract intermediate features using Forward Hook"
      ]
    },
    {
      "cell_type": "code",
      "metadata": {
        "id": "SfA3tcdOk42L",
        "colab_type": "code",
        "colab": {}
      },
      "source": [
        "def inside_layer(self, input1, output):\n",
        "    # input is a tuple of packed inputs\n",
        "    # output is a Tensor. output.data is the Tensor we are interested\n",
        "    print('\\tInside ' + self.__class__.__name__ + ' forward')\n",
        "    #print('\\t input:', input1[0].cpu().detach().numpy())\n",
        "    print('\\t input rounded to 2 decimals:', np.round(input1[0].cpu().detach().numpy(),2))\n",
        "    #print('\\t output:', output.cpu().detach().numpy())\n",
        "    print('\\t output rounded to 2 decimals:', np.round(output.cpu().detach().numpy(),2))"
      ],
      "execution_count": 10,
      "outputs": []
    },
    {
      "cell_type": "code",
      "metadata": {
        "id": "hVFAOIRLk42U",
        "colab_type": "code",
        "colab": {
          "base_uri": "https://localhost:8080/",
          "height": 561
        },
        "outputId": "95801084-c3b5-4ab4-d358-4696c45a3a4e"
      },
      "source": [
        "mu_hook = VAE.fc_mu.register_forward_hook(inside_layer)\n",
        "for x in x_test:\n",
        "    print('INPUT: {}'.format(x.cpu().detach().numpy()))\n",
        "    out = VAE(x=x.float(),latent_dims=3)\n",
        "    #print(out)\n",
        "mu_hook.remove() #remove hook after use"
      ],
      "execution_count": 11,
      "outputs": [
        {
          "output_type": "stream",
          "text": [
            "INPUT: [1. 0. 0. 0. 0. 0. 0. 0.]\n",
            "\tInside Linear forward\n",
            "\t input rounded to 2 decimals: [0.04 0.28 0.6 ]\n",
            "\t output rounded to 2 decimals: [ 2.15  0.22 -1.22]\n",
            "INPUT: [0. 1. 0. 0. 0. 0. 0. 0.]\n",
            "\tInside Linear forward\n",
            "\t input rounded to 2 decimals: [0.61 0.7  0.07]\n",
            "\t output rounded to 2 decimals: [-2.09  1.34  0.08]\n",
            "INPUT: [0. 0. 1. 0. 0. 0. 0. 0.]\n",
            "\tInside Linear forward\n",
            "\t input rounded to 2 decimals: [0.95 0.84 0.56]\n",
            "\t output rounded to 2 decimals: [-1.56 -1.39  0.67]\n",
            "INPUT: [0. 0. 0. 1. 0. 0. 0. 0.]\n",
            "\tInside Linear forward\n",
            "\t input rounded to 2 decimals: [0.5  0.01 0.47]\n",
            "\t output rounded to 2 decimals: [ 2.09 -0.41  1.61]\n",
            "INPUT: [0. 0. 0. 0. 1. 0. 0. 0.]\n",
            "\tInside Linear forward\n",
            "\t input rounded to 2 decimals: [0.01 0.39 0.13]\n",
            "\t output rounded to 2 decimals: [ 0.22  2.3  -1.4 ]\n",
            "INPUT: [0. 0. 0. 0. 0. 1. 0. 0.]\n",
            "\tInside Linear forward\n",
            "\t input rounded to 2 decimals: [0.4  0.89 0.63]\n",
            "\t output rounded to 2 decimals: [-0.76 -0.4  -1.77]\n",
            "INPUT: [0. 0. 0. 0. 0. 0. 1. 0.]\n",
            "\tInside Linear forward\n",
            "\t input rounded to 2 decimals: [0.73 0.22 0.09]\n",
            "\t output rounded to 2 decimals: [-0.32  0.76  2.11]\n",
            "INPUT: [0. 0. 0. 0. 0. 0. 0. 1.]\n",
            "\tInside Linear forward\n",
            "\t input rounded to 2 decimals: [0.62 0.65 0.89]\n",
            "\t output rounded to 2 decimals: [ 0.72 -2.1  -0.28]\n"
          ],
          "name": "stdout"
        }
      ]
    },
    {
      "cell_type": "code",
      "metadata": {
        "id": "i49cWlgTx5QU",
        "colab_type": "code",
        "colab": {
          "base_uri": "https://localhost:8080/",
          "height": 561
        },
        "outputId": "48ad7f9b-08dc-493a-85ad-ae85423b21b8"
      },
      "source": [
        "decoder_hook = VAE.fc_out.register_forward_hook(inside_layer)\n",
        "for x in x_test:\n",
        "    print('INPUT: {}'.format(x.cpu().detach().numpy()))\n",
        "    out = VAE(x=x.float(),latent_dims=3)\n",
        "    #print(out)\n",
        "decoder_hook.remove() #remove hook after use"
      ],
      "execution_count": 12,
      "outputs": [
        {
          "output_type": "stream",
          "text": [
            "INPUT: [1. 0. 0. 0. 0. 0. 0. 0.]\n",
            "\tInside Linear forward\n",
            "\t input rounded to 2 decimals: [[ 2.75  0.23 -1.28]]\n",
            "\t output rounded to 2 decimals: [[ 25.14 -15.64 -20.54  11.17   7.84   2.93  -9.57   9.27]]\n",
            "INPUT: [0. 1. 0. 0. 0. 0. 0. 0.]\n",
            "\tInside Linear forward\n",
            "\t input rounded to 2 decimals: [[-1.56  1.15 -0.08]]\n",
            "\t output rounded to 2 decimals: [[ -9.56  15.12   3.14 -14.44   6.63   5.3    4.46 -10.45]]\n",
            "INPUT: [0. 0. 1. 0. 0. 0. 0. 0.]\n",
            "\tInside Linear forward\n",
            "\t input rounded to 2 decimals: [[-1.8  -1.06  1.15]]\n",
            "\t output rounded to 2 decimals: [[-17.81   6.96  18.21  -7.21 -15.73  -0.04   8.21   1.61]]\n",
            "INPUT: [0. 0. 0. 1. 0. 0. 0. 0.]\n",
            "\tInside Linear forward\n",
            "\t input rounded to 2 decimals: [[ 2.1  -0.43  1.08]]\n",
            "\t output rounded to 2 decimals: [[ 11.01 -14.08  -7.67  19.72  -8.89 -10.82   6.36   8.95]]\n",
            "INPUT: [0. 0. 0. 0. 1. 0. 0. 0.]\n",
            "\tInside Linear forward\n",
            "\t input rounded to 2 decimals: [[-0.09  2.1  -1.5 ]]\n",
            "\t output rounded to 2 decimals: [[  7.12  10.09 -13.52 -12.44  21.27  10.    -4.54 -10.71]]\n",
            "INPUT: [0. 0. 0. 0. 0. 1. 0. 0.]\n",
            "\tInside Linear forward\n",
            "\t input rounded to 2 decimals: [[-0.93 -1.17 -1.72]]\n",
            "\t output rounded to 2 decimals: [[ -0.82   0.54   6.47 -16.12  -1.96  17.58 -13.48   8.06]]\n",
            "INPUT: [0. 0. 0. 0. 0. 0. 1. 0.]\n",
            "\tInside Linear forward\n",
            "\t input rounded to 2 decimals: [[-0.24  0.3   1.93]]\n",
            "\t output rounded to 2 decimals: [[ -8.44   3.71   4.61   6.66  -8.88 -11.25  16.06  -3.49]]\n",
            "INPUT: [0. 0. 0. 0. 0. 0. 0. 1.]\n",
            "\tInside Linear forward\n",
            "\t input rounded to 2 decimals: [[ 0.53 -1.5  -0.17]]\n",
            "\t output rounded to 2 decimals: [[  3.51  -9.53   3.47   2.98 -11.34   3.26  -4.09  12.65]]\n"
          ],
          "name": "stdout"
        }
      ]
    },
    {
      "cell_type": "markdown",
      "metadata": {
        "id": "IbZp4I_juneN",
        "colab_type": "text"
      },
      "source": [
        "## Generate Samples\n",
        "https://www.jeremyjordan.me/variational-autoencoders/\n",
        "\n",
        "https://towardsdatascience.com/intuitively-understanding-variational-autoencoders-1bfe67eb5daf"
      ]
    },
    {
      "cell_type": "code",
      "metadata": {
        "id": "iz9-A9XK4nBg",
        "colab_type": "code",
        "colab": {
          "base_uri": "https://localhost:8080/",
          "height": 170
        },
        "outputId": "12894e02-557c-4961-b8e6-ce035ebaaf82"
      },
      "source": [
        "samples = VAE.sample(num_samples=1000)\n",
        "#print(samples[0:5])\n",
        "print(np.round(samples[0:9].cpu().detach().numpy(),2))"
      ],
      "execution_count": 13,
      "outputs": [
        {
          "output_type": "stream",
          "text": [
            "[[0.   0.77 0.   0.   0.17 0.06 0.   0.  ]\n",
            " [0.   0.   0.   0.   0.   0.   1.   0.  ]\n",
            " [0.04 0.   0.   0.   0.   0.   0.   0.96]\n",
            " [0.   0.16 0.77 0.   0.   0.06 0.   0.  ]\n",
            " [0.   0.   0.   0.   0.   0.07 0.   0.93]\n",
            " [0.01 0.   0.   0.   0.01 0.98 0.   0.  ]\n",
            " [0.   0.   0.02 0.   0.   0.01 0.   0.97]\n",
            " [0.6  0.   0.   0.4  0.   0.   0.   0.  ]\n",
            " [0.   0.   0.12 0.03 0.   0.   0.06 0.79]]\n"
          ],
          "name": "stdout"
        }
      ]
    },
    {
      "cell_type": "markdown",
      "metadata": {
        "id": "v5dMcLX47hcH",
        "colab_type": "text"
      },
      "source": [
        "Samples sum to 1. Most are almost OHE vectors."
      ]
    },
    {
      "cell_type": "markdown",
      "metadata": {
        "id": "lGkEC4r6Nc8b",
        "colab_type": "text"
      },
      "source": [
        "## Visualize Latent Space\n",
        "\n",
        "Can view tradeoff in continuous latent space vs focussed point distributions as varying weight placed on KL Divergence."
      ]
    },
    {
      "cell_type": "code",
      "metadata": {
        "id": "TH5aE3fMk42h",
        "colab_type": "code",
        "colab": {}
      },
      "source": [
        "x_train, x_target = generate_data(num=num)\n",
        "x_train = Variable(torch.from_numpy(x_train))\n",
        "\n",
        "np_z = np.empty(0)\n",
        "for x in x_train:\n",
        "  z = VAE.latent(x.float(),latent_dims)\n",
        "  #print(z)\n",
        "  np_z = np.concatenate((np_z, z.cpu().detach().numpy()))\n",
        "np_z = np_z.reshape(800,3)\n",
        "#print(np_z[:,0])"
      ],
      "execution_count": 14,
      "outputs": []
    },
    {
      "cell_type": "code",
      "metadata": {
        "id": "cJOArv5lI9G-",
        "colab_type": "code",
        "colab": {
          "base_uri": "https://localhost:8080/",
          "height": 336
        },
        "outputId": "d28e5e5f-ab06-4a2d-8642-d868711b97a4"
      },
      "source": [
        "from mpl_toolkits.mplot3d import Axes3D\n",
        "fig = plt.figure()\n",
        "ax = Axes3D(fig)\n",
        "t = np.arange(800)\n",
        "ax.scatter(np_z[:,0], np_z[:,1], np_z[:,2], c = t)"
      ],
      "execution_count": 15,
      "outputs": [
        {
          "output_type": "execute_result",
          "data": {
            "text/plain": [
              "<mpl_toolkits.mplot3d.art3d.Path3DCollection at 0x7fba88b8b2b0>"
            ]
          },
          "metadata": {
            "tags": []
          },
          "execution_count": 15
        },
        {
          "output_type": "display_data",
          "data": {
            "image/png": "[encoded data removed]",
            "text/plain": [
              "<Figure size 432x288 with 1 Axes>"
            ]
          },
          "metadata": {
            "tags": [],
            "needs_background": "light"
          }
        }
      ]
    },
    {
      "cell_type": "code",
      "metadata": {
        "id": "uGReZl1Lk42q",
        "colab_type": "code",
        "colab": {
          "base_uri": "https://localhost:8080/",
          "height": 34
        },
        "outputId": "6ce46479-c71e-4f1d-d439-3716f4a21a1d"
      },
      "source": [
        "from sklearn.manifold import TSNE\n",
        "z_embedded = TSNE(n_components=2).fit_transform(np_z)\n",
        "z_embedded.shape"
      ],
      "execution_count": 16,
      "outputs": [
        {
          "output_type": "execute_result",
          "data": {
            "text/plain": [
              "(800, 2)"
            ]
          },
          "metadata": {
            "tags": []
          },
          "execution_count": 16
        }
      ]
    },
    {
      "cell_type": "code",
      "metadata": {
        "id": "PHhTBlBMOiUK",
        "colab_type": "code",
        "colab": {
          "base_uri": "https://localhost:8080/",
          "height": 282
        },
        "outputId": "19344533-af09-43fc-b9b9-04ca8a8bc4c7"
      },
      "source": [
        "plt.scatter(z_embedded[:,0],z_embedded[:,1],c=t)"
      ],
      "execution_count": 17,
      "outputs": [
        {
          "output_type": "execute_result",
          "data": {
            "text/plain": [
              "<matplotlib.collections.PathCollection at 0x7fba758a8710>"
            ]
          },
          "metadata": {
            "tags": []
          },
          "execution_count": 17
        },
        {
          "output_type": "display_data",
          "data": {
            "image/png": "[encoded data removed]",
            "text/plain": [
              "<Figure size 432x288 with 1 Axes>"
            ]
          },
          "metadata": {
            "tags": [],
            "needs_background": "light"
          }
        }
      ]
    },
    {
      "cell_type": "code",
      "metadata": {
        "id": "cjqXyETQOn78",
        "colab_type": "code",
        "colab": {}
      },
      "source": [
        ""
      ],
      "execution_count": 17,
      "outputs": []
    }
  ]
}