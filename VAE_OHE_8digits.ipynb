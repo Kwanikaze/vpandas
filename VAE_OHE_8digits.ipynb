{
  "nbformat": 4,
  "nbformat_minor": 0,
  "metadata": {
    "kernelspec": {
      "display_name": "Python 3",
      "language": "python",
      "name": "python3"
    },
    "language_info": {
      "codemirror_mode": {
        "name": "ipython",
        "version": 3
      },
      "file_extension": ".py",
      "mimetype": "text/x-python",
      "name": "python",
      "nbconvert_exporter": "python",
      "pygments_lexer": "ipython3",
      "version": "3.7.6"
    },
    "colab": {
      "name": "VAE_OHE_8digits.ipynb",
      "provenance": [],
      "collapsed_sections": [],
      "include_colab_link": true
    }
  },
  "cells": [
    {
      "cell_type": "markdown",
      "metadata": {
        "id": "view-in-github",
        "colab_type": "text"
      },
      "source": [
        "<a href=\"https://colab.research.google.com/github/Kwanikaze/vpandas/blob/master/VAE_OHE_8digits.ipynb\" target=\"_parent\"><img src=\"https://colab.research.google.com/assets/colab-badge.svg\" alt=\"Open In Colab\"/></a>"
      ]
    },
    {
      "cell_type": "code",
      "metadata": {
        "id": "CeceBtIqk40F",
        "colab_type": "code",
        "colab": {}
      },
      "source": [
        "import torch\n",
        "import torch.nn as nn\n",
        "import torch.nn.functional as F\n",
        "from torch.autograd import Variable\n",
        "import matplotlib.pyplot as plt\n",
        "import numpy as np"
      ],
      "execution_count": 3,
      "outputs": []
    },
    {
      "cell_type": "markdown",
      "metadata": {
        "id": "KOe_5lSNk40a",
        "colab_type": "text"
      },
      "source": [
        "## Generate Data"
      ]
    },
    {
      "cell_type": "code",
      "metadata": {
        "id": "W6w_tzckk40d",
        "colab_type": "code",
        "colab": {}
      },
      "source": [
        "def generate_data(num=8):\n",
        "    \"\"\" Generate 'num' number of one-hot encoded integers. \"\"\" \n",
        "    x_train = np.eye(num)[np.arange(num)]                       # This is a simple way to one-hot encode integers\n",
        "    \n",
        "    # Repeat x_train multiple times for training\n",
        "    x_train = np.repeat(x_train, 100, axis=0)\n",
        "    \n",
        "    # The target is x_train itself!\n",
        "    x_target = x_train.copy()\n",
        "    return x_train, x_target"
      ],
      "execution_count": 4,
      "outputs": []
    },
    {
      "cell_type": "code",
      "metadata": {
        "id": "vBFcKXd5k40s",
        "colab_type": "code",
        "colab": {}
      },
      "source": [
        "num = 8\n",
        "np.random.seed(10)\n",
        "x_train, x_target = generate_data(num=num)"
      ],
      "execution_count": 5,
      "outputs": []
    },
    {
      "cell_type": "code",
      "metadata": {
        "id": "YRABg0T_k405",
        "colab_type": "code",
        "colab": {
          "base_uri": "https://localhost:8080/",
          "height": 170
        },
        "outputId": "8c389d25-12ba-4ed3-bffc-fac8d4415c27"
      },
      "source": [
        "print(x_train)\n",
        "print(np.shape(x_train))\n",
        "print(np.shape(x_target))"
      ],
      "execution_count": 6,
      "outputs": [
        {
          "output_type": "stream",
          "text": [
            "[[1. 0. 0. ... 0. 0. 0.]\n",
            " [1. 0. 0. ... 0. 0. 0.]\n",
            " [1. 0. 0. ... 0. 0. 0.]\n",
            " ...\n",
            " [0. 0. 0. ... 0. 0. 1.]\n",
            " [0. 0. 0. ... 0. 0. 1.]\n",
            " [0. 0. 0. ... 0. 0. 1.]]\n",
            "(800, 8)\n",
            "(800, 8)\n"
          ],
          "name": "stdout"
        }
      ]
    },
    {
      "cell_type": "markdown",
      "metadata": {
        "id": "hzZqYNAAk41H",
        "colab_type": "text"
      },
      "source": [
        "## Variational Autoencoder Parameters"
      ]
    },
    {
      "cell_type": "code",
      "metadata": {
        "id": "sqElA0Vek41J",
        "colab_type": "code",
        "colab": {}
      },
      "source": [
        "#Parameters\n",
        "latent_dims = 3\n",
        "num_epochs = 2000\n",
        "batch_size = 64\n",
        "learning_rate = 1e-3\n",
        "use_gpu = True\n",
        "variational_beta = 0.00005"
      ],
      "execution_count": 7,
      "outputs": []
    },
    {
      "cell_type": "markdown",
      "metadata": {
        "id": "mBoIJElDk41T",
        "colab_type": "text"
      },
      "source": [
        "## VAE Definition\n",
        "https://colab.research.google.com/github/smartgeometry-ucl/dl4g/blob/master/variational_autoencoder.ipynb#scrollTo=0psoODlF9S_Y\n",
        "\n",
        "https://stats.stackexchange.com/questions/361643/sampling-z-in-vae\n",
        "\n",
        "https://stats.stackexchange.com/questions/318748/deriving-the-kl-divergence-loss-for-vaes"
      ]
    },
    {
      "cell_type": "code",
      "metadata": {
        "id": "aQlrdfK0k41V",
        "colab_type": "code",
        "colab": {}
      },
      "source": [
        "class VariationalAutoencoder(nn.Module):\n",
        "    def __init__(self, latent_dims):\n",
        "        super().__init__()\n",
        "        self.fc1 = nn.Linear(num, latent_dims) # why have this additional fc layer?\n",
        "        self.fc_mu = nn.Linear(latent_dims, latent_dims)\n",
        "        self.fc_logvar = nn.Linear(latent_dims, latent_dims)\n",
        "        self.fc_out = nn.Linear(latent_dims,num)\n",
        "\n",
        "    def encode(self, x):\n",
        "        h1 = torch.sigmoid(self.fc1(x))\n",
        "        return self.fc_mu(h1), self.fc_logvar(h1)\n",
        "\n",
        "    def reparameterize(self, mu, logvar):\n",
        "        std = torch.exp(0.5*logvar)\n",
        "        eps = torch.randn_like(std)\n",
        "        return mu + eps*std\n",
        "\n",
        "    def decode(self, z):\n",
        "        if z.size()[0] == latent_dims: #resize from [3] to [1,3]\n",
        "          z = z.view(1, latent_dims)\n",
        "        softmax = nn.Softmax(dim=1)\n",
        "        recon = softmax(self.fc_out(z))\n",
        "        return recon\n",
        "\n",
        "    def forward(self, x, latent_dims):\n",
        "        mu, logvar = self.encode(x)\n",
        "        z = self.reparameterize(mu, logvar)\n",
        "        return self.decode(z), mu, logvar\n",
        "\n",
        "def vae_loss(batch_recon, x_batch_targets, mu, logvar):\n",
        "  criterion = nn.CrossEntropyLoss()\n",
        "  CE = criterion(batch_recon, x_batch_targets)\n",
        "  #print(CE)\n",
        "  #BCE = F.binary_cross_entropy(recon, x, reduction='sum') #one hot encoded input\n",
        "  KLd = -0.5 * torch.sum(1 + logvar - mu.pow(2) - logvar.exp()) # https://stats.stackexchange.com/questions/318748/deriving-the-kl-divergence-loss-for-vaes\n",
        "  #print(KLd)\n",
        "  return CE,variational_beta*KLd, CE + variational_beta*KLd"
      ],
      "execution_count": 8,
      "outputs": []
    },
    {
      "cell_type": "code",
      "metadata": {
        "id": "sFg18NYGMEu9",
        "colab_type": "code",
        "colab": {}
      },
      "source": [
        "def trainVAE(VAE, latent_dims):\n",
        "  VAE.train()\n",
        "  x_train, x_target = generate_data(num=num)\n",
        "  inds = list(range(x_train.shape[0]))\n",
        "  N = x_train.shape[0] # 800\n",
        "  freq = num_epochs // 10 # floor division\n",
        "\n",
        "  loss_hist = []\n",
        "  x_train = Variable(torch.from_numpy(x_train))\n",
        "  x_target = Variable(torch.from_numpy(x_target))\n",
        "  for epoch in range(num_epochs):\n",
        "      inds = np.random.permutation(inds)\n",
        "      x_train = x_train[inds]\n",
        "      x_train = x_train.to(device)\n",
        "      x_target = x_target[inds]\n",
        "      x_target = x_target.to(device)\n",
        "      \n",
        "      loss = 0\n",
        "      num_batches = N / batch_size\n",
        "      for b in range(0, N, batch_size):\n",
        "          #get the mini-batch\n",
        "          x_batch = x_train[b: b+batch_size]\n",
        "          x_target_batch = x_target[b: b+batch_size]\n",
        "          \n",
        "          #feed forward\n",
        "          batch_recon,latent_mu,latent_logvar = VAE(x=x_batch.float(),latent_dims = latent_dims)\n",
        "          \n",
        "          # Error\n",
        "          #Convert x_batch from OHE vectors to single scalar for target class, of each sample in batch \n",
        "          _, x_batch_targets = x_batch.max(dim=1)\n",
        "          CE,KLd, train_loss = vae_loss(batch_recon, x_batch_targets, latent_mu, latent_logvar)\n",
        "          #print(batch_recon.size())\n",
        "          #print(x_batch_targets.size())\n",
        "          loss += train_loss.item() / N # update epoch loss\n",
        "          \n",
        "          #Backprop the error, compute the gradient\n",
        "          optimizer.zero_grad()\n",
        "          train_loss.backward()\n",
        "          \n",
        "          #update parameters based on gradient\n",
        "          optimizer.step()\n",
        "          \n",
        "      #Record loss per epoch        \n",
        "      loss_hist.append(loss)\n",
        "      \n",
        "      if epoch % freq == 0:\n",
        "          print()\n",
        "          print(\"Epoch %d/%d\\t CE: %.5f, KLd: %.5f, Train loss=%.5f\" % (epoch + 1, num_epochs,CE,KLd, loss), end='\\t', flush=True)\n",
        "          \n",
        "          #Test with all training data\n",
        "          VAE.eval()\n",
        "          train_recon, train_mu, train_logvar = VAE(x = x_train.float(),latent_dims=latent_dims)\n",
        "          _, x_targets = x_target.max(dim=1)\n",
        "          CE,KLd,test_loss = vae_loss(train_recon, x_targets, train_mu, train_logvar)\n",
        "          print(\"CE: {:.5f}, KLd: {:.5f}, Test loss: {:.5f}\".format(CE,KLd,test_loss.item()), end='')\n",
        "      \n",
        "  print(\"\\nTraining finished!\")"
      ],
      "execution_count": 14,
      "outputs": []
    },
    {
      "cell_type": "markdown",
      "metadata": {
        "id": "t7p1lvpQoHEr",
        "colab_type": "text"
      },
      "source": [
        "## Latent dimensions set to 3"
      ]
    },
    {
      "cell_type": "code",
      "metadata": {
        "id": "0_jC_HeUk41j",
        "colab_type": "code",
        "colab": {
          "base_uri": "https://localhost:8080/",
          "height": 340
        },
        "outputId": "d4af2a21-c59f-4ee0-8f2c-d7804941e795"
      },
      "source": [
        "#  use gpu if available\n",
        "device = torch.device(\"cuda:0\" if use_gpu and torch.cuda.is_available() else \"cpu\")\n",
        "VAE = VariationalAutoencoder(latent_dims=3)\n",
        "VAE = VAE.to(device)\n",
        "num_params = sum(p.numel() for p in VAE.parameters() if p.requires_grad)\n",
        "print(VAE.parameters)\n",
        "print(\"Number of parameters: %d\" % num_params) #8*3 + 3 = 27, 3*8 + 8 = 32, 27+32\n",
        "\n",
        "# optimizer object\n",
        "optimizer = torch.optim.Adam(params = VAE.parameters(), lr = learning_rate)\n",
        "#criterion = nn.CrossEntropyLoss()    # for target, does not accept a OHE vector\n",
        "#criterion = nn.NLLLoss()\n",
        "\n",
        "trainVAE(VAE, latent_dims=3)"
      ],
      "execution_count": 15,
      "outputs": [
        {
          "output_type": "stream",
          "text": [
            "<bound method Module.parameters of VariationalAutoencoder(\n",
            "  (fc1): Linear(in_features=8, out_features=3, bias=True)\n",
            "  (fc_mu): Linear(in_features=3, out_features=3, bias=True)\n",
            "  (fc_logvar): Linear(in_features=3, out_features=3, bias=True)\n",
            "  (fc_out): Linear(in_features=3, out_features=8, bias=True)\n",
            ")>\n",
            "Number of parameters: 83\n",
            "\n",
            "Epoch 1/2000\t CE: 2.08435, KLd: 0.00052, loss=0.03387\tCE: 2.08092, KLd: 0.01311, Test loss: 2.09402\n",
            "Epoch 201/2000\t CE: 1.38822, KLd: 0.01616, loss=0.02289\tCE: 1.37639, KLd: 0.42423, Test loss: 1.80061\n",
            "Epoch 401/2000\t CE: 1.28346, KLd: 0.01805, loss=0.02141\tCE: 1.28309, KLd: 0.43607, Test loss: 1.71916\n",
            "Epoch 601/2000\t CE: 1.27788, KLd: 0.01241, loss=0.02115\tCE: 1.27852, KLd: 0.29017, Test loss: 1.56869\n",
            "Epoch 801/2000\t CE: 1.27607, KLd: 0.00979, loss=0.02104\tCE: 1.27649, KLd: 0.23466, Test loss: 1.51115\n",
            "Epoch 1001/2000\t CE: 1.27527, KLd: 0.00884, loss=0.02099\tCE: 1.27606, KLd: 0.20850, Test loss: 1.48456\n",
            "Epoch 1201/2000\t CE: 1.27581, KLd: 0.00782, loss=0.02097\tCE: 1.27631, KLd: 0.19470, Test loss: 1.47101\n",
            "Epoch 1401/2000\t CE: 1.27531, KLd: 0.00740, loss=0.02095\tCE: 1.27516, KLd: 0.18716, Test loss: 1.46232\n",
            "Epoch 1601/2000\t CE: 1.27513, KLd: 0.00756, loss=0.02095\tCE: 1.27519, KLd: 0.18462, Test loss: 1.45982\n",
            "Epoch 1801/2000\t CE: 1.27449, KLd: 0.00702, loss=0.02095\tCE: 1.27562, KLd: 0.18028, Test loss: 1.45590\n",
            "Training finished!\n"
          ],
          "name": "stdout"
        }
      ]
    },
    {
      "cell_type": "code",
      "metadata": {
        "id": "9xy-rJaQk413",
        "colab_type": "code",
        "colab": {
          "base_uri": "https://localhost:8080/",
          "height": 170
        },
        "outputId": "fe5188e0-ebe6-4b9a-e7c7-81ecedb6b8c6"
      },
      "source": [
        "print(\"Print prediction results:\")\n",
        "x_test = np.eye(num)[np.arange(num)]                        # Test data (one-hot encoded)\n",
        "x_test = Variable(torch.from_numpy(x_test))\n",
        "x_test = x_test.to(device)\n",
        "#np.set_printoptions(2)\n",
        "for x in x_test:\n",
        "    print(\"\\tInput: {} \\t Output: {}\".format(x.cpu().detach().numpy(), np.round(VAE(x=x.float(),latent_dims=3)[0].cpu().detach().numpy(),decimals=2)))"
      ],
      "execution_count": 16,
      "outputs": [
        {
          "output_type": "stream",
          "text": [
            "Print prediction results:\n",
            "\tInput: [1. 0. 0. 0. 0. 0. 0. 0.] \t Output: [[1. 0. 0. 0. 0. 0. 0. 0.]]\n",
            "\tInput: [0. 1. 0. 0. 0. 0. 0. 0.] \t Output: [[0. 1. 0. 0. 0. 0. 0. 0.]]\n",
            "\tInput: [0. 0. 1. 0. 0. 0. 0. 0.] \t Output: [[0. 0. 1. 0. 0. 0. 0. 0.]]\n",
            "\tInput: [0. 0. 0. 1. 0. 0. 0. 0.] \t Output: [[0. 0. 0. 1. 0. 0. 0. 0.]]\n",
            "\tInput: [0. 0. 0. 0. 1. 0. 0. 0.] \t Output: [[0. 0. 0. 0. 1. 0. 0. 0.]]\n",
            "\tInput: [0. 0. 0. 0. 0. 1. 0. 0.] \t Output: [[0. 0. 0. 0. 0. 1. 0. 0.]]\n",
            "\tInput: [0. 0. 0. 0. 0. 0. 1. 0.] \t Output: [[0. 0. 0. 0. 0. 0. 1. 0.]]\n",
            "\tInput: [0. 0. 0. 0. 0. 0. 0. 1.] \t Output: [[0. 0. 0. 0. 0. 0. 0. 1.]]\n"
          ],
          "name": "stdout"
        }
      ]
    },
    {
      "cell_type": "markdown",
      "metadata": {
        "id": "rnaIbr6ak42A",
        "colab_type": "text"
      },
      "source": [
        "## Extract intermediate features using Forward Hook"
      ]
    },
    {
      "cell_type": "code",
      "metadata": {
        "id": "Q1c8NeWbk42C",
        "colab_type": "code",
        "colab": {}
      },
      "source": [
        "def printnorm_encoder(self, input1, output):\n",
        "    # input is a tuple of packed inputs\n",
        "    # output is a Tensor. output.data is the Tensor we are interested\n",
        "    print('\\tInside ' + self.__class__.__name__ + ' forward')\n",
        "    #print('\\t input:', input1.cpu().detach().numpy())\n",
        "    print('\\t output rounded to 2 decimals:', np.round(output.cpu().detach().numpy(),decimals=2))\n",
        "    print('\\t output rounded to integer:', np.round(output.cpu().detach().numpy(),decimals=0))"
      ],
      "execution_count": null,
      "outputs": []
    },
    {
      "cell_type": "code",
      "metadata": {
        "id": "SfA3tcdOk42L",
        "colab_type": "code",
        "colab": {}
      },
      "source": [
        "def inside_decoder(self, input1, output):\n",
        "    # input is a tuple of packed inputs\n",
        "    # output is a Tensor. output.data is the Tensor we are interested\n",
        "    print('\\tInside ' + self.__class__.__name__ + ' forward')\n",
        "    #print(input1[0].cpu().detach().numpy())\n",
        "    #print('\\t input:', input1.cpu().detach().numpy())\n",
        "    print('\\t output:', input1[0].cpu().detach().numpy())\n",
        "    print('\\t output rounded to 2 decimals:', np.round(input1[0].cpu().detach().numpy(),2))"
      ],
      "execution_count": null,
      "outputs": []
    },
    {
      "cell_type": "code",
      "metadata": {
        "id": "hVFAOIRLk42U",
        "colab_type": "code",
        "colab": {
          "base_uri": "https://localhost:8080/",
          "height": 235
        },
        "outputId": "f53227cd-eec9-40fc-ab2f-43d4a2a1d531"
      },
      "source": [
        "#AE.encoder_layer.register_forward_hook(printnorm_encoder)\n",
        "decoder_hook = AE.decoder_layer.register_forward_hook(inside_decoder)\n",
        "for x in x_test:\n",
        "    print('INPUT: {}'.format(x.cpu().detach().numpy()))\n",
        "    out = AE(features=x.float(),latent_dims=3)\n",
        "    #print(out)\n",
        "decoder_hook.remove() #remove hook after use"
      ],
      "execution_count": null,
      "outputs": [
        {
          "output_type": "error",
          "ename": "NameError",
          "evalue": "ignored",
          "traceback": [
            "\u001b[0;31m---------------------------------------------------------------------------\u001b[0m",
            "\u001b[0;31mNameError\u001b[0m                                 Traceback (most recent call last)",
            "\u001b[0;32m<ipython-input-12-a33c73cb02a9>\u001b[0m in \u001b[0;36m<module>\u001b[0;34m()\u001b[0m\n\u001b[1;32m      1\u001b[0m \u001b[0;31m#AE.encoder_layer.register_forward_hook(printnorm_encoder)\u001b[0m\u001b[0;34m\u001b[0m\u001b[0;34m\u001b[0m\u001b[0;34m\u001b[0m\u001b[0m\n\u001b[0;32m----> 2\u001b[0;31m \u001b[0mdecoder_hook\u001b[0m \u001b[0;34m=\u001b[0m \u001b[0mAE\u001b[0m\u001b[0;34m.\u001b[0m\u001b[0mdecoder_layer\u001b[0m\u001b[0;34m.\u001b[0m\u001b[0mregister_forward_hook\u001b[0m\u001b[0;34m(\u001b[0m\u001b[0minside_decoder\u001b[0m\u001b[0;34m)\u001b[0m\u001b[0;34m\u001b[0m\u001b[0;34m\u001b[0m\u001b[0m\n\u001b[0m\u001b[1;32m      3\u001b[0m \u001b[0;32mfor\u001b[0m \u001b[0mx\u001b[0m \u001b[0;32min\u001b[0m \u001b[0mx_test\u001b[0m\u001b[0;34m:\u001b[0m\u001b[0;34m\u001b[0m\u001b[0;34m\u001b[0m\u001b[0m\n\u001b[1;32m      4\u001b[0m     \u001b[0mprint\u001b[0m\u001b[0;34m(\u001b[0m\u001b[0;34m'INPUT: {}'\u001b[0m\u001b[0;34m.\u001b[0m\u001b[0mformat\u001b[0m\u001b[0;34m(\u001b[0m\u001b[0mx\u001b[0m\u001b[0;34m.\u001b[0m\u001b[0mcpu\u001b[0m\u001b[0;34m(\u001b[0m\u001b[0;34m)\u001b[0m\u001b[0;34m.\u001b[0m\u001b[0mdetach\u001b[0m\u001b[0;34m(\u001b[0m\u001b[0;34m)\u001b[0m\u001b[0;34m.\u001b[0m\u001b[0mnumpy\u001b[0m\u001b[0;34m(\u001b[0m\u001b[0;34m)\u001b[0m\u001b[0;34m)\u001b[0m\u001b[0;34m)\u001b[0m\u001b[0;34m\u001b[0m\u001b[0;34m\u001b[0m\u001b[0m\n\u001b[1;32m      5\u001b[0m     \u001b[0mout\u001b[0m \u001b[0;34m=\u001b[0m \u001b[0mAE\u001b[0m\u001b[0;34m(\u001b[0m\u001b[0mfeatures\u001b[0m\u001b[0;34m=\u001b[0m\u001b[0mx\u001b[0m\u001b[0;34m.\u001b[0m\u001b[0mfloat\u001b[0m\u001b[0;34m(\u001b[0m\u001b[0;34m)\u001b[0m\u001b[0;34m,\u001b[0m\u001b[0mlatent_dims\u001b[0m\u001b[0;34m=\u001b[0m\u001b[0;36m3\u001b[0m\u001b[0;34m)\u001b[0m\u001b[0;34m\u001b[0m\u001b[0;34m\u001b[0m\u001b[0m\n",
            "\u001b[0;31mNameError\u001b[0m: name 'AE' is not defined"
          ]
        }
      ]
    },
    {
      "cell_type": "markdown",
      "metadata": {
        "id": "mRqM6DwGrjnT",
        "colab_type": "text"
      },
      "source": [
        "When the number of latent dimensions equals 3, each latent variable is binary."
      ]
    },
    {
      "cell_type": "markdown",
      "metadata": {
        "id": "93xRzBPgk42d",
        "colab_type": "text"
      },
      "source": [
        "## Latent dimensions set to 4"
      ]
    },
    {
      "cell_type": "code",
      "metadata": {
        "id": "pp_jc4iilRBR",
        "colab_type": "code",
        "colab": {}
      },
      "source": [
        "AE = Autoencoder(latent_dims=4)\n",
        "AE = AE.to(device)\n",
        "\n",
        "# optimizer object\n",
        "optimizer = torch.optim.Adam(params = AE.parameters(), lr = learning_rate)\n",
        "#criterion = nn.CrossEntropyLoss()    # for target, does not accept a OHE vector\n",
        "criterion = nn.NLLLoss()\n",
        "\n",
        "trainAE(AE)"
      ],
      "execution_count": null,
      "outputs": []
    },
    {
      "cell_type": "code",
      "metadata": {
        "id": "mdpOlxXSoWt7",
        "colab_type": "code",
        "colab": {}
      },
      "source": [
        "print(\"Print prediction results:\")\n",
        "x_test = np.eye(num)[np.arange(num)]                        # Test data (one-hot encoded)\n",
        "x_test = Variable(torch.from_numpy(x_test))\n",
        "x_test = x_test.to(device)\n",
        "#np.set_printoptions(2)\n",
        "for x in x_test:\n",
        "    print(\"\\tInput: {} \\t Output: {}\".format(x.cpu().detach().numpy(), np.round(AE(features=x.float(),latent_dims=4).cpu().detach().numpy(),decimals=2)))"
      ],
      "execution_count": null,
      "outputs": []
    },
    {
      "cell_type": "code",
      "metadata": {
        "id": "wqqfXIrtnnb5",
        "colab_type": "code",
        "colab": {}
      },
      "source": [
        "decoder_hook = AE.decoder_layer.register_forward_hook(inside_decoder)\n",
        "for x in x_test:\n",
        "    print('INPUT: {}'.format(x.cpu().detach().numpy()))\n",
        "    out = AE(features=x.float(),latent_dims=4)\n",
        "    #print(out)\n",
        "decoder_hook.remove() #remove hook after use"
      ],
      "execution_count": null,
      "outputs": []
    },
    {
      "cell_type": "markdown",
      "metadata": {
        "id": "HpbxetBlk42f",
        "colab_type": "text"
      },
      "source": [
        ""
      ]
    },
    {
      "cell_type": "code",
      "metadata": {
        "id": "TH5aE3fMk42h",
        "colab_type": "code",
        "colab": {}
      },
      "source": [
        ""
      ],
      "execution_count": null,
      "outputs": []
    },
    {
      "cell_type": "code",
      "metadata": {
        "id": "uGReZl1Lk42q",
        "colab_type": "code",
        "colab": {}
      },
      "source": [
        ""
      ],
      "execution_count": null,
      "outputs": []
    }
  ]
}