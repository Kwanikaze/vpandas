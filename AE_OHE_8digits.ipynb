{
  "nbformat": 4,
  "nbformat_minor": 0,
  "metadata": {
    "kernelspec": {
      "display_name": "Python 3",
      "language": "python",
      "name": "python3"
    },
    "language_info": {
      "codemirror_mode": {
        "name": "ipython",
        "version": 3
      },
      "file_extension": ".py",
      "mimetype": "text/x-python",
      "name": "python",
      "nbconvert_exporter": "python",
      "pygments_lexer": "ipython3",
      "version": "3.7.6"
    },
    "colab": {
      "name": "AE_OHE_8digits.ipynb",
      "provenance": [],
      "collapsed_sections": [],
      "include_colab_link": true
    }
  },
  "cells": [
    {
      "cell_type": "markdown",
      "metadata": {
        "id": "view-in-github",
        "colab_type": "text"
      },
      "source": [
        "<a href=\"https://colab.research.google.com/github/Kwanikaze/vpandas/blob/master/AE_OHE_8digits.ipynb\" target=\"_parent\"><img src=\"https://colab.research.google.com/assets/colab-badge.svg\" alt=\"Open In Colab\"/></a>"
      ]
    },
    {
      "cell_type": "code",
      "metadata": {
        "id": "CeceBtIqk40F",
        "colab_type": "code",
        "colab": {}
      },
      "source": [
        "import torch\n",
        "import torch.nn as nn\n",
        "import torch.nn.functional as F\n",
        "from torch.autograd import Variable\n",
        "import matplotlib.pyplot as plt\n",
        "import numpy as np"
      ],
      "execution_count": 1,
      "outputs": []
    },
    {
      "cell_type": "markdown",
      "metadata": {
        "id": "KOe_5lSNk40a",
        "colab_type": "text"
      },
      "source": [
        "## Generate Data"
      ]
    },
    {
      "cell_type": "code",
      "metadata": {
        "id": "W6w_tzckk40d",
        "colab_type": "code",
        "colab": {}
      },
      "source": [
        "def generate_data(num=8):\n",
        "    \"\"\" Generate 'num' number of one-hot encoded integers. \"\"\" \n",
        "    x_train = np.eye(num)[np.arange(num)]                       # This is a simple way to one-hot encode integers\n",
        "    \n",
        "    # Repeat x_train multiple times for training\n",
        "    x_train = np.repeat(x_train, 100, axis=0)\n",
        "    \n",
        "    # The target is x_train itself!\n",
        "    x_target = x_train.copy()\n",
        "    return x_train, x_target"
      ],
      "execution_count": 2,
      "outputs": []
    },
    {
      "cell_type": "code",
      "metadata": {
        "id": "vBFcKXd5k40s",
        "colab_type": "code",
        "colab": {}
      },
      "source": [
        "num = 8\n",
        "np.random.seed(10)\n",
        "x_train, x_target = generate_data(num=num)"
      ],
      "execution_count": 3,
      "outputs": []
    },
    {
      "cell_type": "code",
      "metadata": {
        "id": "YRABg0T_k405",
        "colab_type": "code",
        "colab": {
          "base_uri": "https://localhost:8080/",
          "height": 179
        },
        "outputId": "ed4b9d4a-0293-4664-b06c-d9561069434a"
      },
      "source": [
        "print(x_train)\n",
        "print(np.shape(x_train))\n",
        "print(np.shape(x_target))"
      ],
      "execution_count": 4,
      "outputs": [
        {
          "output_type": "stream",
          "text": [
            "[[1. 0. 0. ... 0. 0. 0.]\n",
            " [1. 0. 0. ... 0. 0. 0.]\n",
            " [1. 0. 0. ... 0. 0. 0.]\n",
            " ...\n",
            " [0. 0. 0. ... 0. 0. 1.]\n",
            " [0. 0. 0. ... 0. 0. 1.]\n",
            " [0. 0. 0. ... 0. 0. 1.]]\n",
            "(800, 8)\n",
            "(800, 8)\n"
          ],
          "name": "stdout"
        }
      ]
    },
    {
      "cell_type": "markdown",
      "metadata": {
        "id": "hzZqYNAAk41H",
        "colab_type": "text"
      },
      "source": [
        "## Autoencoder Parameters"
      ]
    },
    {
      "cell_type": "code",
      "metadata": {
        "id": "sqElA0Vek41J",
        "colab_type": "code",
        "colab": {}
      },
      "source": [
        "#Parameters\n",
        "latent_dims = 3\n",
        "num_epochs = 2000\n",
        "batch_size = 64\n",
        "learning_rate = 1e-3\n",
        "use_gpu = True"
      ],
      "execution_count": 5,
      "outputs": []
    },
    {
      "cell_type": "markdown",
      "metadata": {
        "id": "mBoIJElDk41T",
        "colab_type": "text"
      },
      "source": [
        "## Autoencoder Definition\n",
        "https://medium.com/pytorch/implementing-an-autoencoder-in-pytorch-19baa22647d1\n",
        "\n",
        "https://gist.github.com/AFAgarap/4f8a8d8edf352271fa06d85ba0361f26"
      ]
    },
    {
      "cell_type": "code",
      "metadata": {
        "id": "aQlrdfK0k41V",
        "colab_type": "code",
        "colab": {}
      },
      "source": [
        "class Autoencoder(nn.Module):\n",
        "    def __init__(self, latent_dims):\n",
        "        super().__init__()\n",
        "        #self.encoder_hidden_layer = nn.Linear(in_features=kwargs[\"input_shape\"],)\n",
        "        self.encoder_layer = nn.Linear(in_features=num, out_features = latent_dims)\n",
        "        nn.init.xavier_normal_(self.encoder_layer.weight)\n",
        "        self.decoder_layer = nn.Linear(in_features = latent_dims, out_features = num)\n",
        "        nn.init.xavier_normal_(self.decoder_layer.weight)\n",
        "    \n",
        "    def forward(self,features,latent_dims):\n",
        "        x_input = self.encoder_layer(features)\n",
        "        z = torch.sigmoid(x_input)\n",
        "        #z.view(-1,latent_dims)\n",
        "        if z.size()[0] == latent_dims: #resize from [3] to [1,3]\n",
        "            z = z.view(1, latent_dims)\n",
        "        #print(self.decoder_layer(z))\n",
        "        #recon = torch.sigmoid(self.decoder_layer(z))\n",
        "        softmax = nn.Softmax(dim=1)\n",
        "        recon = softmax(self.decoder_layer(z))\n",
        "        return recon"
      ],
      "execution_count": 6,
      "outputs": []
    },
    {
      "cell_type": "markdown",
      "metadata": {
        "id": "uUUqL4SNk41g",
        "colab_type": "text"
      },
      "source": [
        "## Train Autoencoder"
      ]
    },
    {
      "cell_type": "code",
      "metadata": {
        "id": "202X44b6k41t",
        "colab_type": "code",
        "colab": {}
      },
      "source": [
        "def trainAE(AE,latent_dims):\n",
        "  AE.train()\n",
        "  x_train, x_target = generate_data(num=num)\n",
        "  inds = list(range(x_train.shape[0]))\n",
        "  N = x_train.shape[0] # 800\n",
        "  freq = num_epochs // 10 # floor division\n",
        "\n",
        "  loss_hist = []\n",
        "  x_train = Variable(torch.from_numpy(x_train))\n",
        "  x_target = Variable(torch.from_numpy(x_target))\n",
        "  for epoch in range(num_epochs):\n",
        "      inds = np.random.permutation(inds)\n",
        "      x_train = x_train[inds]\n",
        "      x_train = x_train.to(device)\n",
        "      x_target = x_target[inds]\n",
        "      x_target = x_target.to(device)\n",
        "      \n",
        "      loss = 0\n",
        "      num_batches = N / batch_size\n",
        "      for b in range(0, N, batch_size):\n",
        "          #get the mini-batch\n",
        "          x_batch = x_train[b: b+batch_size]\n",
        "          x_target_batch = x_target[b: b+batch_size]\n",
        "          \n",
        "          #feed forward\n",
        "          batch_recon = AE(features=x_batch.float(), latent_dims = latent_dims)\n",
        "          \n",
        "          # Error\n",
        "          #Convert x_batch from OHE vectors to single scalar for target class, of each sample in batch \n",
        "          _, x_batch_targets = x_batch.max(dim=1)\n",
        "          train_loss = criterion(batch_recon, x_batch_targets)\n",
        "          #print(batch_recon.size())\n",
        "          #print(x_batch_targets.size())\n",
        "          loss += train_loss.item() / N # update epoch loss\n",
        "          \n",
        "          #Backprop the error, compute the gradient\n",
        "          optimizer.zero_grad()\n",
        "          train_loss.backward()\n",
        "          \n",
        "          #update parameters based on gradient\n",
        "          optimizer.step()\n",
        "          \n",
        "      #Record loss per epoch        \n",
        "      loss_hist.append(loss)\n",
        "      \n",
        "      if epoch % freq == 0:\n",
        "          print()\n",
        "          print(\"Epoch %d/%d\\tloss=%.5f\" % (epoch + 1, num_epochs, loss), end='\\t', flush=True)\n",
        "          \n",
        "          #Test with all training data\n",
        "          AE.eval()\n",
        "          train_recon = AE(features = x_train.float(),latent_dims=latent_dims)\n",
        "          _, x_targets = x_target.max(dim=1)\n",
        "          l = criterion(train_recon, x_targets)\n",
        "          print(\"Test loss: {:.5f}\".format(l.item()), end='')\n",
        "      \n",
        "  print(\"\\nTraining finished!\")"
      ],
      "execution_count": 7,
      "outputs": []
    },
    {
      "cell_type": "markdown",
      "metadata": {
        "id": "t7p1lvpQoHEr",
        "colab_type": "text"
      },
      "source": [
        "## Latent dimensions set to 3"
      ]
    },
    {
      "cell_type": "code",
      "metadata": {
        "id": "0_jC_HeUk41j",
        "colab_type": "code",
        "colab": {
          "base_uri": "https://localhost:8080/",
          "height": 323
        },
        "outputId": "5d1f8d49-7fd5-4cd3-a7f4-51ec669233f6"
      },
      "source": [
        "#  use gpu if available\n",
        "device = torch.device(\"cuda:0\" if use_gpu and torch.cuda.is_available() else \"cpu\")\n",
        "AE = Autoencoder(latent_dims=3)\n",
        "AE = AE.to(device)\n",
        "num_params = sum(p.numel() for p in AE.parameters() if p.requires_grad)\n",
        "print(AE.parameters)\n",
        "print(\"Number of parameters: %d\" % num_params) #8*3 + 3 = 27, 3*8 + 8 = 32, 27+32\n",
        "\n",
        "# optimizer object\n",
        "optimizer = torch.optim.Adam(params = AE.parameters(), lr = learning_rate)\n",
        "#criterion = nn.CrossEntropyLoss()    # for target, does not accept a OHE vector\n",
        "criterion = nn.NLLLoss()\n",
        "\n",
        "trainAE(AE,latent_dims=3)"
      ],
      "execution_count": 8,
      "outputs": [
        {
          "output_type": "stream",
          "text": [
            "<bound method Module.parameters of Autoencoder(\n",
            "  (encoder_layer): Linear(in_features=8, out_features=3, bias=True)\n",
            "  (decoder_layer): Linear(in_features=3, out_features=8, bias=True)\n",
            ")>\n",
            "Number of parameters: 59\n",
            "\n",
            "Epoch 1/2000\tloss=-0.00199\tTest loss: -0.12279\n",
            "Epoch 201/2000\tloss=-0.00898\tTest loss: -0.55156\n",
            "Epoch 401/2000\tloss=-0.01388\tTest loss: -0.85550\n",
            "Epoch 601/2000\tloss=-0.01561\tTest loss: -0.96031\n",
            "Epoch 801/2000\tloss=-0.01602\tTest loss: -0.98587\n",
            "Epoch 1001/2000\tloss=-0.01616\tTest loss: -0.99457\n",
            "Epoch 1201/2000\tloss=-0.01622\tTest loss: -0.99788\n",
            "Epoch 1401/2000\tloss=-0.01624\tTest loss: -0.99916\n",
            "Epoch 1601/2000\tloss=-0.01624\tTest loss: -0.99967\n",
            "Epoch 1801/2000\tloss=-0.01625\tTest loss: -0.99987\n",
            "Training finished!\n"
          ],
          "name": "stdout"
        }
      ]
    },
    {
      "cell_type": "code",
      "metadata": {
        "id": "9xy-rJaQk413",
        "colab_type": "code",
        "colab": {
          "base_uri": "https://localhost:8080/",
          "height": 179
        },
        "outputId": "09534b5c-a344-4c49-992e-5b7d0c20f87b"
      },
      "source": [
        "print(\"Print prediction results:\")\n",
        "x_test = np.eye(num)[np.arange(num)]                        # Test data (one-hot encoded)\n",
        "x_test = Variable(torch.from_numpy(x_test))\n",
        "x_test = x_test.to(device)\n",
        "#np.set_printoptions(2)\n",
        "for x in x_test:\n",
        "    print(\"\\tInput: {} \\t Output: {}\".format(x.cpu().detach().numpy(), np.round(AE(features=x.float(),latent_dims=3).cpu().detach().numpy(),decimals=2)))"
      ],
      "execution_count": 9,
      "outputs": [
        {
          "output_type": "stream",
          "text": [
            "Print prediction results:\n",
            "\tInput: [1. 0. 0. 0. 0. 0. 0. 0.] \t Output: [[1. 0. 0. 0. 0. 0. 0. 0.]]\n",
            "\tInput: [0. 1. 0. 0. 0. 0. 0. 0.] \t Output: [[0. 1. 0. 0. 0. 0. 0. 0.]]\n",
            "\tInput: [0. 0. 1. 0. 0. 0. 0. 0.] \t Output: [[0. 0. 1. 0. 0. 0. 0. 0.]]\n",
            "\tInput: [0. 0. 0. 1. 0. 0. 0. 0.] \t Output: [[0. 0. 0. 1. 0. 0. 0. 0.]]\n",
            "\tInput: [0. 0. 0. 0. 1. 0. 0. 0.] \t Output: [[0. 0. 0. 0. 1. 0. 0. 0.]]\n",
            "\tInput: [0. 0. 0. 0. 0. 1. 0. 0.] \t Output: [[0. 0. 0. 0. 0. 1. 0. 0.]]\n",
            "\tInput: [0. 0. 0. 0. 0. 0. 1. 0.] \t Output: [[0. 0. 0. 0. 0. 0. 1. 0.]]\n",
            "\tInput: [0. 0. 0. 0. 0. 0. 0. 1.] \t Output: [[0. 0. 0. 0. 0. 0. 0. 1.]]\n"
          ],
          "name": "stdout"
        }
      ]
    },
    {
      "cell_type": "markdown",
      "metadata": {
        "id": "rnaIbr6ak42A",
        "colab_type": "text"
      },
      "source": [
        "## Extract intermediate features using Forward Hook"
      ]
    },
    {
      "cell_type": "code",
      "metadata": {
        "id": "Q1c8NeWbk42C",
        "colab_type": "code",
        "colab": {}
      },
      "source": [
        "def printnorm_encoder(self, input1, output):\n",
        "    # input is a tuple of packed inputs\n",
        "    # output is a Tensor. output.data is the Tensor we are interested\n",
        "    print('\\tInside ' + self.__class__.__name__ + ' forward')\n",
        "    #print('\\t input:', input1.cpu().detach().numpy())\n",
        "    print('\\t output rounded to 2 decimals:', np.round(output.cpu().detach().numpy(),decimals=2))\n",
        "    print('\\t output rounded to integer:', np.round(output.cpu().detach().numpy(),decimals=0))"
      ],
      "execution_count": 10,
      "outputs": []
    },
    {
      "cell_type": "code",
      "metadata": {
        "id": "SfA3tcdOk42L",
        "colab_type": "code",
        "colab": {}
      },
      "source": [
        "def inside_decoder(self, input1, output):\n",
        "    # input is a tuple of packed inputs\n",
        "    # output is a Tensor. output.data is the Tensor we are interested\n",
        "    print('\\tInside ' + self.__class__.__name__ + ' forward')\n",
        "    #print(input1[0].cpu().detach().numpy())\n",
        "    #print('\\t input:', input1.cpu().detach().numpy())\n",
        "    print('\\t output:', input1[0].cpu().detach().numpy())\n",
        "    print('\\t output rounded to 2 decimals:', np.round(input1[0].cpu().detach().numpy(),2))"
      ],
      "execution_count": 11,
      "outputs": []
    },
    {
      "cell_type": "code",
      "metadata": {
        "id": "hVFAOIRLk42U",
        "colab_type": "code",
        "colab": {
          "base_uri": "https://localhost:8080/",
          "height": 593
        },
        "outputId": "14eac093-da41-4275-e2da-a276455fcb02"
      },
      "source": [
        "#AE.encoder_layer.register_forward_hook(printnorm_encoder)\n",
        "decoder_hook = AE.decoder_layer.register_forward_hook(inside_decoder)\n",
        "AE.eval()\n",
        "for x in x_test:\n",
        "    print('INPUT: {}'.format(x.cpu().detach().numpy()))\n",
        "    out = AE(features=x.float(),latent_dims=3)\n",
        "    #print(out)\n",
        "decoder_hook.remove() #remove hook after use"
      ],
      "execution_count": 12,
      "outputs": [
        {
          "output_type": "stream",
          "text": [
            "INPUT: [1. 0. 0. 0. 0. 0. 0. 0.]\n",
            "\tInside Linear forward\n",
            "\t output: [[0.9994659  0.99968183 0.9996655 ]]\n",
            "\t output rounded to 2 decimals: [[1. 1. 1.]]\n",
            "INPUT: [0. 1. 0. 0. 0. 0. 0. 0.]\n",
            "\tInside Linear forward\n",
            "\t output: [[0.00041709 0.00013443 0.00015281]]\n",
            "\t output rounded to 2 decimals: [[0. 0. 0.]]\n",
            "INPUT: [0. 0. 1. 0. 0. 0. 0. 0.]\n",
            "\tInside Linear forward\n",
            "\t output: [[9.9979836e-01 9.9968791e-01 1.7737132e-04]]\n",
            "\t output rounded to 2 decimals: [[1. 1. 0.]]\n",
            "INPUT: [0. 0. 0. 1. 0. 0. 0. 0.]\n",
            "\tInside Linear forward\n",
            "\t output: [[3.5184241e-04 9.9954659e-01 2.2062991e-04]]\n",
            "\t output rounded to 2 decimals: [[0. 1. 0.]]\n",
            "INPUT: [0. 0. 0. 0. 1. 0. 0. 0.]\n",
            "\tInside Linear forward\n",
            "\t output: [[9.9965990e-01 5.7632767e-04 1.9954678e-04]]\n",
            "\t output rounded to 2 decimals: [[1. 0. 0.]]\n",
            "INPUT: [0. 0. 0. 0. 0. 1. 0. 0.]\n",
            "\tInside Linear forward\n",
            "\t output: [[2.0682457e-04 9.9974138e-01 9.9976295e-01]]\n",
            "\t output rounded to 2 decimals: [[0. 1. 1.]]\n",
            "INPUT: [0. 0. 0. 0. 0. 0. 1. 0.]\n",
            "\tInside Linear forward\n",
            "\t output: [[3.5840366e-04 2.2206396e-04 9.9967301e-01]]\n",
            "\t output rounded to 2 decimals: [[0. 0. 1.]]\n",
            "INPUT: [0. 0. 0. 0. 0. 0. 0. 1.]\n",
            "\tInside Linear forward\n",
            "\t output: [[9.99440372e-01 1.16337265e-04 9.99828577e-01]]\n",
            "\t output rounded to 2 decimals: [[1. 0. 1.]]\n"
          ],
          "name": "stdout"
        }
      ]
    },
    {
      "cell_type": "markdown",
      "metadata": {
        "id": "mRqM6DwGrjnT",
        "colab_type": "text"
      },
      "source": [
        "When the number of latent dimensions equals 3, each latent variable is binary."
      ]
    },
    {
      "cell_type": "markdown",
      "metadata": {
        "id": "93xRzBPgk42d",
        "colab_type": "text"
      },
      "source": [
        "## Latent dimensions set to 4"
      ]
    },
    {
      "cell_type": "code",
      "metadata": {
        "id": "pp_jc4iilRBR",
        "colab_type": "code",
        "colab": {
          "base_uri": "https://localhost:8080/",
          "height": 233
        },
        "outputId": "fa517ba6-9cc0-4a61-dac1-c72d5e7a9aaf"
      },
      "source": [
        "AE = Autoencoder(latent_dims=4)\n",
        "AE = AE.to(device)\n",
        "\n",
        "# optimizer object\n",
        "optimizer = torch.optim.Adam(params = AE.parameters(), lr = learning_rate)\n",
        "#criterion = nn.CrossEntropyLoss()    # for target, does not accept a OHE vector\n",
        "criterion = nn.NLLLoss()\n",
        "\n",
        "trainAE(AE,latent_dims=4)"
      ],
      "execution_count": 13,
      "outputs": [
        {
          "output_type": "stream",
          "text": [
            "\n",
            "Epoch 1/2000\tloss=-0.00203\tTest loss: -0.12569\n",
            "Epoch 201/2000\tloss=-0.01134\tTest loss: -0.70006\n",
            "Epoch 401/2000\tloss=-0.01520\tTest loss: -0.93526\n",
            "Epoch 601/2000\tloss=-0.01601\tTest loss: -0.98537\n",
            "Epoch 801/2000\tloss=-0.01617\tTest loss: -0.99535\n",
            "Epoch 1001/2000\tloss=-0.01622\tTest loss: -0.99843\n",
            "Epoch 1201/2000\tloss=-0.01624\tTest loss: -0.99947\n",
            "Epoch 1401/2000\tloss=-0.01625\tTest loss: -0.99982\n",
            "Epoch 1601/2000\tloss=-0.01625\tTest loss: -0.99994\n",
            "Epoch 1801/2000\tloss=-0.01625\tTest loss: -0.99998\n",
            "Training finished!\n"
          ],
          "name": "stdout"
        }
      ]
    },
    {
      "cell_type": "code",
      "metadata": {
        "id": "mdpOlxXSoWt7",
        "colab_type": "code",
        "colab": {
          "base_uri": "https://localhost:8080/",
          "height": 179
        },
        "outputId": "9904373f-e79f-4164-8174-4efad992020a"
      },
      "source": [
        "print(\"Print prediction results:\")\n",
        "x_test = np.eye(num)[np.arange(num)]                        # Test data (one-hot encoded)\n",
        "x_test = Variable(torch.from_numpy(x_test))\n",
        "x_test = x_test.to(device)\n",
        "#np.set_printoptions(2)\n",
        "for x in x_test:\n",
        "    print(\"\\tInput: {} \\t Output: {}\".format(x.cpu().detach().numpy(), np.round(AE(features=x.float(),latent_dims=4).cpu().detach().numpy(),decimals=2)))"
      ],
      "execution_count": 14,
      "outputs": [
        {
          "output_type": "stream",
          "text": [
            "Print prediction results:\n",
            "\tInput: [1. 0. 0. 0. 0. 0. 0. 0.] \t Output: [[1. 0. 0. 0. 0. 0. 0. 0.]]\n",
            "\tInput: [0. 1. 0. 0. 0. 0. 0. 0.] \t Output: [[0. 1. 0. 0. 0. 0. 0. 0.]]\n",
            "\tInput: [0. 0. 1. 0. 0. 0. 0. 0.] \t Output: [[0. 0. 1. 0. 0. 0. 0. 0.]]\n",
            "\tInput: [0. 0. 0. 1. 0. 0. 0. 0.] \t Output: [[0. 0. 0. 1. 0. 0. 0. 0.]]\n",
            "\tInput: [0. 0. 0. 0. 1. 0. 0. 0.] \t Output: [[0. 0. 0. 0. 1. 0. 0. 0.]]\n",
            "\tInput: [0. 0. 0. 0. 0. 1. 0. 0.] \t Output: [[0. 0. 0. 0. 0. 1. 0. 0.]]\n",
            "\tInput: [0. 0. 0. 0. 0. 0. 1. 0.] \t Output: [[0. 0. 0. 0. 0. 0. 1. 0.]]\n",
            "\tInput: [0. 0. 0. 0. 0. 0. 0. 1.] \t Output: [[0. 0. 0. 0. 0. 0. 0. 1.]]\n"
          ],
          "name": "stdout"
        }
      ]
    },
    {
      "cell_type": "code",
      "metadata": {
        "id": "wqqfXIrtnnb5",
        "colab_type": "code",
        "colab": {
          "base_uri": "https://localhost:8080/",
          "height": 593
        },
        "outputId": "0b972ff8-c644-4950-83da-209e8c3cac80"
      },
      "source": [
        "decoder_hook = AE.decoder_layer.register_forward_hook(inside_decoder)\n",
        "for x in x_test:\n",
        "    print('INPUT: {}'.format(x.cpu().detach().numpy()))\n",
        "    out = AE(features=x.float(),latent_dims=4)\n",
        "    #print(out)\n",
        "decoder_hook.remove() #remove hook after use"
      ],
      "execution_count": 15,
      "outputs": [
        {
          "output_type": "stream",
          "text": [
            "INPUT: [1. 0. 0. 0. 0. 0. 0. 0.]\n",
            "\tInside Linear forward\n",
            "\t output: [[0.9967152  0.9991424  0.604359   0.99872005]]\n",
            "\t output rounded to 2 decimals: [[1.  1.  0.6 1. ]]\n",
            "INPUT: [0. 1. 0. 0. 0. 0. 0. 0.]\n",
            "\tInside Linear forward\n",
            "\t output: [[9.9706572e-01 6.7044632e-04 1.2840121e-03 3.3817749e-02]]\n",
            "\t output rounded to 2 decimals: [[1.   0.   0.   0.03]]\n",
            "INPUT: [0. 0. 1. 0. 0. 0. 0. 0.]\n",
            "\tInside Linear forward\n",
            "\t output: [[9.9944788e-01 8.0545555e-04 9.9946529e-01 7.4641216e-01]]\n",
            "\t output rounded to 2 decimals: [[1.   0.   1.   0.75]]\n",
            "INPUT: [0. 0. 0. 1. 0. 0. 0. 0.]\n",
            "\tInside Linear forward\n",
            "\t output: [[4.7873196e-04 2.4910684e-01 9.9618310e-01 9.9960786e-01]]\n",
            "\t output rounded to 2 decimals: [[0.   0.25 1.   1.  ]]\n",
            "INPUT: [0. 0. 0. 0. 1. 0. 0. 0.]\n",
            "\tInside Linear forward\n",
            "\t output: [[5.4336291e-02 4.9178232e-04 9.9812263e-01 3.5096667e-04]]\n",
            "\t output rounded to 2 decimals: [[0.05 0.   1.   0.  ]]\n",
            "INPUT: [0. 0. 0. 0. 0. 1. 0. 0.]\n",
            "\tInside Linear forward\n",
            "\t output: [[5.7493523e-04 9.9657404e-01 8.1348873e-04 9.9741828e-01]]\n",
            "\t output rounded to 2 decimals: [[0. 1. 0. 1.]]\n",
            "INPUT: [0. 0. 0. 0. 0. 0. 1. 0.]\n",
            "\tInside Linear forward\n",
            "\t output: [[8.7129092e-01 9.9947435e-01 9.1248070e-04 7.5587624e-04]]\n",
            "\t output rounded to 2 decimals: [[0.87 1.   0.   0.  ]]\n",
            "INPUT: [0. 0. 0. 0. 0. 0. 0. 1.]\n",
            "\tInside Linear forward\n",
            "\t output: [[0.00243222 0.99953973 0.9963994  0.08522733]]\n",
            "\t output rounded to 2 decimals: [[0.   1.   1.   0.09]]\n"
          ],
          "name": "stdout"
        }
      ]
    },
    {
      "cell_type": "markdown",
      "metadata": {
        "id": "HpbxetBlk42f",
        "colab_type": "text"
      },
      "source": [
        "## Latent dimensions set to 2"
      ]
    },
    {
      "cell_type": "code",
      "metadata": {
        "id": "TH5aE3fMk42h",
        "colab_type": "code",
        "colab": {
          "base_uri": "https://localhost:8080/",
          "height": 221
        },
        "outputId": "4021fcc1-dd2b-48b8-a1bf-93ce5bd0f97a"
      },
      "source": [
        "AE = Autoencoder(latent_dims=2)\n",
        "AE = AE.to(device)\n",
        "\n",
        "# optimizer object\n",
        "optimizer = torch.optim.Adam(params = AE.parameters(), lr = learning_rate)\n",
        "#criterion = nn.CrossEntropyLoss()    # for target, does not accept a OHE vector\n",
        "criterion = nn.NLLLoss()\n",
        "\n",
        "trainAE(AE,latent_dims=2)"
      ],
      "execution_count": 16,
      "outputs": [
        {
          "output_type": "stream",
          "text": [
            "\n",
            "Epoch 1/2000\tloss=-0.00202\tTest loss: -0.12442\n",
            "Epoch 201/2000\tloss=-0.00644\tTest loss: -0.39656\n",
            "Epoch 401/2000\tloss=-0.00832\tTest loss: -0.51241\n",
            "Epoch 601/2000\tloss=-0.01000\tTest loss: -0.61744\n",
            "Epoch 801/2000\tloss=-0.01155\tTest loss: -0.71250\n",
            "Epoch 1001/2000\tloss=-0.01260\tTest loss: -0.77423\n",
            "Epoch 1201/2000\tloss=-0.01335\tTest loss: -0.82034\n",
            "Epoch 1401/2000\tloss=-0.01395\tTest loss: -0.85751\n",
            "Epoch 1601/2000\tloss=-0.01466\tTest loss: -0.90247\n",
            "Epoch 1801/2000\tloss=-0.01528\tTest loss: -0.94015\n",
            "Training finished!\n"
          ],
          "name": "stdout"
        }
      ]
    },
    {
      "cell_type": "code",
      "metadata": {
        "id": "uGReZl1Lk42q",
        "colab_type": "code",
        "colab": {
          "base_uri": "https://localhost:8080/",
          "height": 170
        },
        "outputId": "41b82b46-9925-4696-d082-5d4393c2e6da"
      },
      "source": [
        "print(\"Print prediction results:\")\n",
        "x_test = np.eye(num)[np.arange(num)]                        # Test data (one-hot encoded)\n",
        "x_test = Variable(torch.from_numpy(x_test))\n",
        "x_test = x_test.to(device)\n",
        "#np.set_printoptions(2)\n",
        "for x in x_test:\n",
        "    print(\"\\tInput: {} \\t Output: {}\".format(x.cpu().detach().numpy(), np.round(AE(features=x.float(),latent_dims=2).cpu().detach().numpy(),decimals=2)))"
      ],
      "execution_count": 17,
      "outputs": [
        {
          "output_type": "stream",
          "text": [
            "Print prediction results:\n",
            "\tInput: [1. 0. 0. 0. 0. 0. 0. 0.] \t Output: [[0.99 0.   0.   0.   0.01 0.   0.   0.  ]]\n",
            "\tInput: [0. 1. 0. 0. 0. 0. 0. 0.] \t Output: [[0.   0.97 0.   0.01 0.01 0.   0.01 0.  ]]\n",
            "\tInput: [0. 0. 1. 0. 0. 0. 0. 0.] \t Output: [[0.   0.   0.95 0.   0.   0.02 0.03 0.  ]]\n",
            "\tInput: [0. 0. 0. 1. 0. 0. 0. 0.] \t Output: [[0.   0.01 0.   0.99 0.   0.   0.01 0.  ]]\n",
            "\tInput: [0. 0. 0. 0. 1. 0. 0. 0.] \t Output: [[0.01 0.01 0.   0.   0.97 0.   0.   0.01]]\n",
            "\tInput: [0. 0. 0. 0. 0. 1. 0. 0.] \t Output: [[0.   0.   0.05 0.   0.   0.93 0.   0.02]]\n",
            "\tInput: [0. 0. 0. 0. 0. 0. 1. 0.] \t Output: [[0.   0.01 0.02 0.01 0.   0.   0.96 0.  ]]\n",
            "\tInput: [0. 0. 0. 0. 0. 0. 0. 1.] \t Output: [[0.   0.   0.   0.   0.   0.04 0.   0.96]]\n"
          ],
          "name": "stdout"
        }
      ]
    },
    {
      "cell_type": "code",
      "metadata": {
        "id": "sAc7ywu59RUI",
        "colab_type": "code",
        "colab": {
          "base_uri": "https://localhost:8080/",
          "height": 561
        },
        "outputId": "9a2e8e6a-c059-4aa2-af81-e4f2c58ab9b8"
      },
      "source": [
        "decoder_hook = AE.decoder_layer.register_forward_hook(inside_decoder)\n",
        "for x in x_test:\n",
        "    print('INPUT: {}'.format(x.cpu().detach().numpy()))\n",
        "    out = AE(features=x.float(),latent_dims=2)\n",
        "    #print(out)\n",
        "decoder_hook.remove() #remove hook after use"
      ],
      "execution_count": 18,
      "outputs": [
        {
          "output_type": "stream",
          "text": [
            "INPUT: [1. 0. 0. 0. 0. 0. 0. 0.]\n",
            "\tInside Linear forward\n",
            "\t output: [[0.1192038  0.99999845]]\n",
            "\t output rounded to 2 decimals: [[0.12 1.  ]]\n",
            "INPUT: [0. 1. 0. 0. 0. 0. 0. 0.]\n",
            "\tInside Linear forward\n",
            "\t output: [[0.49081078 0.55620766]]\n",
            "\t output rounded to 2 decimals: [[0.49 0.56]]\n",
            "INPUT: [0. 0. 1. 0. 0. 0. 0. 0.]\n",
            "\tInside Linear forward\n",
            "\t output: [[9.6883583e-01 6.6106709e-06]]\n",
            "\t output rounded to 2 decimals: [[0.97 0.  ]]\n",
            "INPUT: [0. 0. 0. 1. 0. 0. 0. 0.]\n",
            "\tInside Linear forward\n",
            "\t output: [[0.99998784 0.99999547]]\n",
            "\t output rounded to 2 decimals: [[1. 1.]]\n",
            "INPUT: [0. 0. 0. 0. 1. 0. 0. 0.]\n",
            "\tInside Linear forward\n",
            "\t output: [[1.011334e-05 4.722700e-01]]\n",
            "\t output rounded to 2 decimals: [[0.   0.47]]\n",
            "INPUT: [0. 0. 0. 0. 0. 1. 0. 0.]\n",
            "\tInside Linear forward\n",
            "\t output: [[3.2708988e-01 6.9460348e-06]]\n",
            "\t output rounded to 2 decimals: [[0.33 0.  ]]\n",
            "INPUT: [0. 0. 0. 0. 0. 0. 1. 0.]\n",
            "\tInside Linear forward\n",
            "\t output: [[0.9999987  0.44406462]]\n",
            "\t output rounded to 2 decimals: [[1.   0.44]]\n",
            "INPUT: [0. 0. 0. 0. 0. 0. 0. 1.]\n",
            "\tInside Linear forward\n",
            "\t output: [[1.8140569e-06 4.8559082e-06]]\n",
            "\t output rounded to 2 decimals: [[0. 0.]]\n"
          ],
          "name": "stdout"
        }
      ]
    }
  ]
}