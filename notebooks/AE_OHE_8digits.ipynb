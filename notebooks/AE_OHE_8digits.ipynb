{
  "nbformat": 4,
  "nbformat_minor": 0,
  "metadata": {
    "kernelspec": {
      "display_name": "Python 3",
      "language": "python",
      "name": "python3"
    },
    "language_info": {
      "codemirror_mode": {
        "name": "ipython",
        "version": 3
      },
      "file_extension": ".py",
      "mimetype": "text/x-python",
      "name": "python",
      "nbconvert_exporter": "python",
      "pygments_lexer": "ipython3",
      "version": "3.7.6"
    },
    "colab": {
      "name": "AE_OHE_8digits.ipynb",
      "provenance": [],
      "collapsed_sections": [],
      "include_colab_link": true
    }
  },
  "cells": [
    {
      "cell_type": "markdown",
      "metadata": {
        "id": "view-in-github",
        "colab_type": "text"
      },
      "source": [
        "<a href=\"https://colab.research.google.com/github/Kwanikaze/vpandas/blob/master/AE_OHE_8digits.ipynb\" target=\"_parent\"><img src=\"https://colab.research.google.com/assets/colab-badge.svg\" alt=\"Open In Colab\"/></a>"
      ]
    },
    {
      "cell_type": "code",
      "metadata": {
        "id": "CeceBtIqk40F",
        "colab_type": "code",
        "colab": {}
      },
      "source": [
        "import torch\n",
        "import torch.nn as nn\n",
        "import torch.nn.functional as F\n",
        "from torch.autograd import Variable\n",
        "import matplotlib.pyplot as plt\n",
        "import numpy as np"
      ],
      "execution_count": 1,
      "outputs": []
    },
    {
      "cell_type": "markdown",
      "metadata": {
        "id": "KOe_5lSNk40a",
        "colab_type": "text"
      },
      "source": [
        "## Generate Data"
      ]
    },
    {
      "cell_type": "code",
      "metadata": {
        "id": "W6w_tzckk40d",
        "colab_type": "code",
        "colab": {}
      },
      "source": [
        "def generate_data(num=8):\n",
        "    \"\"\" Generate 'num' number of one-hot encoded integers. \"\"\" \n",
        "    x_train = np.eye(num)[np.arange(num)]                       # This is a simple way to one-hot encode integers\n",
        "    \n",
        "    # Repeat x_train multiple times for training\n",
        "    x_train = np.repeat(x_train, 100, axis=0)\n",
        "    \n",
        "    # The target is x_train itself!\n",
        "    x_target = x_train.copy()\n",
        "    return x_train, x_target"
      ],
      "execution_count": 2,
      "outputs": []
    },
    {
      "cell_type": "code",
      "metadata": {
        "id": "vBFcKXd5k40s",
        "colab_type": "code",
        "colab": {}
      },
      "source": [
        "num = 8\n",
        "np.random.seed(10)\n",
        "x_train, x_target = generate_data(num=num)"
      ],
      "execution_count": 3,
      "outputs": []
    },
    {
      "cell_type": "code",
      "metadata": {
        "id": "YRABg0T_k405",
        "colab_type": "code",
        "colab": {
          "base_uri": "https://localhost:8080/",
          "height": 170
        },
        "outputId": "c7176fc4-8641-44e6-e260-be925039a804"
      },
      "source": [
        "print(x_train)\n",
        "print(np.shape(x_train))\n",
        "print(np.shape(x_target))"
      ],
      "execution_count": 4,
      "outputs": [
        {
          "output_type": "stream",
          "text": [
            "[[1. 0. 0. ... 0. 0. 0.]\n",
            " [1. 0. 0. ... 0. 0. 0.]\n",
            " [1. 0. 0. ... 0. 0. 0.]\n",
            " ...\n",
            " [0. 0. 0. ... 0. 0. 1.]\n",
            " [0. 0. 0. ... 0. 0. 1.]\n",
            " [0. 0. 0. ... 0. 0. 1.]]\n",
            "(800, 8)\n",
            "(800, 8)\n"
          ],
          "name": "stdout"
        }
      ]
    },
    {
      "cell_type": "markdown",
      "metadata": {
        "id": "hzZqYNAAk41H",
        "colab_type": "text"
      },
      "source": [
        "## Autoencoder Parameters"
      ]
    },
    {
      "cell_type": "code",
      "metadata": {
        "id": "sqElA0Vek41J",
        "colab_type": "code",
        "colab": {}
      },
      "source": [
        "#Parameters\n",
        "latent_dims = 3\n",
        "num_epochs = 2000\n",
        "batch_size = 64\n",
        "learning_rate = 1e-3\n",
        "use_gpu = True"
      ],
      "execution_count": 5,
      "outputs": []
    },
    {
      "cell_type": "markdown",
      "metadata": {
        "id": "mBoIJElDk41T",
        "colab_type": "text"
      },
      "source": [
        "## Autoencoder Definition\n",
        "https://medium.com/pytorch/implementing-an-autoencoder-in-pytorch-19baa22647d1\n",
        "\n",
        "https://gist.github.com/AFAgarap/4f8a8d8edf352271fa06d85ba0361f26"
      ]
    },
    {
      "cell_type": "code",
      "metadata": {
        "id": "aQlrdfK0k41V",
        "colab_type": "code",
        "colab": {}
      },
      "source": [
        "class Autoencoder(nn.Module):\n",
        "    def __init__(self, latent_dims):\n",
        "        super().__init__()\n",
        "        #self.encoder_hidden_layer = nn.Linear(in_features=kwargs[\"input_shape\"],)\n",
        "        self.encoder_layer = nn.Linear(in_features=num, out_features = latent_dims)\n",
        "        nn.init.xavier_normal_(self.encoder_layer.weight)\n",
        "        self.decoder_layer = nn.Linear(in_features = latent_dims, out_features = num)\n",
        "        nn.init.xavier_normal_(self.decoder_layer.weight)\n",
        "    \n",
        "    def forward(self,features,latent_dims):\n",
        "        x_input = self.encoder_layer(features)\n",
        "        z = torch.sigmoid(x_input)\n",
        "        #z.view(-1,latent_dims)\n",
        "        if z.size()[0] == latent_dims: #resize from [3] to [1,3]\n",
        "            z = z.view(1, latent_dims)\n",
        "        #print(self.decoder_layer(z))\n",
        "        #recon = torch.sigmoid(self.decoder_layer(z))\n",
        "        softmax = nn.Softmax(dim=1)\n",
        "        recon = softmax(self.decoder_layer(z))\n",
        "        return recon"
      ],
      "execution_count": 6,
      "outputs": []
    },
    {
      "cell_type": "markdown",
      "metadata": {
        "id": "uUUqL4SNk41g",
        "colab_type": "text"
      },
      "source": [
        "## Train Autoencoder"
      ]
    },
    {
      "cell_type": "code",
      "metadata": {
        "id": "202X44b6k41t",
        "colab_type": "code",
        "colab": {}
      },
      "source": [
        "def trainAE(AE,latent_dims):\n",
        "  AE.train()\n",
        "  x_train, x_target = generate_data(num=num)\n",
        "  inds = list(range(x_train.shape[0]))\n",
        "  N = x_train.shape[0] # 800\n",
        "  freq = num_epochs // 10 # floor division\n",
        "\n",
        "  loss_hist = []\n",
        "  x_train = Variable(torch.from_numpy(x_train))\n",
        "  x_target = Variable(torch.from_numpy(x_target))\n",
        "  for epoch in range(num_epochs):\n",
        "      inds = np.random.permutation(inds)\n",
        "      x_train = x_train[inds]\n",
        "      x_train = x_train.to(device)\n",
        "      x_target = x_target[inds]\n",
        "      x_target = x_target.to(device)\n",
        "      \n",
        "      loss = 0\n",
        "      num_batches = N / batch_size\n",
        "      for b in range(0, N, batch_size):\n",
        "          #get the mini-batch\n",
        "          x_batch = x_train[b: b+batch_size]\n",
        "          x_target_batch = x_target[b: b+batch_size]\n",
        "          \n",
        "          #feed forward\n",
        "          batch_recon = AE(features=x_batch.float(), latent_dims = latent_dims)\n",
        "          \n",
        "          # Error\n",
        "          #Convert x_batch from OHE vectors to single scalar for target class, of each sample in batch \n",
        "          _, x_batch_targets = x_batch.max(dim=1)\n",
        "          train_loss = criterion(batch_recon, x_batch_targets)\n",
        "          #print(batch_recon.size())\n",
        "          #print(x_batch_targets.size())\n",
        "          loss += train_loss.item() / N # update epoch loss\n",
        "          \n",
        "          #Backprop the error, compute the gradient\n",
        "          optimizer.zero_grad()\n",
        "          train_loss.backward()\n",
        "          \n",
        "          #update parameters based on gradient\n",
        "          optimizer.step()\n",
        "          \n",
        "      #Record loss per epoch        \n",
        "      loss_hist.append(loss)\n",
        "      \n",
        "      if epoch % freq == 0:\n",
        "          print()\n",
        "          print(\"Epoch %d/%d\\tloss=%.5f\" % (epoch + 1, num_epochs, loss), end='\\t', flush=True)\n",
        "          \n",
        "          #Test with all training data\n",
        "          AE.eval()\n",
        "          train_recon = AE(features = x_train.float(),latent_dims=latent_dims)\n",
        "          _, x_targets = x_target.max(dim=1)\n",
        "          l = criterion(train_recon, x_targets)\n",
        "          print(\"Test loss: {:.5f}\".format(l.item()), end='')\n",
        "      \n",
        "  print(\"\\nTraining finished!\")"
      ],
      "execution_count": 7,
      "outputs": []
    },
    {
      "cell_type": "markdown",
      "metadata": {
        "id": "t7p1lvpQoHEr",
        "colab_type": "text"
      },
      "source": [
        "## Latent dimensions set to 3"
      ]
    },
    {
      "cell_type": "code",
      "metadata": {
        "id": "0_jC_HeUk41j",
        "colab_type": "code",
        "colab": {
          "base_uri": "https://localhost:8080/",
          "height": 306
        },
        "outputId": "0252cb76-8e5d-448f-c0f7-8c2e61a3445b"
      },
      "source": [
        "#  use gpu if available\n",
        "device = torch.device(\"cuda:0\" if use_gpu and torch.cuda.is_available() else \"cpu\")\n",
        "AE = Autoencoder(latent_dims=3)\n",
        "AE = AE.to(device)\n",
        "num_params = sum(p.numel() for p in AE.parameters() if p.requires_grad)\n",
        "print(AE.parameters)\n",
        "print(\"Number of parameters: %d\" % num_params) #8*3 + 3 = 27, 3*8 + 8 = 32, 27+32\n",
        "\n",
        "# optimizer object\n",
        "optimizer = torch.optim.Adam(params = AE.parameters(), lr = learning_rate)\n",
        "#criterion = nn.CrossEntropyLoss()    # for target, does not accept a OHE vector\n",
        "criterion = nn.NLLLoss()\n",
        "\n",
        "trainAE(AE,latent_dims=3)"
      ],
      "execution_count": 8,
      "outputs": [
        {
          "output_type": "stream",
          "text": [
            "<bound method Module.parameters of Autoencoder(\n",
            "  (encoder_layer): Linear(in_features=8, out_features=3, bias=True)\n",
            "  (decoder_layer): Linear(in_features=3, out_features=8, bias=True)\n",
            ")>\n",
            "Number of parameters: 59\n",
            "\n",
            "Epoch 1/2000\tloss=-0.00199\tTest loss: -0.12272\n",
            "Epoch 201/2000\tloss=-0.00950\tTest loss: -0.58467\n",
            "Epoch 401/2000\tloss=-0.01396\tTest loss: -0.85909\n",
            "Epoch 601/2000\tloss=-0.01555\tTest loss: -0.95691\n",
            "Epoch 801/2000\tloss=-0.01599\tTest loss: -0.98398\n",
            "Epoch 1001/2000\tloss=-0.01615\tTest loss: -0.99364\n",
            "Epoch 1201/2000\tloss=-0.01621\tTest loss: -0.99741\n",
            "Epoch 1401/2000\tloss=-0.01623\tTest loss: -0.99893\n",
            "Epoch 1601/2000\tloss=-0.01624\tTest loss: -0.99955\n",
            "Epoch 1801/2000\tloss=-0.01625\tTest loss: -0.99981\n",
            "Training finished!\n"
          ],
          "name": "stdout"
        }
      ]
    },
    {
      "cell_type": "code",
      "metadata": {
        "id": "9xy-rJaQk413",
        "colab_type": "code",
        "colab": {
          "base_uri": "https://localhost:8080/",
          "height": 170
        },
        "outputId": "8f3f53d4-44bf-4d87-a849-af96379a9d70"
      },
      "source": [
        "print(\"Print prediction results:\")\n",
        "x_test = np.eye(num)[np.arange(num)]                        # Test data (one-hot encoded)\n",
        "x_test = Variable(torch.from_numpy(x_test))\n",
        "x_test = x_test.to(device)\n",
        "#np.set_printoptions(2)\n",
        "for x in x_test:\n",
        "    print(\"\\tInput: {} \\t Output: {}\".format(x.cpu().detach().numpy(), np.round(AE(features=x.float(),latent_dims=3).cpu().detach().numpy(),decimals=2)))"
      ],
      "execution_count": 9,
      "outputs": [
        {
          "output_type": "stream",
          "text": [
            "Print prediction results:\n",
            "\tInput: [1. 0. 0. 0. 0. 0. 0. 0.] \t Output: [[1. 0. 0. 0. 0. 0. 0. 0.]]\n",
            "\tInput: [0. 1. 0. 0. 0. 0. 0. 0.] \t Output: [[0. 1. 0. 0. 0. 0. 0. 0.]]\n",
            "\tInput: [0. 0. 1. 0. 0. 0. 0. 0.] \t Output: [[0. 0. 1. 0. 0. 0. 0. 0.]]\n",
            "\tInput: [0. 0. 0. 1. 0. 0. 0. 0.] \t Output: [[0. 0. 0. 1. 0. 0. 0. 0.]]\n",
            "\tInput: [0. 0. 0. 0. 1. 0. 0. 0.] \t Output: [[0. 0. 0. 0. 1. 0. 0. 0.]]\n",
            "\tInput: [0. 0. 0. 0. 0. 1. 0. 0.] \t Output: [[0. 0. 0. 0. 0. 1. 0. 0.]]\n",
            "\tInput: [0. 0. 0. 0. 0. 0. 1. 0.] \t Output: [[0. 0. 0. 0. 0. 0. 1. 0.]]\n",
            "\tInput: [0. 0. 0. 0. 0. 0. 0. 1.] \t Output: [[0. 0. 0. 0. 0. 0. 0. 1.]]\n"
          ],
          "name": "stdout"
        }
      ]
    },
    {
      "cell_type": "markdown",
      "metadata": {
        "id": "rnaIbr6ak42A",
        "colab_type": "text"
      },
      "source": [
        "## Extract intermediate features using Forward Hook"
      ]
    },
    {
      "cell_type": "code",
      "metadata": {
        "id": "Q1c8NeWbk42C",
        "colab_type": "code",
        "colab": {}
      },
      "source": [
        "def printnorm_encoder(self, input1, output):\n",
        "    # input is a tuple of packed inputs\n",
        "    # output is a Tensor. output.data is the Tensor we are interested\n",
        "    print('\\tInside ' + self.__class__.__name__ + ' forward')\n",
        "    #print('\\t input:', input1.cpu().detach().numpy())\n",
        "    print('\\t output rounded to 2 decimals:', np.round(output.cpu().detach().numpy(),decimals=2))\n",
        "    print('\\t output rounded to integer:', np.round(output.cpu().detach().numpy(),decimals=0))"
      ],
      "execution_count": 10,
      "outputs": []
    },
    {
      "cell_type": "code",
      "metadata": {
        "id": "SfA3tcdOk42L",
        "colab_type": "code",
        "colab": {}
      },
      "source": [
        "def inside_decoder(self, input1, output):\n",
        "    # input is a tuple of packed inputs\n",
        "    # output is a Tensor. output.data is the Tensor we are interested\n",
        "    print('\\tInside ' + self.__class__.__name__ + ' forward')\n",
        "    #print(input1[0].cpu().detach().numpy())\n",
        "    #print('\\t input:', input1.cpu().detach().numpy())\n",
        "    print('\\t output:', input1[0].cpu().detach().numpy())\n",
        "    print('\\t output rounded to 2 decimals:', np.round(input1[0].cpu().detach().numpy(),2))"
      ],
      "execution_count": 11,
      "outputs": []
    },
    {
      "cell_type": "code",
      "metadata": {
        "id": "hVFAOIRLk42U",
        "colab_type": "code",
        "colab": {
          "base_uri": "https://localhost:8080/",
          "height": 561
        },
        "outputId": "b5c33df3-9ee8-4e90-a70b-5a34bab356a6"
      },
      "source": [
        "#AE.encoder_layer.register_forward_hook(printnorm_encoder)\n",
        "decoder_hook = AE.decoder_layer.register_forward_hook(inside_decoder)\n",
        "AE.eval()\n",
        "for x in x_test:\n",
        "    print('INPUT: {}'.format(x.cpu().detach().numpy()))\n",
        "    out = AE(features=x.float(),latent_dims=3)\n",
        "    #print(out)\n",
        "decoder_hook.remove() #remove hook after use"
      ],
      "execution_count": 12,
      "outputs": [
        {
          "output_type": "stream",
          "text": [
            "INPUT: [1. 0. 0. 0. 0. 0. 0. 0.]\n",
            "\tInside Linear forward\n",
            "\t output: [[1.6319963e-04 2.0543308e-04 9.9977738e-01]]\n",
            "\t output rounded to 2 decimals: [[0. 0. 1.]]\n",
            "INPUT: [0. 1. 0. 0. 0. 0. 0. 0.]\n",
            "\tInside Linear forward\n",
            "\t output: [[2.2696436e-04 9.9935693e-01 9.8180637e-05]]\n",
            "\t output rounded to 2 decimals: [[0. 1. 0.]]\n",
            "INPUT: [0. 0. 1. 0. 0. 0. 0. 0.]\n",
            "\tInside Linear forward\n",
            "\t output: [[9.9981028e-01 1.3466981e-04 9.9990559e-01]]\n",
            "\t output rounded to 2 decimals: [[1. 0. 1.]]\n",
            "INPUT: [0. 0. 0. 1. 0. 0. 0. 0.]\n",
            "\tInside Linear forward\n",
            "\t output: [[9.990946e-01 1.801695e-04 9.381091e-05]]\n",
            "\t output rounded to 2 decimals: [[1. 0. 0.]]\n",
            "INPUT: [0. 0. 0. 0. 1. 0. 0. 0.]\n",
            "\tInside Linear forward\n",
            "\t output: [[1.2642912e-04 9.9980468e-01 9.9981421e-01]]\n",
            "\t output rounded to 2 decimals: [[0. 1. 1.]]\n",
            "INPUT: [0. 0. 0. 0. 0. 1. 0. 0.]\n",
            "\tInside Linear forward\n",
            "\t output: [[9.9988413e-01 9.9990225e-01 9.4532719e-05]]\n",
            "\t output rounded to 2 decimals: [[1. 1. 0.]]\n",
            "INPUT: [0. 0. 0. 0. 0. 0. 1. 0.]\n",
            "\tInside Linear forward\n",
            "\t output: [[0.00024703 0.00012893 0.00024081]]\n",
            "\t output rounded to 2 decimals: [[0. 0. 0.]]\n",
            "INPUT: [0. 0. 0. 0. 0. 0. 0. 1.]\n",
            "\tInside Linear forward\n",
            "\t output: [[0.51977044 0.5211595  0.5189869 ]]\n",
            "\t output rounded to 2 decimals: [[0.52 0.52 0.52]]\n"
          ],
          "name": "stdout"
        }
      ]
    },
    {
      "cell_type": "markdown",
      "metadata": {
        "id": "mRqM6DwGrjnT",
        "colab_type": "text"
      },
      "source": [
        "When the number of latent dimensions equals 3, each latent variable is binary."
      ]
    },
    {
      "cell_type": "markdown",
      "metadata": {
        "id": "93xRzBPgk42d",
        "colab_type": "text"
      },
      "source": [
        "## Latent dimensions set to 4"
      ]
    },
    {
      "cell_type": "code",
      "metadata": {
        "id": "pp_jc4iilRBR",
        "colab_type": "code",
        "colab": {
          "base_uri": "https://localhost:8080/",
          "height": 221
        },
        "outputId": "d451345a-833b-4428-f3e6-6093f8f0f113"
      },
      "source": [
        "latent_dims=4\n",
        "AE = Autoencoder(latent_dims=4)\n",
        "AE = AE.to(device)\n",
        "\n",
        "# optimizer object\n",
        "optimizer = torch.optim.Adam(params = AE.parameters(), lr = learning_rate)\n",
        "#criterion = nn.CrossEntropyLoss()    # for target, does not accept a OHE vector\n",
        "criterion = nn.NLLLoss()\n",
        "\n",
        "trainAE(AE,latent_dims=4)"
      ],
      "execution_count": 13,
      "outputs": [
        {
          "output_type": "stream",
          "text": [
            "\n",
            "Epoch 1/2000\tloss=-0.00215\tTest loss: -0.13359\n",
            "Epoch 201/2000\tloss=-0.01020\tTest loss: -0.62743\n",
            "Epoch 401/2000\tloss=-0.01540\tTest loss: -0.94826\n",
            "Epoch 601/2000\tloss=-0.01609\tTest loss: -0.99000\n",
            "Epoch 801/2000\tloss=-0.01622\tTest loss: -0.99788\n",
            "Epoch 1001/2000\tloss=-0.01624\tTest loss: -0.99949\n",
            "Epoch 1201/2000\tloss=-0.01625\tTest loss: -0.99986\n",
            "Epoch 1401/2000\tloss=-0.01625\tTest loss: -0.99995\n",
            "Epoch 1601/2000\tloss=-0.01625\tTest loss: -0.99999\n",
            "Epoch 1801/2000\tloss=-0.01625\tTest loss: -1.00000\n",
            "Training finished!\n"
          ],
          "name": "stdout"
        }
      ]
    },
    {
      "cell_type": "code",
      "metadata": {
        "id": "mdpOlxXSoWt7",
        "colab_type": "code",
        "colab": {
          "base_uri": "https://localhost:8080/",
          "height": 170
        },
        "outputId": "c95a83eb-0eb0-41ae-e6aa-608637129234"
      },
      "source": [
        "print(\"Print prediction results:\")\n",
        "x_test = np.eye(num)[np.arange(num)]                        # Test data (one-hot encoded)\n",
        "x_test = Variable(torch.from_numpy(x_test))\n",
        "x_test = x_test.to(device)\n",
        "#np.set_printoptions(2)\n",
        "for x in x_test:\n",
        "    print(\"\\tInput: {} \\t Output: {}\".format(x.cpu().detach().numpy(), np.round(AE(features=x.float(),latent_dims=4).cpu().detach().numpy(),decimals=2)))"
      ],
      "execution_count": 14,
      "outputs": [
        {
          "output_type": "stream",
          "text": [
            "Print prediction results:\n",
            "\tInput: [1. 0. 0. 0. 0. 0. 0. 0.] \t Output: [[1. 0. 0. 0. 0. 0. 0. 0.]]\n",
            "\tInput: [0. 1. 0. 0. 0. 0. 0. 0.] \t Output: [[0. 1. 0. 0. 0. 0. 0. 0.]]\n",
            "\tInput: [0. 0. 1. 0. 0. 0. 0. 0.] \t Output: [[0. 0. 1. 0. 0. 0. 0. 0.]]\n",
            "\tInput: [0. 0. 0. 1. 0. 0. 0. 0.] \t Output: [[0. 0. 0. 1. 0. 0. 0. 0.]]\n",
            "\tInput: [0. 0. 0. 0. 1. 0. 0. 0.] \t Output: [[0. 0. 0. 0. 1. 0. 0. 0.]]\n",
            "\tInput: [0. 0. 0. 0. 0. 1. 0. 0.] \t Output: [[0. 0. 0. 0. 0. 1. 0. 0.]]\n",
            "\tInput: [0. 0. 0. 0. 0. 0. 1. 0.] \t Output: [[0. 0. 0. 0. 0. 0. 1. 0.]]\n",
            "\tInput: [0. 0. 0. 0. 0. 0. 0. 1.] \t Output: [[0. 0. 0. 0. 0. 0. 0. 1.]]\n"
          ],
          "name": "stdout"
        }
      ]
    },
    {
      "cell_type": "code",
      "metadata": {
        "id": "wqqfXIrtnnb5",
        "colab_type": "code",
        "colab": {
          "base_uri": "https://localhost:8080/",
          "height": 561
        },
        "outputId": "decb63ab-4a64-463f-ef19-96f815c84e2e"
      },
      "source": [
        "decoder_hook = AE.decoder_layer.register_forward_hook(inside_decoder)\n",
        "for x in x_test:\n",
        "    print('INPUT: {}'.format(x.cpu().detach().numpy()))\n",
        "    out = AE(features=x.float(),latent_dims=4)\n",
        "    #print(out)\n",
        "decoder_hook.remove() #remove hook after use"
      ],
      "execution_count": 15,
      "outputs": [
        {
          "output_type": "stream",
          "text": [
            "INPUT: [1. 0. 0. 0. 0. 0. 0. 0.]\n",
            "\tInside Linear forward\n",
            "\t output: [[0.99822587 0.9967     0.00337273 0.9975757 ]]\n",
            "\t output rounded to 2 decimals: [[1. 1. 0. 1.]]\n",
            "INPUT: [0. 1. 0. 0. 0. 0. 0. 0.]\n",
            "\tInside Linear forward\n",
            "\t output: [[4.8388448e-03 9.8960018e-01 9.7651826e-04 1.8593514e-03]]\n",
            "\t output rounded to 2 decimals: [[0.   0.99 0.   0.  ]]\n",
            "INPUT: [0. 0. 1. 0. 0. 0. 0. 0.]\n",
            "\tInside Linear forward\n",
            "\t output: [[0.00184063 0.00159922 0.99723285 0.00293759]]\n",
            "\t output rounded to 2 decimals: [[0. 0. 1. 0.]]\n",
            "INPUT: [0. 0. 0. 1. 0. 0. 0. 0.]\n",
            "\tInside Linear forward\n",
            "\t output: [[0.00434178 0.9990497  0.9974759  0.98867387]]\n",
            "\t output rounded to 2 decimals: [[0.   1.   1.   0.99]]\n",
            "INPUT: [0. 0. 0. 0. 1. 0. 0. 0.]\n",
            "\tInside Linear forward\n",
            "\t output: [[0.00173963 0.0042547  0.00108422 0.9953544 ]]\n",
            "\t output rounded to 2 decimals: [[0. 0. 0. 1.]]\n",
            "INPUT: [0. 0. 0. 0. 0. 1. 0. 0.]\n",
            "\tInside Linear forward\n",
            "\t output: [[0.9951035  0.00619558 0.99766135 0.99881727]]\n",
            "\t output rounded to 2 decimals: [[1.   0.01 1.   1.  ]]\n",
            "INPUT: [0. 0. 0. 0. 0. 0. 1. 0.]\n",
            "\tInside Linear forward\n",
            "\t output: [[0.99899465 0.99146515 0.9977519  0.00464102]]\n",
            "\t output rounded to 2 decimals: [[1.   0.99 1.   0.  ]]\n",
            "INPUT: [0. 0. 0. 0. 0. 0. 0. 1.]\n",
            "\tInside Linear forward\n",
            "\t output: [[0.98314524 0.00146618 0.00174504 0.00213943]]\n",
            "\t output rounded to 2 decimals: [[0.98 0.   0.   0.  ]]\n"
          ],
          "name": "stdout"
        }
      ]
    },
    {
      "cell_type": "markdown",
      "metadata": {
        "id": "HpbxetBlk42f",
        "colab_type": "text"
      },
      "source": [
        "## Latent dimensions set to 2"
      ]
    },
    {
      "cell_type": "code",
      "metadata": {
        "id": "TH5aE3fMk42h",
        "colab_type": "code",
        "colab": {
          "base_uri": "https://localhost:8080/",
          "height": 221
        },
        "outputId": "098b6e0f-ad4a-48e0-cd6b-7b1096ac98f7"
      },
      "source": [
        "latent_dims =2\n",
        "AE = Autoencoder(latent_dims=2)\n",
        "AE = AE.to(device)\n",
        "\n",
        "# optimizer object\n",
        "optimizer = torch.optim.Adam(params = AE.parameters(), lr = learning_rate)\n",
        "#criterion = nn.CrossEntropyLoss()    # for target, does not accept a OHE vector\n",
        "criterion = nn.NLLLoss()\n",
        "\n",
        "trainAE(AE,latent_dims=2)"
      ],
      "execution_count": 16,
      "outputs": [
        {
          "output_type": "stream",
          "text": [
            "\n",
            "Epoch 1/2000\tloss=-0.00201\tTest loss: -0.12373\n",
            "Epoch 201/2000\tloss=-0.00672\tTest loss: -0.41296\n",
            "Epoch 401/2000\tloss=-0.00855\tTest loss: -0.52737\n",
            "Epoch 601/2000\tloss=-0.00975\tTest loss: -0.60242\n",
            "Epoch 801/2000\tloss=-0.01140\tTest loss: -0.70205\n",
            "Epoch 1001/2000\tloss=-0.01284\tTest loss: -0.79114\n",
            "Epoch 1201/2000\tloss=-0.01402\tTest loss: -0.86391\n",
            "Epoch 1401/2000\tloss=-0.01477\tTest loss: -0.90926\n",
            "Epoch 1601/2000\tloss=-0.01526\tTest loss: -0.93915\n",
            "Epoch 1801/2000\tloss=-0.01558\tTest loss: -0.95914\n",
            "Training finished!\n"
          ],
          "name": "stdout"
        }
      ]
    },
    {
      "cell_type": "code",
      "metadata": {
        "id": "uGReZl1Lk42q",
        "colab_type": "code",
        "colab": {
          "base_uri": "https://localhost:8080/",
          "height": 170
        },
        "outputId": "49b41d1d-ef39-43cf-86c4-eab11a3b0a8c"
      },
      "source": [
        "print(\"Print prediction results:\")\n",
        "x_test = np.eye(num)[np.arange(num)]                        # Test data (one-hot encoded)\n",
        "x_test = Variable(torch.from_numpy(x_test))\n",
        "x_test = x_test.to(device)\n",
        "#np.set_printoptions(2)\n",
        "for x in x_test:\n",
        "    print(\"\\tInput: {} \\t Output: {}\".format(x.cpu().detach().numpy(), np.round(AE(features=x.float(),latent_dims=2).cpu().detach().numpy(),decimals=2)))"
      ],
      "execution_count": 17,
      "outputs": [
        {
          "output_type": "stream",
          "text": [
            "Print prediction results:\n",
            "\tInput: [1. 0. 0. 0. 0. 0. 0. 0.] \t Output: [[0.96 0.   0.02 0.01 0.01 0.   0.   0.  ]]\n",
            "\tInput: [0. 1. 0. 0. 0. 0. 0. 0.] \t Output: [[0.   0.97 0.   0.   0.01 0.01 0.   0.  ]]\n",
            "\tInput: [0. 0. 1. 0. 0. 0. 0. 0.] \t Output: [[0.01 0.   0.95 0.01 0.   0.   0.02 0.01]]\n",
            "\tInput: [0. 0. 0. 1. 0. 0. 0. 0.] \t Output: [[0.   0.   0.01 0.99 0.   0.   0.   0.  ]]\n",
            "\tInput: [0. 0. 0. 0. 1. 0. 0. 0.] \t Output: [[0.01 0.01 0.   0.   0.98 0.   0.   0.  ]]\n",
            "\tInput: [0. 0. 0. 0. 0. 1. 0. 0.] \t Output: [[0.   0.01 0.   0.   0.   0.98 0.   0.01]]\n",
            "\tInput: [0. 0. 0. 0. 0. 0. 1. 0.] \t Output: [[0.   0.   0.01 0.   0.   0.   0.97 0.01]]\n",
            "\tInput: [0. 0. 0. 0. 0. 0. 0. 1.] \t Output: [[0.   0.   0.   0.   0.   0.01 0.01 0.97]]\n"
          ],
          "name": "stdout"
        }
      ]
    },
    {
      "cell_type": "code",
      "metadata": {
        "id": "sAc7ywu59RUI",
        "colab_type": "code",
        "colab": {
          "base_uri": "https://localhost:8080/",
          "height": 561
        },
        "outputId": "6f089c9b-6c82-403d-b9e6-cfde5f9fbfbf"
      },
      "source": [
        "decoder_hook = AE.decoder_layer.register_forward_hook(inside_decoder)\n",
        "for x in x_test:\n",
        "    print('INPUT: {}'.format(x.cpu().detach().numpy()))\n",
        "    out = AE(features=x.float(),latent_dims=2)\n",
        "    #print(out)\n",
        "decoder_hook.remove() #remove hook after use"
      ],
      "execution_count": 18,
      "outputs": [
        {
          "output_type": "stream",
          "text": [
            "INPUT: [1. 0. 0. 0. 0. 0. 0. 0.]\n",
            "\tInside Linear forward\n",
            "\t output: [[1.9784156e-05 4.0294147e-01]]\n",
            "\t output rounded to 2 decimals: [[0.  0.4]]\n",
            "INPUT: [0. 1. 0. 0. 0. 0. 0. 0.]\n",
            "\tInside Linear forward\n",
            "\t output: [[4.0351558e-01 1.7159140e-05]]\n",
            "\t output rounded to 2 decimals: [[0.4 0. ]]\n",
            "INPUT: [0. 0. 1. 0. 0. 0. 0. 0.]\n",
            "\tInside Linear forward\n",
            "\t output: [[0.41172287 0.78208953]]\n",
            "\t output rounded to 2 decimals: [[0.41 0.78]]\n",
            "INPUT: [0. 0. 0. 1. 0. 0. 0. 0.]\n",
            "\tInside Linear forward\n",
            "\t output: [[2.0215523e-06 9.9999177e-01]]\n",
            "\t output rounded to 2 decimals: [[0. 1.]]\n",
            "INPUT: [0. 0. 0. 0. 1. 0. 0. 0.]\n",
            "\tInside Linear forward\n",
            "\t output: [[2.0881014e-06 1.9952490e-06]]\n",
            "\t output rounded to 2 decimals: [[0. 0.]]\n",
            "INPUT: [0. 0. 0. 0. 0. 1. 0. 0.]\n",
            "\tInside Linear forward\n",
            "\t output: [[9.999976e-01 1.909324e-06]]\n",
            "\t output rounded to 2 decimals: [[1. 0.]]\n",
            "INPUT: [0. 0. 0. 0. 0. 0. 1. 0.]\n",
            "\tInside Linear forward\n",
            "\t output: [[0.9999962  0.99999666]]\n",
            "\t output rounded to 2 decimals: [[1. 1.]]\n",
            "INPUT: [0. 0. 0. 0. 0. 0. 0. 1.]\n",
            "\tInside Linear forward\n",
            "\t output: [[0.9998381  0.43881184]]\n",
            "\t output rounded to 2 decimals: [[1.   0.44]]\n"
          ],
          "name": "stdout"
        }
      ]
    },
    {
      "cell_type": "markdown",
      "metadata": {
        "id": "bKLVl7mjULBq",
        "colab_type": "text"
      },
      "source": [
        "The latent space has too few dimensions to perfectly output OHE vectors."
      ]
    }
  ]
}